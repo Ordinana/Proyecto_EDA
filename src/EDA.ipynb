{
 "cells": [
  {
   "cell_type": "markdown",
   "metadata": {},
   "source": [
    "#### **LIBRERIAS NECESARIAS** PARA TRABAJAR EN EL EDA"
   ]
  },
  {
   "cell_type": "code",
   "execution_count": 2,
   "metadata": {},
   "outputs": [],
   "source": [
    "import pandas as pd\n",
    "import matplotlib.pyplot as plt\n",
    "import plotly.offline as pyo\n",
    "import plotly.graph_objects as go\n",
    "import plotly.io as pio\n",
    "import plotly.express as px\n",
    "import folium\n",
    "import time\n",
    "import os"
   ]
  },
  {
   "cell_type": "markdown",
   "metadata": {},
   "source": [
    "A CONTINUACIÓN, SE CARGARÁ UN **CONJUNTO DE DATOS** (formato .fwf) EXTRAÍDOS DE LA **PÁGINA OFICIAL DE LA** [**DGT**](https://www.dgt.es/menusecundario/dgt-en-cifras/dgt-en-cifras-resultados/dgt-en-cifras-detalle/Microdatos-de-Matriculaciones-de-Vehiculos-mensual/). \n",
    "\n",
    "ÉSTOS **HAN DE SER TRATADOS DE UNA FORMA CONCRETA** (se indica en el [PDF](EDA/src/utils/MATRICULACIONES_MATRABA.pdf)) PARA LA COMPILACIÓN, CARGA Y MONTAJE DE LOS DATOS Y ASÍ PODER CREAR UN DATAFRAME CON LOS MISMOS."
   ]
  },
  {
   "cell_type": "code",
   "execution_count": null,
   "metadata": {},
   "outputs": [
    {
     "name": "stdout",
     "output_type": "stream",
     "text": [
      "<class 'pandas.core.frame.DataFrame'>\n",
      "RangeIndex: 7023034 entries, 0 to 7023033\n",
      "Data columns (total 15 columns):\n",
      " #   Column                        Dtype  \n",
      "---  ------                        -----  \n",
      " 0   FEC_MATRICULA                 int64  \n",
      " 1   MARCA_ITV                     object \n",
      " 2   MODELO_ITV                    object \n",
      " 3   COD_PROCEDENCIA_ITV           object \n",
      " 4   COD_TIPO                      object \n",
      " 5   COD_PROPULSION_ITV            object \n",
      " 6   POTENCIA_ITV                  float64\n",
      " 7   COD_PROVINCIA_MAT             object \n",
      " 8   CODIGO_POSTAL                 int64  \n",
      " 9   SERVICIO                      object \n",
      " 10  MUNICIPIO                     object \n",
      " 11  AUTONOMIA_VEHICULO_ELECTRICO  object \n",
      " 12  MARCA_VEHICULO_BASE           object \n",
      " 13  FABRICANTE_VEHICULO_BASE      object \n",
      " 14  TIPO_ALIMENTACION_ITV         object \n",
      "dtypes: float64(1), int64(2), object(12)\n",
      "memory usage: 803.7+ MB\n"
     ]
    }
   ],
   "source": [
    "# Ruta para leer los ficheros\n",
    "directorio = r'.\\data\\raw'\n",
    "\n",
    "# Definir anchos y nombres de columnas para el dataframe\n",
    "col_widths = [8, 1, 8, 30, 22, 1, 21, 2, 1, 5, 6, 6, 6, 3, 2, 2, 2, 2, 24, 2, 2, 1, 8, 5, 8, 1, 1, 9, 3, 5, 30, 7, 3, 5, 1, 1, 1, 1, 1, 11, 25, 25, 35, 70, 6, 6, 4, 4, 3, 8, 4, 4, 4, 4, 6, 30, 50, 35, 25, 35, 4, 4, 4, 1, 25, 1, 4, 25, 8]\n",
    "col_names = [\n",
    "    'FEC_MATRICULA', 'COD_CLASE_MAT', 'FEC_TRAMITACION', 'MARCA_ITV', 'MODELO_ITV',\n",
    "    'COD_PROCEDENCIA_ITV', 'BASTIDOR_ITV', 'COD_TIPO', 'COD_PROPULSION_ITV', 'CILINDRADA_ITV',\n",
    "    'POTENCIA_ITV', 'TARA', 'PESO_MAX', 'NUM_PLAZAS', 'IND_PRECINTO', 'IND_EMBARGO',\n",
    "    'NUM_TRANSMISIONES', 'NUM_TITULARES', 'LOCALIDAD_VEHICULO', 'COD_PROVINCIA_VEH',\n",
    "    'COD_PROVINCIA_MAT', 'CLAVE_TRAMITE', 'FEC_TRAMITE', 'CODIGO_POSTAL', 'FEC_PRIM_MATRICULACION',\n",
    "    'IND_NUEVO_USADO', 'PERSONA_FISICA_JURIDICA', 'CODIGO_ITV', 'SERVICIO', 'COD_MUNICIPIO_INE_VEH',\n",
    "    'MUNICIPIO', 'KW_ITV', 'NUM_PLAZAS_MAX', 'CO2_ITV', 'RENTING', 'COD_TUTELA', 'COD_POSESION',\n",
    "    'IND_BAJA_DEF', 'IND_BAJA_TEMP', 'IND_SUSTRACCION', 'BAJA_TELEMATICA', 'TIPO_ITV', 'VARIANTE_ITV',\n",
    "    'VERSION_ITV', 'FABRICANTE_ITV', 'MASA_ORDEN_MARCHA_ITV', 'MASA_MAXIMA_TECNICA_ADMISIBLE_ITV',\n",
    "    'CATEGORIA_HOMOLOGACION_EUROPEA_ITV', 'CARROCERIA', 'PLAZAS_PIE', 'NIVEL_EMISIONES_EURO_ITV',\n",
    "    'CONSUMO_WH_KM_ITV', 'CLASIFICACION_REGLAMENTO_VEHICULOS_ITV', 'CATEGORIA_VEHICULO_ELECTRICO',\n",
    "    'AUTONOMIA_VEHICULO_ELECTRICO', 'MARCA_VEHICULO_BASE', 'FABRICANTE_VEHICULO_BASE',\n",
    "    'TIPO_VEHICULO_BASE', 'VARIANTE_VEHICULO_BASE', 'VERSION_VEHICULO_BASE', 'DISTANCIA_EJES_12_ITV',\n",
    "    'VIA_ANTERIOR_ITV', 'VIA_POSTERIOR_ITV', 'TIPO_ALIMENTACION_ITV', 'CONTRASENA_HOMOLOGACION_ITV',\n",
    "    'ECO_INNOVACION_ITV', 'REDUCCION_ECO_ITV', 'CODIGO_ECO_ITV', 'FEC_PROCESO'\n",
    "]\n",
    "\n",
    "# Crear una lista para almacenar cada DataFrame\n",
    "dataframes = []\n",
    "\n",
    "# Leer el archivo de texto\n",
    "for filename in os.listdir(directorio):\n",
    "    fichero = os.path.join(directorio, filename)\n",
    "    df_fichero = pd.read_fwf(fichero, \n",
    "                    widths=col_widths, names=col_names, \n",
    "                    encoding='ISO-8859-1', skiprows=1)\n",
    "    dataframes.append(df_fichero)\n",
    "\n",
    "# Concatenar todos los DataFrames en uno solo\n",
    "raw = pd.concat(dataframes, ignore_index=True)\n",
    "\n",
    "# Eliminar columnas que no necesitamos\n",
    "drop_columnas = [\n",
    "    'COD_CLASE_MAT', 'FEC_TRAMITACION', 'BASTIDOR_ITV', 'CILINDRADA_ITV', 'TARA', 'PESO_MAX', 'NUM_PLAZAS', \n",
    "    'IND_PRECINTO', 'IND_EMBARGO', 'NUM_TRANSMISIONES', 'NUM_TITULARES', 'LOCALIDAD_VEHICULO', 'COD_PROVINCIA_VEH',\n",
    "    'CLAVE_TRAMITE', 'FEC_TRAMITE', 'FEC_PRIM_MATRICULACION', 'IND_NUEVO_USADO', 'PERSONA_FISICA_JURIDICA', \n",
    "    'CODIGO_ITV', 'COD_MUNICIPIO_INE_VEH','KW_ITV', 'NUM_PLAZAS_MAX', 'CO2_ITV', 'RENTING', 'COD_TUTELA', \n",
    "    'COD_POSESION', 'IND_BAJA_DEF', 'IND_BAJA_TEMP', 'IND_SUSTRACCION', 'BAJA_TELEMATICA', 'TIPO_ITV', 'VARIANTE_ITV',\n",
    "    'VERSION_ITV', 'FABRICANTE_ITV', 'MASA_ORDEN_MARCHA_ITV', 'MASA_MAXIMA_TECNICA_ADMISIBLE_ITV',\n",
    "    'CATEGORIA_HOMOLOGACION_EUROPEA_ITV', 'CARROCERIA', 'PLAZAS_PIE', 'NIVEL_EMISIONES_EURO_ITV',\n",
    "    'CONSUMO_WH_KM_ITV', 'CLASIFICACION_REGLAMENTO_VEHICULOS_ITV', 'CATEGORIA_VEHICULO_ELECTRICO',\n",
    "    'TIPO_VEHICULO_BASE', 'VARIANTE_VEHICULO_BASE', 'VERSION_VEHICULO_BASE', 'DISTANCIA_EJES_12_ITV',\n",
    "    'VIA_ANTERIOR_ITV', 'VIA_POSTERIOR_ITV','CONTRASENA_HOMOLOGACION_ITV',\n",
    "    'ECO_INNOVACION_ITV', 'REDUCCION_ECO_ITV', 'CODIGO_ECO_ITV', 'FEC_PROCESO'\n",
    "]\n",
    "\n",
    "# TAN SÓLO CONSERVARÉ LA SIGUIENTES COLUMNAS:\n",
    "\n",
    "# \"FEC_MATRICULA\", \"MARCA_ITV\", \"MODELO_ITV\", \"COD_PROCEDENCIA_ITV\", \"COD_TIPO\", \"COD_PROPULSION_ITV\", \n",
    "# \"POTENCIA_ITV\", \"COD_PROVINCIA_MAT\", \"CODIGO_POSTAL\", \"SERVICIO\", \n",
    "# \"MUNICIPIO\", \"AUTONOMIA_VEHICULO_ELECTRICO\", \"MARCA_VEHICULO_BASE\", \n",
    "# \"FABRICANTE_VEHICULO_BASE\",\"TIPO_ALIMENTACION_ITV\"\n",
    "\n",
    "raw = raw.drop(columns=drop_columnas)\n",
    "time.sleep(1)\n",
    "raw.info()"
   ]
  },
  {
   "cell_type": "markdown",
   "metadata": {},
   "source": [
    "UNA VEZ CARGADOS LOS DATOS, VAMOS RETOCARLOS UN POCO ANTES DE EXPORTARLOS AL CSV"
   ]
  },
  {
   "cell_type": "code",
   "execution_count": 7,
   "metadata": {},
   "outputs": [
    {
     "name": "stdout",
     "output_type": "stream",
     "text": [
      "<class 'pandas.core.series.Series'>\n",
      "Index: 6998786 entries, 0 to 7023033\n",
      "Series name: FEC_MATRICULA\n",
      "Non-Null Count    Dtype         \n",
      "--------------    -----         \n",
      "6998786 non-null  datetime64[ns]\n",
      "dtypes: datetime64[ns](1)\n",
      "memory usage: 106.8 MB\n"
     ]
    }
   ],
   "source": [
    "# Eliminar filas con NaN en la columna de fecha\n",
    "raw = raw.dropna(subset=['FEC_MATRICULA'])\n",
    "raw[\"FEC_MATRICULA\"].info()"
   ]
  },
  {
   "cell_type": "code",
   "execution_count": 8,
   "metadata": {},
   "outputs": [
    {
     "data": {
      "text/html": [
       "<div>\n",
       "<style scoped>\n",
       "    .dataframe tbody tr th:only-of-type {\n",
       "        vertical-align: middle;\n",
       "    }\n",
       "\n",
       "    .dataframe tbody tr th {\n",
       "        vertical-align: top;\n",
       "    }\n",
       "\n",
       "    .dataframe thead th {\n",
       "        text-align: right;\n",
       "    }\n",
       "</style>\n",
       "<table border=\"1\" class=\"dataframe\">\n",
       "  <thead>\n",
       "    <tr style=\"text-align: right;\">\n",
       "      <th></th>\n",
       "      <th>FEC_MATRICULA</th>\n",
       "    </tr>\n",
       "  </thead>\n",
       "  <tbody>\n",
       "    <tr>\n",
       "      <th>0</th>\n",
       "      <td>2020-01-20</td>\n",
       "    </tr>\n",
       "    <tr>\n",
       "      <th>1</th>\n",
       "      <td>2020-01-20</td>\n",
       "    </tr>\n",
       "    <tr>\n",
       "      <th>2</th>\n",
       "      <td>2020-01-20</td>\n",
       "    </tr>\n",
       "    <tr>\n",
       "      <th>3</th>\n",
       "      <td>2020-01-20</td>\n",
       "    </tr>\n",
       "    <tr>\n",
       "      <th>4</th>\n",
       "      <td>2020-01-20</td>\n",
       "    </tr>\n",
       "  </tbody>\n",
       "</table>\n",
       "</div>"
      ],
      "text/plain": [
       "  FEC_MATRICULA\n",
       "0    2020-01-20\n",
       "1    2020-01-20\n",
       "2    2020-01-20\n",
       "3    2020-01-20\n",
       "4    2020-01-20"
      ]
     },
     "execution_count": 8,
     "metadata": {},
     "output_type": "execute_result"
    }
   ],
   "source": [
    "# Convertir columnas de fecha a tipo datetime\n",
    "raw['FEC_MATRICULA'] = pd.to_datetime(raw['FEC_MATRICULA'], format='%d%m%Y', errors='coerce')\n",
    "# Comprobamos\n",
    "raw.loc[:, ['FEC_MATRICULA']].head(5)"
   ]
  },
  {
   "cell_type": "code",
   "execution_count": 9,
   "metadata": {},
   "outputs": [
    {
     "data": {
      "text/html": [
       "<div>\n",
       "<style scoped>\n",
       "    .dataframe tbody tr th:only-of-type {\n",
       "        vertical-align: middle;\n",
       "    }\n",
       "\n",
       "    .dataframe tbody tr th {\n",
       "        vertical-align: top;\n",
       "    }\n",
       "\n",
       "    .dataframe thead th {\n",
       "        text-align: right;\n",
       "    }\n",
       "</style>\n",
       "<table border=\"1\" class=\"dataframe\">\n",
       "  <thead>\n",
       "    <tr style=\"text-align: right;\">\n",
       "      <th></th>\n",
       "      <th>FEC_ANUAL</th>\n",
       "      <th>FEC_MATRICULA</th>\n",
       "    </tr>\n",
       "  </thead>\n",
       "  <tbody>\n",
       "    <tr>\n",
       "      <th>0</th>\n",
       "      <td>2020</td>\n",
       "      <td>2020-01-20</td>\n",
       "    </tr>\n",
       "    <tr>\n",
       "      <th>1</th>\n",
       "      <td>2020</td>\n",
       "      <td>2020-01-20</td>\n",
       "    </tr>\n",
       "    <tr>\n",
       "      <th>2</th>\n",
       "      <td>2020</td>\n",
       "      <td>2020-01-20</td>\n",
       "    </tr>\n",
       "    <tr>\n",
       "      <th>3</th>\n",
       "      <td>2020</td>\n",
       "      <td>2020-01-20</td>\n",
       "    </tr>\n",
       "    <tr>\n",
       "      <th>4</th>\n",
       "      <td>2020</td>\n",
       "      <td>2020-01-20</td>\n",
       "    </tr>\n",
       "  </tbody>\n",
       "</table>\n",
       "</div>"
      ],
      "text/plain": [
       "   FEC_ANUAL FEC_MATRICULA\n",
       "0       2020    2020-01-20\n",
       "1       2020    2020-01-20\n",
       "2       2020    2020-01-20\n",
       "3       2020    2020-01-20\n",
       "4       2020    2020-01-20"
      ]
     },
     "execution_count": 9,
     "metadata": {},
     "output_type": "execute_result"
    }
   ],
   "source": [
    "# Crear columna con tan sólo el año\n",
    "raw[\"FEC_ANUAL\"] = raw[\"FEC_MATRICULA\"].dt.year.astype(int)\n",
    "# Comprobamos\n",
    "raw.loc[:, ['FEC_ANUAL','FEC_MATRICULA']].head(5)"
   ]
  },
  {
   "cell_type": "code",
   "execution_count": 10,
   "metadata": {},
   "outputs": [],
   "source": [
    "# Colocar la columna 'año' en la primera posición\n",
    "columnas = ['FEC_ANUAL'] + [col for col in raw.columns if col != 'FEC_ANUAL']\n",
    "raw = raw[columnas]"
   ]
  },
  {
   "cell_type": "markdown",
   "metadata": {},
   "source": [
    "AHORA ELIMINAMOS LOS NAN DE **\"COD_PROPULSION_ITV\"**, DONDE BUSCAREMOS TODOS LOS **ELECTRICOS**"
   ]
  },
  {
   "cell_type": "code",
   "execution_count": 12,
   "metadata": {},
   "outputs": [
    {
     "name": "stdout",
     "output_type": "stream",
     "text": [
      "<class 'pandas.core.series.Series'>\n",
      "Index: 6761465 entries, 19 to 7023033\n",
      "Series name: COD_PROPULSION_ITV\n",
      "Non-Null Count    Dtype \n",
      "--------------    ----- \n",
      "6761465 non-null  object\n",
      "dtypes: object(1)\n",
      "memory usage: 103.2+ MB\n"
     ]
    }
   ],
   "source": [
    "# Eliminar filas con NaN en la columna del tipo de combustion del vehículo\n",
    "raw = raw.dropna(subset=['COD_PROPULSION_ITV'])\n",
    "raw[\"COD_PROPULSION_ITV\"].info()"
   ]
  },
  {
   "cell_type": "markdown",
   "metadata": {},
   "source": [
    "UNA VEZ TENEMOS LA DATA MODIFICADA SEGÚN NUESTRA NECESIDAD, **EXPORTAMOS A CSV**"
   ]
  },
  {
   "cell_type": "code",
   "execution_count": 13,
   "metadata": {},
   "outputs": [],
   "source": [
    "# Guardamos en fichero csv\n",
    "raw.to_csv(\"data/matriculados_dgt.csv\", index=False)"
   ]
  },
  {
   "cell_type": "markdown",
   "metadata": {},
   "source": [
    "### AHORA **CARGAMOS EL CSV** A UN DATAFRAME Y COMENZAMOS A **TRATAR LOS DATOS** PARA EL ANALISIS!\n",
    "\n",
    "#### Con este primer CSV analizaremos los vehiculos electricos en españa entre 2020 y 2024 y veremos su evolución correspondiente"
   ]
  },
  {
   "cell_type": "code",
   "execution_count": 318,
   "metadata": {},
   "outputs": [
    {
     "name": "stderr",
     "output_type": "stream",
     "text": [
      "C:\\Users\\carlo\\AppData\\Local\\Temp\\ipykernel_46844\\3872864125.py:1: DtypeWarning:\n",
      "\n",
      "Columns (4,6,12,13,14,15) have mixed types. Specify dtype option on import or set low_memory=False.\n",
      "\n"
     ]
    }
   ],
   "source": [
    "df = pd.read_csv(\"data/matriculados_dgt.csv\")"
   ]
  },
  {
   "cell_type": "code",
   "execution_count": 55,
   "metadata": {},
   "outputs": [],
   "source": [
    "# Configurar la plantilla por defecto para las graficas\n",
    "pio.templates.default = \"ggplot2\""
   ]
  },
  {
   "cell_type": "code",
   "execution_count": 320,
   "metadata": {},
   "outputs": [
    {
     "name": "stdout",
     "output_type": "stream",
     "text": [
      "<class 'pandas.core.frame.DataFrame'>\n",
      "RangeIndex: 6761465 entries, 0 to 6761464\n",
      "Data columns (total 16 columns):\n",
      " #   Column                        Dtype  \n",
      "---  ------                        -----  \n",
      " 0   FEC_ANUAL                     int64  \n",
      " 1   FEC_MATRICULA                 object \n",
      " 2   MARCA_ITV                     object \n",
      " 3   MODELO_ITV                    object \n",
      " 4   COD_PROCEDENCIA_ITV           object \n",
      " 5   COD_TIPO                      object \n",
      " 6   COD_PROPULSION_ITV            object \n",
      " 7   POTENCIA_ITV                  float64\n",
      " 8   COD_PROVINCIA_MAT             object \n",
      " 9   CODIGO_POSTAL                 int64  \n",
      " 10  SERVICIO                      object \n",
      " 11  MUNICIPIO                     object \n",
      " 12  AUTONOMIA_VEHICULO_ELECTRICO  object \n",
      " 13  MARCA_VEHICULO_BASE           object \n",
      " 14  FABRICANTE_VEHICULO_BASE      object \n",
      " 15  TIPO_ALIMENTACION_ITV         object \n",
      "dtypes: float64(1), int64(2), object(13)\n",
      "memory usage: 825.4+ MB\n"
     ]
    }
   ],
   "source": [
    "# Mostramos la info(), tambien se puede usar slicing para ello\n",
    "df.iloc[:, :].info()"
   ]
  },
  {
   "cell_type": "markdown",
   "metadata": {},
   "source": [
    "EN EL [PDF](EDA/src/utils/MATRICULACIONES_MATRABA.pdf) SE INDICA QUE, **EL CÓDIGO DE LOS ELECTRICOS** EN LA COLUMNA \"COD_PROPULSION_ITV\" **ES == \"2\"**"
   ]
  },
  {
   "cell_type": "code",
   "execution_count": 321,
   "metadata": {},
   "outputs": [
    {
     "data": {
      "text/plain": [
       "Index([  0.0,   '0',   1.0,   '1',   2.0,   '2',   '6',   6.0, '0.0', '1.0',\n",
       "         7.0,   '7', '2.0',   8.0, '6.0',   '8',   'C', '7.0',   3.0,   '3',\n",
       "         '9',   4.0,   9.0,   'A',   'G',   'B', '8.0',   '4', '4.0',   'O',\n",
       "       '9.0', '3.0',   'D',   'E',   'Ñ'],\n",
       "      dtype='object', name='COD_PROPULSION_ITV')"
      ]
     },
     "execution_count": 321,
     "metadata": {},
     "output_type": "execute_result"
    }
   ],
   "source": [
    "df.loc[:, \"COD_PROPULSION_ITV\"].value_counts().index # Hay que convertir el 2.0 a \"2\" para tener unicamente el \"2\""
   ]
  },
  {
   "cell_type": "code",
   "execution_count": 322,
   "metadata": {},
   "outputs": [
    {
     "data": {
      "text/plain": [
       "Index([  0.0,   '0',   1.0,   '1',   '2',   '6',   6.0, '0.0', '1.0',   7.0,\n",
       "         '7', '2.0',   8.0, '6.0',   '8',   'C', '7.0',   3.0,   '3',   '9',\n",
       "         4.0,   9.0,   'A',   'G',   'B', '8.0',   '4', '4.0',   'O', '9.0',\n",
       "       '3.0',   'D',   'E',   'Ñ'],\n",
       "      dtype='object', name='COD_PROPULSION_ITV')"
      ]
     },
     "execution_count": 322,
     "metadata": {},
     "output_type": "execute_result"
    }
   ],
   "source": [
    "df.loc[:, \"COD_PROPULSION_ITV\"] = df.loc[:, \"COD_PROPULSION_ITV\"].replace(2.0,\"2\") # Reemplazamos\n",
    "df.loc[:, \"COD_PROPULSION_ITV\"].value_counts().index"
   ]
  },
  {
   "cell_type": "markdown",
   "metadata": {},
   "source": [
    "**FILTRAMOS EL DATAFRAME** PARA TENER SÓLAMENTE LOS **VEHÍCULOS ELÉCTRICOS** \"DEL CODIGO 2\""
   ]
  },
  {
   "cell_type": "code",
   "execution_count": 323,
   "metadata": {},
   "outputs": [
    {
     "name": "stdout",
     "output_type": "stream",
     "text": [
      "Existen 270966 vehículos eléctricos entre los datos\n"
     ]
    }
   ],
   "source": [
    "# Filtrado para trabajar SÓLO con vehículos ELÉCTRICOS\n",
    "electricos = df.loc[df.loc[:, \"COD_PROPULSION_ITV\"] == \"2\"]\n",
    "print(\"Existen\",electricos.shape[0], \"vehículos eléctricos entre los datos\")"
   ]
  },
  {
   "cell_type": "code",
   "execution_count": 332,
   "metadata": {},
   "outputs": [
    {
     "data": {
      "application/vnd.plotly.v1+json": {
       "config": {
        "plotlyServerURL": "https://plot.ly"
       },
       "data": [
        {
         "marker": {
          "color": "#538ea3",
          "cornerradius": 30
         },
         "name": "Turismos",
         "text": "177,024",
         "textfont": {
          "color": "black",
          "size": 22
         },
         "textposition": "inside",
         "type": "bar",
         "width": 0.9,
         "x": [
          "Turismos"
         ],
         "y": [
          177024
         ]
        },
        {
         "marker": {
          "color": "#54a79b",
          "cornerradius": 30
         },
         "name": "Motos",
         "text": "37,309",
         "textfont": {
          "color": "black",
          "size": 22
         },
         "textposition": "outside",
         "type": "bar",
         "width": 0.9,
         "x": [
          "Motos"
         ],
         "y": [
          37309
         ]
        },
        {
         "marker": {
          "color": "#74be70",
          "cornerradius": 30
         },
         "name": "Autobuses",
         "text": "1,227",
         "textfont": {
          "color": "black",
          "size": 22
         },
         "textposition": "outside",
         "type": "bar",
         "width": 0.9,
         "x": [
          "Autobuses"
         ],
         "y": [
          1227
         ]
        },
        {
         "marker": {
          "color": "#afda47",
          "cornerradius": 30
         },
         "name": "Camiones",
         "text": "188",
         "textfont": {
          "color": "black",
          "size": 22
         },
         "textposition": "outside",
         "type": "bar",
         "width": 0.9,
         "x": [
          "Camiones"
         ],
         "y": [
          188
         ]
        },
        {
         "marker": {
          "color": "#d1ec3f",
          "cornerradius": 30
         },
         "name": "Ambulancias",
         "text": "181",
         "textfont": {
          "color": "black",
          "size": 22
         },
         "textposition": "outside",
         "type": "bar",
         "width": 0.9,
         "x": [
          "Ambulancias"
         ],
         "y": [
          181
         ]
        }
       ],
       "layout": {
        "barmode": "group",
        "margin": {
         "b": 20,
         "l": 20,
         "r": 20,
         "t": 60
        },
        "showlegend": false,
        "template": {
         "data": {
          "bar": [
           {
            "error_x": {
             "color": "rgb(51,51,51)"
            },
            "error_y": {
             "color": "rgb(51,51,51)"
            },
            "marker": {
             "line": {
              "color": "rgb(237,237,237)",
              "width": 0.5
             },
             "pattern": {
              "fillmode": "overlay",
              "size": 10,
              "solidity": 0.2
             }
            },
            "type": "bar"
           }
          ],
          "barpolar": [
           {
            "marker": {
             "line": {
              "color": "rgb(237,237,237)",
              "width": 0.5
             },
             "pattern": {
              "fillmode": "overlay",
              "size": 10,
              "solidity": 0.2
             }
            },
            "type": "barpolar"
           }
          ],
          "carpet": [
           {
            "aaxis": {
             "endlinecolor": "rgb(51,51,51)",
             "gridcolor": "white",
             "linecolor": "white",
             "minorgridcolor": "white",
             "startlinecolor": "rgb(51,51,51)"
            },
            "baxis": {
             "endlinecolor": "rgb(51,51,51)",
             "gridcolor": "white",
             "linecolor": "white",
             "minorgridcolor": "white",
             "startlinecolor": "rgb(51,51,51)"
            },
            "type": "carpet"
           }
          ],
          "choropleth": [
           {
            "colorbar": {
             "outlinewidth": 0,
             "tickcolor": "rgb(237,237,237)",
             "ticklen": 6,
             "ticks": "inside"
            },
            "type": "choropleth"
           }
          ],
          "contour": [
           {
            "colorbar": {
             "outlinewidth": 0,
             "tickcolor": "rgb(237,237,237)",
             "ticklen": 6,
             "ticks": "inside"
            },
            "colorscale": [
             [
              0,
              "rgb(20,44,66)"
             ],
             [
              1,
              "rgb(90,179,244)"
             ]
            ],
            "type": "contour"
           }
          ],
          "contourcarpet": [
           {
            "colorbar": {
             "outlinewidth": 0,
             "tickcolor": "rgb(237,237,237)",
             "ticklen": 6,
             "ticks": "inside"
            },
            "type": "contourcarpet"
           }
          ],
          "heatmap": [
           {
            "colorbar": {
             "outlinewidth": 0,
             "tickcolor": "rgb(237,237,237)",
             "ticklen": 6,
             "ticks": "inside"
            },
            "colorscale": [
             [
              0,
              "rgb(20,44,66)"
             ],
             [
              1,
              "rgb(90,179,244)"
             ]
            ],
            "type": "heatmap"
           }
          ],
          "heatmapgl": [
           {
            "colorbar": {
             "outlinewidth": 0,
             "tickcolor": "rgb(237,237,237)",
             "ticklen": 6,
             "ticks": "inside"
            },
            "colorscale": [
             [
              0,
              "rgb(20,44,66)"
             ],
             [
              1,
              "rgb(90,179,244)"
             ]
            ],
            "type": "heatmapgl"
           }
          ],
          "histogram": [
           {
            "marker": {
             "pattern": {
              "fillmode": "overlay",
              "size": 10,
              "solidity": 0.2
             }
            },
            "type": "histogram"
           }
          ],
          "histogram2d": [
           {
            "colorbar": {
             "outlinewidth": 0,
             "tickcolor": "rgb(237,237,237)",
             "ticklen": 6,
             "ticks": "inside"
            },
            "colorscale": [
             [
              0,
              "rgb(20,44,66)"
             ],
             [
              1,
              "rgb(90,179,244)"
             ]
            ],
            "type": "histogram2d"
           }
          ],
          "histogram2dcontour": [
           {
            "colorbar": {
             "outlinewidth": 0,
             "tickcolor": "rgb(237,237,237)",
             "ticklen": 6,
             "ticks": "inside"
            },
            "colorscale": [
             [
              0,
              "rgb(20,44,66)"
             ],
             [
              1,
              "rgb(90,179,244)"
             ]
            ],
            "type": "histogram2dcontour"
           }
          ],
          "mesh3d": [
           {
            "colorbar": {
             "outlinewidth": 0,
             "tickcolor": "rgb(237,237,237)",
             "ticklen": 6,
             "ticks": "inside"
            },
            "type": "mesh3d"
           }
          ],
          "parcoords": [
           {
            "line": {
             "colorbar": {
              "outlinewidth": 0,
              "tickcolor": "rgb(237,237,237)",
              "ticklen": 6,
              "ticks": "inside"
             }
            },
            "type": "parcoords"
           }
          ],
          "pie": [
           {
            "automargin": true,
            "type": "pie"
           }
          ],
          "scatter": [
           {
            "fillpattern": {
             "fillmode": "overlay",
             "size": 10,
             "solidity": 0.2
            },
            "type": "scatter"
           }
          ],
          "scatter3d": [
           {
            "line": {
             "colorbar": {
              "outlinewidth": 0,
              "tickcolor": "rgb(237,237,237)",
              "ticklen": 6,
              "ticks": "inside"
             }
            },
            "marker": {
             "colorbar": {
              "outlinewidth": 0,
              "tickcolor": "rgb(237,237,237)",
              "ticklen": 6,
              "ticks": "inside"
             }
            },
            "type": "scatter3d"
           }
          ],
          "scattercarpet": [
           {
            "marker": {
             "colorbar": {
              "outlinewidth": 0,
              "tickcolor": "rgb(237,237,237)",
              "ticklen": 6,
              "ticks": "inside"
             }
            },
            "type": "scattercarpet"
           }
          ],
          "scattergeo": [
           {
            "marker": {
             "colorbar": {
              "outlinewidth": 0,
              "tickcolor": "rgb(237,237,237)",
              "ticklen": 6,
              "ticks": "inside"
             }
            },
            "type": "scattergeo"
           }
          ],
          "scattergl": [
           {
            "marker": {
             "colorbar": {
              "outlinewidth": 0,
              "tickcolor": "rgb(237,237,237)",
              "ticklen": 6,
              "ticks": "inside"
             }
            },
            "type": "scattergl"
           }
          ],
          "scattermapbox": [
           {
            "marker": {
             "colorbar": {
              "outlinewidth": 0,
              "tickcolor": "rgb(237,237,237)",
              "ticklen": 6,
              "ticks": "inside"
             }
            },
            "type": "scattermapbox"
           }
          ],
          "scatterpolar": [
           {
            "marker": {
             "colorbar": {
              "outlinewidth": 0,
              "tickcolor": "rgb(237,237,237)",
              "ticklen": 6,
              "ticks": "inside"
             }
            },
            "type": "scatterpolar"
           }
          ],
          "scatterpolargl": [
           {
            "marker": {
             "colorbar": {
              "outlinewidth": 0,
              "tickcolor": "rgb(237,237,237)",
              "ticklen": 6,
              "ticks": "inside"
             }
            },
            "type": "scatterpolargl"
           }
          ],
          "scatterternary": [
           {
            "marker": {
             "colorbar": {
              "outlinewidth": 0,
              "tickcolor": "rgb(237,237,237)",
              "ticklen": 6,
              "ticks": "inside"
             }
            },
            "type": "scatterternary"
           }
          ],
          "surface": [
           {
            "colorbar": {
             "outlinewidth": 0,
             "tickcolor": "rgb(237,237,237)",
             "ticklen": 6,
             "ticks": "inside"
            },
            "colorscale": [
             [
              0,
              "rgb(20,44,66)"
             ],
             [
              1,
              "rgb(90,179,244)"
             ]
            ],
            "type": "surface"
           }
          ],
          "table": [
           {
            "cells": {
             "fill": {
              "color": "rgb(237,237,237)"
             },
             "line": {
              "color": "white"
             }
            },
            "header": {
             "fill": {
              "color": "rgb(217,217,217)"
             },
             "line": {
              "color": "white"
             }
            },
            "type": "table"
           }
          ]
         },
         "layout": {
          "annotationdefaults": {
           "arrowhead": 0,
           "arrowwidth": 1
          },
          "autotypenumbers": "strict",
          "coloraxis": {
           "colorbar": {
            "outlinewidth": 0,
            "tickcolor": "rgb(237,237,237)",
            "ticklen": 6,
            "ticks": "inside"
           }
          },
          "colorscale": {
           "sequential": [
            [
             0,
             "rgb(20,44,66)"
            ],
            [
             1,
             "rgb(90,179,244)"
            ]
           ],
           "sequentialminus": [
            [
             0,
             "rgb(20,44,66)"
            ],
            [
             1,
             "rgb(90,179,244)"
            ]
           ]
          },
          "colorway": [
           "#F8766D",
           "#A3A500",
           "#00BF7D",
           "#00B0F6",
           "#E76BF3"
          ],
          "font": {
           "color": "rgb(51,51,51)"
          },
          "geo": {
           "bgcolor": "white",
           "lakecolor": "white",
           "landcolor": "rgb(237,237,237)",
           "showlakes": true,
           "showland": true,
           "subunitcolor": "white"
          },
          "hoverlabel": {
           "align": "left"
          },
          "hovermode": "closest",
          "paper_bgcolor": "white",
          "plot_bgcolor": "rgb(237,237,237)",
          "polar": {
           "angularaxis": {
            "gridcolor": "white",
            "linecolor": "white",
            "showgrid": true,
            "tickcolor": "rgb(51,51,51)",
            "ticks": "outside"
           },
           "bgcolor": "rgb(237,237,237)",
           "radialaxis": {
            "gridcolor": "white",
            "linecolor": "white",
            "showgrid": true,
            "tickcolor": "rgb(51,51,51)",
            "ticks": "outside"
           }
          },
          "scene": {
           "xaxis": {
            "backgroundcolor": "rgb(237,237,237)",
            "gridcolor": "white",
            "gridwidth": 2,
            "linecolor": "white",
            "showbackground": true,
            "showgrid": true,
            "tickcolor": "rgb(51,51,51)",
            "ticks": "outside",
            "zerolinecolor": "white"
           },
           "yaxis": {
            "backgroundcolor": "rgb(237,237,237)",
            "gridcolor": "white",
            "gridwidth": 2,
            "linecolor": "white",
            "showbackground": true,
            "showgrid": true,
            "tickcolor": "rgb(51,51,51)",
            "ticks": "outside",
            "zerolinecolor": "white"
           },
           "zaxis": {
            "backgroundcolor": "rgb(237,237,237)",
            "gridcolor": "white",
            "gridwidth": 2,
            "linecolor": "white",
            "showbackground": true,
            "showgrid": true,
            "tickcolor": "rgb(51,51,51)",
            "ticks": "outside",
            "zerolinecolor": "white"
           }
          },
          "shapedefaults": {
           "fillcolor": "black",
           "line": {
            "width": 0
           },
           "opacity": 0.3
          },
          "ternary": {
           "aaxis": {
            "gridcolor": "white",
            "linecolor": "white",
            "showgrid": true,
            "tickcolor": "rgb(51,51,51)",
            "ticks": "outside"
           },
           "baxis": {
            "gridcolor": "white",
            "linecolor": "white",
            "showgrid": true,
            "tickcolor": "rgb(51,51,51)",
            "ticks": "outside"
           },
           "bgcolor": "rgb(237,237,237)",
           "caxis": {
            "gridcolor": "white",
            "linecolor": "white",
            "showgrid": true,
            "tickcolor": "rgb(51,51,51)",
            "ticks": "outside"
           }
          },
          "xaxis": {
           "automargin": true,
           "gridcolor": "white",
           "linecolor": "white",
           "showgrid": true,
           "tickcolor": "rgb(51,51,51)",
           "ticks": "outside",
           "title": {
            "standoff": 15
           },
           "zerolinecolor": "white"
          },
          "yaxis": {
           "automargin": true,
           "gridcolor": "white",
           "linecolor": "white",
           "showgrid": true,
           "tickcolor": "rgb(51,51,51)",
           "ticks": "outside",
           "title": {
            "standoff": 15
           },
           "zerolinecolor": "white"
          }
         }
        },
        "title": {
         "font": {
          "size": 21
         },
         "text": "Rto. de Vehículos Eléctricos comprendidos entre 2020 y 2024"
        },
        "xaxis": {
         "tickfont": {
          "size": 22
         },
         "title": {
          "font": {
           "size": 18
          }
         }
        },
        "yaxis": {
         "autorange": true,
         "title": {
          "font": {
           "size": 18
          }
         },
         "type": "log"
        }
       }
      }
     },
     "metadata": {},
     "output_type": "display_data"
    }
   ],
   "source": [
    "# Vista rápida de algunos tipos de vehiculos que podemos encontrar\n",
    "recuento_vehiculos = {\"Turismos\": electricos.loc[electricos.loc[:,'COD_TIPO'] == \"40\"].shape[0],\n",
    "                            \"Motos\": electricos.loc[electricos.loc[:,'COD_TIPO'] == \"50\"].shape[0],\n",
    "                            \"Autobuses\": electricos.loc[electricos.loc[:,'COD_TIPO'] == \"30\"].shape[0],\n",
    "                            \"Ambulancias\": electricos.loc[electricos.loc[:,'COD_TIPO'] == \"22\"].shape[0],\n",
    "                            \"Camiones\": electricos.loc[electricos.loc[:,'COD_TIPO'] == \"0D\"].shape[0]\n",
    "                            }\n",
    "\n",
    "# Ordenar el diccionario de mayor a menor\n",
    "recuento_vehiculos = dict(sorted(recuento_vehiculos.items(), key=lambda item: item[1], reverse=True))\n",
    "\n",
    "# Crear el gráfico de barras separando cada categoría\n",
    "fig = go.Figure()\n",
    "\n",
    "# Definir colores específicos para cada barra\n",
    "colores = {\n",
    "    \"Turismos\": '#538ea3',\n",
    "    \"Motos\": '#54a79b',\n",
    "    \"Autobuses\": '#74be70',\n",
    "    \"Camiones\": '#afda47',\n",
    "    \"Ambulancias\": '#d1ec3f' \n",
    "}\n",
    "\n",
    "# Umbral para determinar si el texto va dentro o fuera\n",
    "umbral = max(recuento_vehiculos.values()) * 0.6  # 50% del valor máximo como umbral\n",
    "\n",
    "for categoria, valor in recuento_vehiculos.items():\n",
    "    text_position = 'inside' if valor > umbral else 'outside'\n",
    "    \n",
    "    fig.add_trace(go.Bar(\n",
    "        x=[categoria],  # Cada categoría como una entrada separada\n",
    "        y=[valor],\n",
    "        name=categoria,  # Esto permite que cada barra tenga un color diferente por defecto\n",
    "        marker=dict(color=colores[categoria], cornerradius=30),\n",
    "        text=f\"{valor:,.0f}\",  # Formato de millares\n",
    "        textposition=text_position,  # Colocar el texto dentro o fuera dependiendo del umbral\n",
    "        textfont=dict(size=22, color='black'),\n",
    "        width=0.9,\n",
    "    ))\n",
    "\n",
    "# Configurar el diseño del gráfico con menos márgenes y tamaño de fuente ajustado\n",
    "fig.update_layout(\n",
    "    title=\"Rto. de Vehículos Eléctricos comprendidos entre 2020 y 2024\",\n",
    "    title_font_size=21,  # Tamaño del título principal\n",
    "    # xaxis_title=\"Tipos de vehículos\",\n",
    "    xaxis_title_font_size=18,  # Tamaño del título del eje X\n",
    "    # yaxis_title=\"Recuento\",\n",
    "    yaxis_title_font_size=18,  # Tamaño del título del eje Y\n",
    "    barmode=\"group\",\n",
    "    yaxis=dict(type=\"log\", autorange=True),  # Escala logarítmica en el eje Y\n",
    "    xaxis=dict(tickfont=dict(size=22)),\n",
    "    margin=dict(l=20, r=20, t=60, b=20),  # Ajuste de márgenes\n",
    "    showlegend=False\n",
    ")\n",
    "\n",
    "# Mostrar el gráfico\n",
    "fig.show()"
   ]
  },
  {
   "cell_type": "markdown",
   "metadata": {},
   "source": []
  },
  {
   "cell_type": "code",
   "execution_count": 333,
   "metadata": {},
   "outputs": [
    {
     "data": {
      "text/html": [
       "<div>\n",
       "<style scoped>\n",
       "    .dataframe tbody tr th:only-of-type {\n",
       "        vertical-align: middle;\n",
       "    }\n",
       "\n",
       "    .dataframe tbody tr th {\n",
       "        vertical-align: top;\n",
       "    }\n",
       "\n",
       "    .dataframe thead th {\n",
       "        text-align: right;\n",
       "    }\n",
       "</style>\n",
       "<table border=\"1\" class=\"dataframe\">\n",
       "  <thead>\n",
       "    <tr style=\"text-align: right;\">\n",
       "      <th></th>\n",
       "      <th>FEC_ANUAL</th>\n",
       "      <th>TOTAL MATRICULADOS</th>\n",
       "    </tr>\n",
       "  </thead>\n",
       "  <tbody>\n",
       "    <tr>\n",
       "      <th>0</th>\n",
       "      <td>2020</td>\n",
       "      <td>37377</td>\n",
       "    </tr>\n",
       "    <tr>\n",
       "      <th>1</th>\n",
       "      <td>2021</td>\n",
       "      <td>42067</td>\n",
       "    </tr>\n",
       "    <tr>\n",
       "      <th>2</th>\n",
       "      <td>2022</td>\n",
       "      <td>55333</td>\n",
       "    </tr>\n",
       "    <tr>\n",
       "      <th>3</th>\n",
       "      <td>2023</td>\n",
       "      <td>80934</td>\n",
       "    </tr>\n",
       "    <tr>\n",
       "      <th>4</th>\n",
       "      <td>2024</td>\n",
       "      <td>55255</td>\n",
       "    </tr>\n",
       "  </tbody>\n",
       "</table>\n",
       "</div>"
      ],
      "text/plain": [
       "   FEC_ANUAL  TOTAL MATRICULADOS\n",
       "0       2020               37377\n",
       "1       2021               42067\n",
       "2       2022               55333\n",
       "3       2023               80934\n",
       "4       2024               55255"
      ]
     },
     "execution_count": 333,
     "metadata": {},
     "output_type": "execute_result"
    }
   ],
   "source": [
    "electricos.groupby(\"FEC_ANUAL\").size().reset_index(name=\"TOTAL MATRICULADOS\") # .set_index(\"FEC_ANUAL\")"
   ]
  },
  {
   "cell_type": "code",
   "execution_count": 474,
   "metadata": {},
   "outputs": [
    {
     "data": {
      "application/vnd.plotly.v1+json": {
       "config": {
        "plotlyServerURL": "https://plot.ly"
       },
       "data": [
        {
         "marker": {
          "color": "#74be70",
          "cornerradius": 30
         },
         "opacity": 1,
         "text": "37,377",
         "textfont": {
          "color": "black",
          "size": 22
         },
         "textposition": "outside",
         "type": "bar",
         "width": 1,
         "x": [
          2020
         ],
         "y": [
          37377
         ]
        },
        {
         "marker": {
          "color": "#74be70",
          "cornerradius": 30
         },
         "opacity": 1,
         "text": "42,067",
         "textfont": {
          "color": "black",
          "size": 22
         },
         "textposition": "outside",
         "type": "bar",
         "width": 1,
         "x": [
          2021
         ],
         "y": [
          42067
         ]
        },
        {
         "marker": {
          "color": "#74be70",
          "cornerradius": 30
         },
         "opacity": 1,
         "text": "55,333",
         "textfont": {
          "color": "black",
          "size": 22
         },
         "textposition": "outside",
         "type": "bar",
         "width": 1,
         "x": [
          2022
         ],
         "y": [
          55333
         ]
        },
        {
         "marker": {
          "color": "#74be70",
          "cornerradius": 30
         },
         "opacity": 1,
         "text": "80,934",
         "textfont": {
          "color": "black",
          "size": 22
         },
         "textposition": "inside",
         "type": "bar",
         "width": 1,
         "x": [
          2023
         ],
         "y": [
          80934
         ]
        },
        {
         "marker": {
          "color": "#74be70",
          "cornerradius": 30
         },
         "opacity": 0.5,
         "text": "55,255",
         "textfont": {
          "color": "black",
          "size": 22
         },
         "textposition": "outside",
         "type": "bar",
         "width": 1,
         "x": [
          2024
         ],
         "y": [
          55255
         ]
        }
       ],
       "layout": {
        "margin": {
         "b": 20,
         "l": 20,
         "r": 20,
         "t": 50
        },
        "showlegend": false,
        "template": {
         "data": {
          "bar": [
           {
            "error_x": {
             "color": "rgb(51,51,51)"
            },
            "error_y": {
             "color": "rgb(51,51,51)"
            },
            "marker": {
             "line": {
              "color": "rgb(237,237,237)",
              "width": 0.5
             },
             "pattern": {
              "fillmode": "overlay",
              "size": 10,
              "solidity": 0.2
             }
            },
            "type": "bar"
           }
          ],
          "barpolar": [
           {
            "marker": {
             "line": {
              "color": "rgb(237,237,237)",
              "width": 0.5
             },
             "pattern": {
              "fillmode": "overlay",
              "size": 10,
              "solidity": 0.2
             }
            },
            "type": "barpolar"
           }
          ],
          "carpet": [
           {
            "aaxis": {
             "endlinecolor": "rgb(51,51,51)",
             "gridcolor": "white",
             "linecolor": "white",
             "minorgridcolor": "white",
             "startlinecolor": "rgb(51,51,51)"
            },
            "baxis": {
             "endlinecolor": "rgb(51,51,51)",
             "gridcolor": "white",
             "linecolor": "white",
             "minorgridcolor": "white",
             "startlinecolor": "rgb(51,51,51)"
            },
            "type": "carpet"
           }
          ],
          "choropleth": [
           {
            "colorbar": {
             "outlinewidth": 0,
             "tickcolor": "rgb(237,237,237)",
             "ticklen": 6,
             "ticks": "inside"
            },
            "type": "choropleth"
           }
          ],
          "contour": [
           {
            "colorbar": {
             "outlinewidth": 0,
             "tickcolor": "rgb(237,237,237)",
             "ticklen": 6,
             "ticks": "inside"
            },
            "colorscale": [
             [
              0,
              "rgb(20,44,66)"
             ],
             [
              1,
              "rgb(90,179,244)"
             ]
            ],
            "type": "contour"
           }
          ],
          "contourcarpet": [
           {
            "colorbar": {
             "outlinewidth": 0,
             "tickcolor": "rgb(237,237,237)",
             "ticklen": 6,
             "ticks": "inside"
            },
            "type": "contourcarpet"
           }
          ],
          "heatmap": [
           {
            "colorbar": {
             "outlinewidth": 0,
             "tickcolor": "rgb(237,237,237)",
             "ticklen": 6,
             "ticks": "inside"
            },
            "colorscale": [
             [
              0,
              "rgb(20,44,66)"
             ],
             [
              1,
              "rgb(90,179,244)"
             ]
            ],
            "type": "heatmap"
           }
          ],
          "heatmapgl": [
           {
            "colorbar": {
             "outlinewidth": 0,
             "tickcolor": "rgb(237,237,237)",
             "ticklen": 6,
             "ticks": "inside"
            },
            "colorscale": [
             [
              0,
              "rgb(20,44,66)"
             ],
             [
              1,
              "rgb(90,179,244)"
             ]
            ],
            "type": "heatmapgl"
           }
          ],
          "histogram": [
           {
            "marker": {
             "pattern": {
              "fillmode": "overlay",
              "size": 10,
              "solidity": 0.2
             }
            },
            "type": "histogram"
           }
          ],
          "histogram2d": [
           {
            "colorbar": {
             "outlinewidth": 0,
             "tickcolor": "rgb(237,237,237)",
             "ticklen": 6,
             "ticks": "inside"
            },
            "colorscale": [
             [
              0,
              "rgb(20,44,66)"
             ],
             [
              1,
              "rgb(90,179,244)"
             ]
            ],
            "type": "histogram2d"
           }
          ],
          "histogram2dcontour": [
           {
            "colorbar": {
             "outlinewidth": 0,
             "tickcolor": "rgb(237,237,237)",
             "ticklen": 6,
             "ticks": "inside"
            },
            "colorscale": [
             [
              0,
              "rgb(20,44,66)"
             ],
             [
              1,
              "rgb(90,179,244)"
             ]
            ],
            "type": "histogram2dcontour"
           }
          ],
          "mesh3d": [
           {
            "colorbar": {
             "outlinewidth": 0,
             "tickcolor": "rgb(237,237,237)",
             "ticklen": 6,
             "ticks": "inside"
            },
            "type": "mesh3d"
           }
          ],
          "parcoords": [
           {
            "line": {
             "colorbar": {
              "outlinewidth": 0,
              "tickcolor": "rgb(237,237,237)",
              "ticklen": 6,
              "ticks": "inside"
             }
            },
            "type": "parcoords"
           }
          ],
          "pie": [
           {
            "automargin": true,
            "type": "pie"
           }
          ],
          "scatter": [
           {
            "fillpattern": {
             "fillmode": "overlay",
             "size": 10,
             "solidity": 0.2
            },
            "type": "scatter"
           }
          ],
          "scatter3d": [
           {
            "line": {
             "colorbar": {
              "outlinewidth": 0,
              "tickcolor": "rgb(237,237,237)",
              "ticklen": 6,
              "ticks": "inside"
             }
            },
            "marker": {
             "colorbar": {
              "outlinewidth": 0,
              "tickcolor": "rgb(237,237,237)",
              "ticklen": 6,
              "ticks": "inside"
             }
            },
            "type": "scatter3d"
           }
          ],
          "scattercarpet": [
           {
            "marker": {
             "colorbar": {
              "outlinewidth": 0,
              "tickcolor": "rgb(237,237,237)",
              "ticklen": 6,
              "ticks": "inside"
             }
            },
            "type": "scattercarpet"
           }
          ],
          "scattergeo": [
           {
            "marker": {
             "colorbar": {
              "outlinewidth": 0,
              "tickcolor": "rgb(237,237,237)",
              "ticklen": 6,
              "ticks": "inside"
             }
            },
            "type": "scattergeo"
           }
          ],
          "scattergl": [
           {
            "marker": {
             "colorbar": {
              "outlinewidth": 0,
              "tickcolor": "rgb(237,237,237)",
              "ticklen": 6,
              "ticks": "inside"
             }
            },
            "type": "scattergl"
           }
          ],
          "scattermapbox": [
           {
            "marker": {
             "colorbar": {
              "outlinewidth": 0,
              "tickcolor": "rgb(237,237,237)",
              "ticklen": 6,
              "ticks": "inside"
             }
            },
            "type": "scattermapbox"
           }
          ],
          "scatterpolar": [
           {
            "marker": {
             "colorbar": {
              "outlinewidth": 0,
              "tickcolor": "rgb(237,237,237)",
              "ticklen": 6,
              "ticks": "inside"
             }
            },
            "type": "scatterpolar"
           }
          ],
          "scatterpolargl": [
           {
            "marker": {
             "colorbar": {
              "outlinewidth": 0,
              "tickcolor": "rgb(237,237,237)",
              "ticklen": 6,
              "ticks": "inside"
             }
            },
            "type": "scatterpolargl"
           }
          ],
          "scatterternary": [
           {
            "marker": {
             "colorbar": {
              "outlinewidth": 0,
              "tickcolor": "rgb(237,237,237)",
              "ticklen": 6,
              "ticks": "inside"
             }
            },
            "type": "scatterternary"
           }
          ],
          "surface": [
           {
            "colorbar": {
             "outlinewidth": 0,
             "tickcolor": "rgb(237,237,237)",
             "ticklen": 6,
             "ticks": "inside"
            },
            "colorscale": [
             [
              0,
              "rgb(20,44,66)"
             ],
             [
              1,
              "rgb(90,179,244)"
             ]
            ],
            "type": "surface"
           }
          ],
          "table": [
           {
            "cells": {
             "fill": {
              "color": "rgb(237,237,237)"
             },
             "line": {
              "color": "white"
             }
            },
            "header": {
             "fill": {
              "color": "rgb(217,217,217)"
             },
             "line": {
              "color": "white"
             }
            },
            "type": "table"
           }
          ]
         },
         "layout": {
          "annotationdefaults": {
           "arrowhead": 0,
           "arrowwidth": 1
          },
          "autotypenumbers": "strict",
          "coloraxis": {
           "colorbar": {
            "outlinewidth": 0,
            "tickcolor": "rgb(237,237,237)",
            "ticklen": 6,
            "ticks": "inside"
           }
          },
          "colorscale": {
           "sequential": [
            [
             0,
             "rgb(20,44,66)"
            ],
            [
             1,
             "rgb(90,179,244)"
            ]
           ],
           "sequentialminus": [
            [
             0,
             "rgb(20,44,66)"
            ],
            [
             1,
             "rgb(90,179,244)"
            ]
           ]
          },
          "colorway": [
           "#F8766D",
           "#A3A500",
           "#00BF7D",
           "#00B0F6",
           "#E76BF3"
          ],
          "font": {
           "color": "rgb(51,51,51)"
          },
          "geo": {
           "bgcolor": "white",
           "lakecolor": "white",
           "landcolor": "rgb(237,237,237)",
           "showlakes": true,
           "showland": true,
           "subunitcolor": "white"
          },
          "hoverlabel": {
           "align": "left"
          },
          "hovermode": "closest",
          "paper_bgcolor": "white",
          "plot_bgcolor": "rgb(237,237,237)",
          "polar": {
           "angularaxis": {
            "gridcolor": "white",
            "linecolor": "white",
            "showgrid": true,
            "tickcolor": "rgb(51,51,51)",
            "ticks": "outside"
           },
           "bgcolor": "rgb(237,237,237)",
           "radialaxis": {
            "gridcolor": "white",
            "linecolor": "white",
            "showgrid": true,
            "tickcolor": "rgb(51,51,51)",
            "ticks": "outside"
           }
          },
          "scene": {
           "xaxis": {
            "backgroundcolor": "rgb(237,237,237)",
            "gridcolor": "white",
            "gridwidth": 2,
            "linecolor": "white",
            "showbackground": true,
            "showgrid": true,
            "tickcolor": "rgb(51,51,51)",
            "ticks": "outside",
            "zerolinecolor": "white"
           },
           "yaxis": {
            "backgroundcolor": "rgb(237,237,237)",
            "gridcolor": "white",
            "gridwidth": 2,
            "linecolor": "white",
            "showbackground": true,
            "showgrid": true,
            "tickcolor": "rgb(51,51,51)",
            "ticks": "outside",
            "zerolinecolor": "white"
           },
           "zaxis": {
            "backgroundcolor": "rgb(237,237,237)",
            "gridcolor": "white",
            "gridwidth": 2,
            "linecolor": "white",
            "showbackground": true,
            "showgrid": true,
            "tickcolor": "rgb(51,51,51)",
            "ticks": "outside",
            "zerolinecolor": "white"
           }
          },
          "shapedefaults": {
           "fillcolor": "black",
           "line": {
            "width": 0
           },
           "opacity": 0.3
          },
          "ternary": {
           "aaxis": {
            "gridcolor": "white",
            "linecolor": "white",
            "showgrid": true,
            "tickcolor": "rgb(51,51,51)",
            "ticks": "outside"
           },
           "baxis": {
            "gridcolor": "white",
            "linecolor": "white",
            "showgrid": true,
            "tickcolor": "rgb(51,51,51)",
            "ticks": "outside"
           },
           "bgcolor": "rgb(237,237,237)",
           "caxis": {
            "gridcolor": "white",
            "linecolor": "white",
            "showgrid": true,
            "tickcolor": "rgb(51,51,51)",
            "ticks": "outside"
           }
          },
          "xaxis": {
           "automargin": true,
           "gridcolor": "white",
           "linecolor": "white",
           "showgrid": true,
           "tickcolor": "rgb(51,51,51)",
           "ticks": "outside",
           "title": {
            "standoff": 15
           },
           "zerolinecolor": "white"
          },
          "yaxis": {
           "automargin": true,
           "gridcolor": "white",
           "linecolor": "white",
           "showgrid": true,
           "tickcolor": "rgb(51,51,51)",
           "ticks": "outside",
           "title": {
            "standoff": 15
           },
           "zerolinecolor": "white"
          }
         }
        },
        "title": {
         "font": {
          "size": 21
         },
         "text": "Total Vehículos Eléctricos Matriculados por Año."
        },
        "xaxis": {
         "tickfont": {
          "size": 22
         },
         "title": {
          "font": {
           "size": 18
          }
         }
        },
        "yaxis": {
         "autorange": true,
         "tickfont": {
          "size": 15
         },
         "title": {
          "font": {
           "size": 18
          }
         },
         "type": "log"
        }
       }
      }
     },
     "metadata": {},
     "output_type": "display_data"
    }
   ],
   "source": [
    "# Agrupar por año y contar el total de vehículos matriculados\n",
    "df_grouped = electricos.groupby(\"FEC_ANUAL\").size().reset_index(name=\"TOTAL MATRICULADOS\")\n",
    "\n",
    "# Crear el gráfico con barras individuales y una línea que las conecta\n",
    "fig = go.Figure()\n",
    "\n",
    "# Definir un umbral basado en el 80% del valor máximo para determinar la posición del texto\n",
    "umbral = df_grouped[\"TOTAL MATRICULADOS\"].max() * 0.8\n",
    "\n",
    "# Añadir la serie de datos de barras con transparencia para el año 2024 y posicionamiento dinámico del texto\n",
    "for i, row in df_grouped.iterrows():\n",
    "    valor = row[\"TOTAL MATRICULADOS\"]\n",
    "    text_position = 'inside' if valor > umbral else 'outside'\n",
    "    opacity_value = 0.5 if row[\"FEC_ANUAL\"] == 2024 else 1.0\n",
    "    \n",
    "    fig.add_trace(go.Bar(\n",
    "        x=[row[\"FEC_ANUAL\"]],\n",
    "        y=[valor],\n",
    "        marker=dict(color='#74be70', cornerradius=30),\n",
    "        opacity=opacity_value,\n",
    "        width=1,  # Reducir el ancho de las barras para que estén más juntas\n",
    "        text=f\"{valor:,.0f}\",\n",
    "        textposition=text_position,\n",
    "        textfont=dict(size=22, color='black')\n",
    "    ))\n",
    "\n",
    "# # Añadir una línea que conecte los puntos de cada barra\n",
    "# fig.add_trace(go.Scatter(\n",
    "#     x=df_grouped[\"FEC_ANUAL\"],\n",
    "#     y=df_grouped[\"TOTAL MATRICULADOS\"],\n",
    "#     mode='lines+markers',  # Mostrar línea y puntos\n",
    "#     line=dict(color='#2f7b6d', width=3),  # Color y estilo de la línea\n",
    "#     opacity = 0.7,\n",
    "#     marker=dict(size=6),  # Tamaño de los puntos en la línea\n",
    "#     showlegend=False  # Ocultar leyenda\n",
    "# ))\n",
    "\n",
    "# Configurar el diseño del gráfico\n",
    "fig.update_layout(\n",
    "    title=\"Total Vehículos Eléctricos Matriculados por Año.\",\n",
    "    title_font_size=21,\n",
    "    # xaxis_title=\"Año\",\n",
    "    xaxis_title_font_size=18,\n",
    "    # yaxis_title=\"Total Matriculados\",\n",
    "    yaxis_title_font_size=18,\n",
    "    yaxis=dict(type=\"log\", autorange=True, tickfont=dict(size=15)),\n",
    "    xaxis=dict(tickfont=dict(size=22)),\n",
    "    margin=dict(l=20, r=20, t=50, b=20),\n",
    "    showlegend=False\n",
    ")\n",
    "\n",
    "# Mostrar el gráfico\n",
    "fig.show()\n"
   ]
  },
  {
   "cell_type": "code",
   "execution_count": 337,
   "metadata": {},
   "outputs": [
    {
     "data": {
      "application/vnd.plotly.v1+json": {
       "config": {
        "plotlyServerURL": "https://plot.ly"
       },
       "data": [
        {
         "fill": "tozeroy",
         "line": {
          "color": "#54a79b",
          "width": 2
         },
         "mode": "lines+markers+text",
         "text": [
          37377,
          42067,
          55333,
          80934,
          55255
         ],
         "textfont": {
          "color": "black",
          "size": 16
         },
         "textposition": [
          "bottom center",
          "top center",
          "top center",
          "top center",
          "top center"
         ],
         "type": "scatter",
         "x": [
          2020,
          2021,
          2022,
          2023,
          2024
         ],
         "y": [
          37377,
          42067,
          55333,
          80934,
          55255
         ]
        }
       ],
       "layout": {
        "margin": {
         "b": 40,
         "l": 60,
         "r": 60,
         "t": 50
        },
        "showlegend": false,
        "template": {
         "data": {
          "bar": [
           {
            "error_x": {
             "color": "rgb(51,51,51)"
            },
            "error_y": {
             "color": "rgb(51,51,51)"
            },
            "marker": {
             "line": {
              "color": "rgb(237,237,237)",
              "width": 0.5
             },
             "pattern": {
              "fillmode": "overlay",
              "size": 10,
              "solidity": 0.2
             }
            },
            "type": "bar"
           }
          ],
          "barpolar": [
           {
            "marker": {
             "line": {
              "color": "rgb(237,237,237)",
              "width": 0.5
             },
             "pattern": {
              "fillmode": "overlay",
              "size": 10,
              "solidity": 0.2
             }
            },
            "type": "barpolar"
           }
          ],
          "carpet": [
           {
            "aaxis": {
             "endlinecolor": "rgb(51,51,51)",
             "gridcolor": "white",
             "linecolor": "white",
             "minorgridcolor": "white",
             "startlinecolor": "rgb(51,51,51)"
            },
            "baxis": {
             "endlinecolor": "rgb(51,51,51)",
             "gridcolor": "white",
             "linecolor": "white",
             "minorgridcolor": "white",
             "startlinecolor": "rgb(51,51,51)"
            },
            "type": "carpet"
           }
          ],
          "choropleth": [
           {
            "colorbar": {
             "outlinewidth": 0,
             "tickcolor": "rgb(237,237,237)",
             "ticklen": 6,
             "ticks": "inside"
            },
            "type": "choropleth"
           }
          ],
          "contour": [
           {
            "colorbar": {
             "outlinewidth": 0,
             "tickcolor": "rgb(237,237,237)",
             "ticklen": 6,
             "ticks": "inside"
            },
            "colorscale": [
             [
              0,
              "rgb(20,44,66)"
             ],
             [
              1,
              "rgb(90,179,244)"
             ]
            ],
            "type": "contour"
           }
          ],
          "contourcarpet": [
           {
            "colorbar": {
             "outlinewidth": 0,
             "tickcolor": "rgb(237,237,237)",
             "ticklen": 6,
             "ticks": "inside"
            },
            "type": "contourcarpet"
           }
          ],
          "heatmap": [
           {
            "colorbar": {
             "outlinewidth": 0,
             "tickcolor": "rgb(237,237,237)",
             "ticklen": 6,
             "ticks": "inside"
            },
            "colorscale": [
             [
              0,
              "rgb(20,44,66)"
             ],
             [
              1,
              "rgb(90,179,244)"
             ]
            ],
            "type": "heatmap"
           }
          ],
          "heatmapgl": [
           {
            "colorbar": {
             "outlinewidth": 0,
             "tickcolor": "rgb(237,237,237)",
             "ticklen": 6,
             "ticks": "inside"
            },
            "colorscale": [
             [
              0,
              "rgb(20,44,66)"
             ],
             [
              1,
              "rgb(90,179,244)"
             ]
            ],
            "type": "heatmapgl"
           }
          ],
          "histogram": [
           {
            "marker": {
             "pattern": {
              "fillmode": "overlay",
              "size": 10,
              "solidity": 0.2
             }
            },
            "type": "histogram"
           }
          ],
          "histogram2d": [
           {
            "colorbar": {
             "outlinewidth": 0,
             "tickcolor": "rgb(237,237,237)",
             "ticklen": 6,
             "ticks": "inside"
            },
            "colorscale": [
             [
              0,
              "rgb(20,44,66)"
             ],
             [
              1,
              "rgb(90,179,244)"
             ]
            ],
            "type": "histogram2d"
           }
          ],
          "histogram2dcontour": [
           {
            "colorbar": {
             "outlinewidth": 0,
             "tickcolor": "rgb(237,237,237)",
             "ticklen": 6,
             "ticks": "inside"
            },
            "colorscale": [
             [
              0,
              "rgb(20,44,66)"
             ],
             [
              1,
              "rgb(90,179,244)"
             ]
            ],
            "type": "histogram2dcontour"
           }
          ],
          "mesh3d": [
           {
            "colorbar": {
             "outlinewidth": 0,
             "tickcolor": "rgb(237,237,237)",
             "ticklen": 6,
             "ticks": "inside"
            },
            "type": "mesh3d"
           }
          ],
          "parcoords": [
           {
            "line": {
             "colorbar": {
              "outlinewidth": 0,
              "tickcolor": "rgb(237,237,237)",
              "ticklen": 6,
              "ticks": "inside"
             }
            },
            "type": "parcoords"
           }
          ],
          "pie": [
           {
            "automargin": true,
            "type": "pie"
           }
          ],
          "scatter": [
           {
            "fillpattern": {
             "fillmode": "overlay",
             "size": 10,
             "solidity": 0.2
            },
            "type": "scatter"
           }
          ],
          "scatter3d": [
           {
            "line": {
             "colorbar": {
              "outlinewidth": 0,
              "tickcolor": "rgb(237,237,237)",
              "ticklen": 6,
              "ticks": "inside"
             }
            },
            "marker": {
             "colorbar": {
              "outlinewidth": 0,
              "tickcolor": "rgb(237,237,237)",
              "ticklen": 6,
              "ticks": "inside"
             }
            },
            "type": "scatter3d"
           }
          ],
          "scattercarpet": [
           {
            "marker": {
             "colorbar": {
              "outlinewidth": 0,
              "tickcolor": "rgb(237,237,237)",
              "ticklen": 6,
              "ticks": "inside"
             }
            },
            "type": "scattercarpet"
           }
          ],
          "scattergeo": [
           {
            "marker": {
             "colorbar": {
              "outlinewidth": 0,
              "tickcolor": "rgb(237,237,237)",
              "ticklen": 6,
              "ticks": "inside"
             }
            },
            "type": "scattergeo"
           }
          ],
          "scattergl": [
           {
            "marker": {
             "colorbar": {
              "outlinewidth": 0,
              "tickcolor": "rgb(237,237,237)",
              "ticklen": 6,
              "ticks": "inside"
             }
            },
            "type": "scattergl"
           }
          ],
          "scattermapbox": [
           {
            "marker": {
             "colorbar": {
              "outlinewidth": 0,
              "tickcolor": "rgb(237,237,237)",
              "ticklen": 6,
              "ticks": "inside"
             }
            },
            "type": "scattermapbox"
           }
          ],
          "scatterpolar": [
           {
            "marker": {
             "colorbar": {
              "outlinewidth": 0,
              "tickcolor": "rgb(237,237,237)",
              "ticklen": 6,
              "ticks": "inside"
             }
            },
            "type": "scatterpolar"
           }
          ],
          "scatterpolargl": [
           {
            "marker": {
             "colorbar": {
              "outlinewidth": 0,
              "tickcolor": "rgb(237,237,237)",
              "ticklen": 6,
              "ticks": "inside"
             }
            },
            "type": "scatterpolargl"
           }
          ],
          "scatterternary": [
           {
            "marker": {
             "colorbar": {
              "outlinewidth": 0,
              "tickcolor": "rgb(237,237,237)",
              "ticklen": 6,
              "ticks": "inside"
             }
            },
            "type": "scatterternary"
           }
          ],
          "surface": [
           {
            "colorbar": {
             "outlinewidth": 0,
             "tickcolor": "rgb(237,237,237)",
             "ticklen": 6,
             "ticks": "inside"
            },
            "colorscale": [
             [
              0,
              "rgb(20,44,66)"
             ],
             [
              1,
              "rgb(90,179,244)"
             ]
            ],
            "type": "surface"
           }
          ],
          "table": [
           {
            "cells": {
             "fill": {
              "color": "rgb(237,237,237)"
             },
             "line": {
              "color": "white"
             }
            },
            "header": {
             "fill": {
              "color": "rgb(217,217,217)"
             },
             "line": {
              "color": "white"
             }
            },
            "type": "table"
           }
          ]
         },
         "layout": {
          "annotationdefaults": {
           "arrowhead": 0,
           "arrowwidth": 1
          },
          "autotypenumbers": "strict",
          "coloraxis": {
           "colorbar": {
            "outlinewidth": 0,
            "tickcolor": "rgb(237,237,237)",
            "ticklen": 6,
            "ticks": "inside"
           }
          },
          "colorscale": {
           "sequential": [
            [
             0,
             "rgb(20,44,66)"
            ],
            [
             1,
             "rgb(90,179,244)"
            ]
           ],
           "sequentialminus": [
            [
             0,
             "rgb(20,44,66)"
            ],
            [
             1,
             "rgb(90,179,244)"
            ]
           ]
          },
          "colorway": [
           "#F8766D",
           "#A3A500",
           "#00BF7D",
           "#00B0F6",
           "#E76BF3"
          ],
          "font": {
           "color": "rgb(51,51,51)"
          },
          "geo": {
           "bgcolor": "white",
           "lakecolor": "white",
           "landcolor": "rgb(237,237,237)",
           "showlakes": true,
           "showland": true,
           "subunitcolor": "white"
          },
          "hoverlabel": {
           "align": "left"
          },
          "hovermode": "closest",
          "paper_bgcolor": "white",
          "plot_bgcolor": "rgb(237,237,237)",
          "polar": {
           "angularaxis": {
            "gridcolor": "white",
            "linecolor": "white",
            "showgrid": true,
            "tickcolor": "rgb(51,51,51)",
            "ticks": "outside"
           },
           "bgcolor": "rgb(237,237,237)",
           "radialaxis": {
            "gridcolor": "white",
            "linecolor": "white",
            "showgrid": true,
            "tickcolor": "rgb(51,51,51)",
            "ticks": "outside"
           }
          },
          "scene": {
           "xaxis": {
            "backgroundcolor": "rgb(237,237,237)",
            "gridcolor": "white",
            "gridwidth": 2,
            "linecolor": "white",
            "showbackground": true,
            "showgrid": true,
            "tickcolor": "rgb(51,51,51)",
            "ticks": "outside",
            "zerolinecolor": "white"
           },
           "yaxis": {
            "backgroundcolor": "rgb(237,237,237)",
            "gridcolor": "white",
            "gridwidth": 2,
            "linecolor": "white",
            "showbackground": true,
            "showgrid": true,
            "tickcolor": "rgb(51,51,51)",
            "ticks": "outside",
            "zerolinecolor": "white"
           },
           "zaxis": {
            "backgroundcolor": "rgb(237,237,237)",
            "gridcolor": "white",
            "gridwidth": 2,
            "linecolor": "white",
            "showbackground": true,
            "showgrid": true,
            "tickcolor": "rgb(51,51,51)",
            "ticks": "outside",
            "zerolinecolor": "white"
           }
          },
          "shapedefaults": {
           "fillcolor": "black",
           "line": {
            "width": 0
           },
           "opacity": 0.3
          },
          "ternary": {
           "aaxis": {
            "gridcolor": "white",
            "linecolor": "white",
            "showgrid": true,
            "tickcolor": "rgb(51,51,51)",
            "ticks": "outside"
           },
           "baxis": {
            "gridcolor": "white",
            "linecolor": "white",
            "showgrid": true,
            "tickcolor": "rgb(51,51,51)",
            "ticks": "outside"
           },
           "bgcolor": "rgb(237,237,237)",
           "caxis": {
            "gridcolor": "white",
            "linecolor": "white",
            "showgrid": true,
            "tickcolor": "rgb(51,51,51)",
            "ticks": "outside"
           }
          },
          "xaxis": {
           "automargin": true,
           "gridcolor": "white",
           "linecolor": "white",
           "showgrid": true,
           "tickcolor": "rgb(51,51,51)",
           "ticks": "outside",
           "title": {
            "standoff": 15
           },
           "zerolinecolor": "white"
          },
          "yaxis": {
           "automargin": true,
           "gridcolor": "white",
           "linecolor": "white",
           "showgrid": true,
           "tickcolor": "rgb(51,51,51)",
           "ticks": "outside",
           "title": {
            "standoff": 15
           },
           "zerolinecolor": "white"
          }
         }
        },
        "title": {
         "font": {
          "size": 24
         },
         "text": "Total de Vehículos Eléctricos Matriculados por Año"
        },
        "xaxis": {
         "dtick": 1,
         "range": [
          2019.85,
          2024.15
         ],
         "tickfont": {
          "size": 18
         },
         "title": {
          "font": {
           "size": 18
          },
          "text": "Año"
         }
        },
        "yaxis": {
         "autorange": true,
         "range": [
          0,
          97120.8
         ],
         "title": {
          "font": {
           "size": 18
          },
          "text": "Total Matriculados"
         },
         "type": "log"
        }
       }
      }
     },
     "metadata": {},
     "output_type": "display_data"
    }
   ],
   "source": [
    "# Agrupar por año y contar el total de vehículos matriculados\n",
    "df_grouped = electricos.groupby(\"FEC_ANUAL\").size().reset_index(name=\"TOTAL MATRICULADOS\")\n",
    "\n",
    "# Crear el gráfico de área\n",
    "fig = go.Figure()\n",
    "\n",
    "# Definir un umbral basado en el 80% del valor máximo para determinar la posición del texto\n",
    "umbral = df_grouped[\"TOTAL MATRICULADOS\"].max() * 0.8\n",
    "\n",
    "# Añadir la serie de datos con el área sombreada y posicionamiento dinámico del texto\n",
    "fig.add_trace(go.Scatter(\n",
    "    x=df_grouped[\"FEC_ANUAL\"],  # Año de matriculación en el eje X\n",
    "    y=df_grouped[\"TOTAL MATRICULADOS\"],  # Total de vehículos matriculados en el eje Y\n",
    "    mode='lines+markers+text',  # Muestra la línea, los puntos y los valores\n",
    "    line=dict(color='#54a79b', width=2),  # Color y estilo de la línea\n",
    "    fill='tozeroy',  # Rellena el área bajo la línea\n",
    "    text=df_grouped[\"TOTAL MATRICULADOS\"],  # Texto con el valor de cada punto\n",
    "    textposition=[\n",
    "        'top center' if i == df_grouped[\"TOTAL MATRICULADOS\"].idxmax() else \n",
    "        ('bottom center' if i == df_grouped[\"TOTAL MATRICULADOS\"].idxmin() else \n",
    "         'middle right' if val > umbral else 'top center')\n",
    "        for i, val in enumerate(df_grouped[\"TOTAL MATRICULADOS\"])\n",
    "    ],  # Posicionar el texto de acuerdo con el umbral y los extremos\n",
    "    textfont=dict(size=16, color='black')\n",
    "))\n",
    "\n",
    "# Configurar el diseño del gráfico\n",
    "fig.update_layout(\n",
    "    title=\"Total de Vehículos Eléctricos Matriculados por Año\",\n",
    "    title_font_size=24,  # Tamaño del título principal\n",
    "    xaxis_title=\"Año\",\n",
    "    xaxis_title_font_size=18,  # Tamaño del título del eje X\n",
    "    yaxis_title=\"Total Matriculados\",\n",
    "    yaxis_title_font_size=18,  # Tamaño del título del eje Y\n",
    "    xaxis=dict(\n",
    "        tickfont=dict(size=18), \n",
    "        dtick=1,\n",
    "        range=[df_grouped[\"FEC_ANUAL\"].min() - 0.15, df_grouped[\"FEC_ANUAL\"].max() + 0.15]  # Extiende el rango del eje X\n",
    "    ), \n",
    "    yaxis=dict(\n",
    "        range=[0, df_grouped[\"TOTAL MATRICULADOS\"].max() * 1.2],  # Ajusta el rango del eje Y para hacerlo más plano\n",
    "        type=\"log\",\n",
    "        autorange=True  # Desactivar el ajuste automático del rango\n",
    "    ),\n",
    "    margin=dict(l=60, r=60, t=50, b=40),  # Ajuste de márgenes para reducir espacio en blanco\n",
    "    showlegend=False  # Ocultar la leyenda\n",
    ")\n",
    "\n",
    "# Mostrar el gráfico\n",
    "fig.show()\n"
   ]
  },
  {
   "cell_type": "markdown",
   "metadata": {},
   "source": [
    "### Objetivos Agenda 2030"
   ]
  },
  {
   "cell_type": "markdown",
   "metadata": {},
   "source": [
    "#### Con el siguiente CSV haremos la comparativa del **Total de Vehiculos Eléctricos** matriculados entre diferentes paises en más rango de años"
   ]
  },
  {
   "cell_type": "code",
   "execution_count": 11,
   "metadata": {},
   "outputs": [],
   "source": [
    "elec_paises = pd.read_csv(\"data/vehiculos_electricos_country_data.csv\")"
   ]
  },
  {
   "cell_type": "code",
   "execution_count": 12,
   "metadata": {},
   "outputs": [
    {
     "name": "stdout",
     "output_type": "stream",
     "text": [
      "<class 'pandas.core.frame.DataFrame'>\n",
      "RangeIndex: 11 entries, 0 to 10\n",
      "Data columns (total 7 columns):\n",
      " #   Column                    Non-Null Count  Dtype  \n",
      "---  ------                    --------------  -----  \n",
      " 0   pais                      11 non-null     object \n",
      " 1   total_vehiculos           11 non-null     int64  \n",
      " 2   vehiculos_electricos      11 non-null     int64  \n",
      " 3   representa_electricos(%)  11 non-null     float64\n",
      " 4   puntos_recarga            11 non-null     int64  \n",
      " 5   lat                       11 non-null     float64\n",
      " 6   lon                       11 non-null     float64\n",
      "dtypes: float64(3), int64(3), object(1)\n",
      "memory usage: 748.0+ bytes\n"
     ]
    }
   ],
   "source": [
    "elec_paises.info()"
   ]
  },
  {
   "cell_type": "code",
   "execution_count": 14,
   "metadata": {},
   "outputs": [
    {
     "data": {
      "text/html": [
       "<div>\n",
       "<style scoped>\n",
       "    .dataframe tbody tr th:only-of-type {\n",
       "        vertical-align: middle;\n",
       "    }\n",
       "\n",
       "    .dataframe tbody tr th {\n",
       "        vertical-align: top;\n",
       "    }\n",
       "\n",
       "    .dataframe thead th {\n",
       "        text-align: right;\n",
       "    }\n",
       "</style>\n",
       "<table border=\"1\" class=\"dataframe\">\n",
       "  <thead>\n",
       "    <tr style=\"text-align: right;\">\n",
       "      <th></th>\n",
       "      <th>pais</th>\n",
       "      <th>total_vehiculos</th>\n",
       "      <th>vehiculos_electricos</th>\n",
       "      <th>representa_electricos(%)</th>\n",
       "      <th>puntos_recarga</th>\n",
       "      <th>lat</th>\n",
       "      <th>lon</th>\n",
       "    </tr>\n",
       "  </thead>\n",
       "  <tbody>\n",
       "    <tr>\n",
       "      <th>0</th>\n",
       "      <td>Noruega</td>\n",
       "      <td>2900000</td>\n",
       "      <td>754303</td>\n",
       "      <td>26.00</td>\n",
       "      <td>22000</td>\n",
       "      <td>60.472000</td>\n",
       "      <td>8.468900</td>\n",
       "    </tr>\n",
       "    <tr>\n",
       "      <th>1</th>\n",
       "      <td>Países Bajos</td>\n",
       "      <td>9100000</td>\n",
       "      <td>400000</td>\n",
       "      <td>4.40</td>\n",
       "      <td>100000</td>\n",
       "      <td>52.132600</td>\n",
       "      <td>5.291300</td>\n",
       "    </tr>\n",
       "    <tr>\n",
       "      <th>2</th>\n",
       "      <td>Alemania</td>\n",
       "      <td>48500000</td>\n",
       "      <td>1200000</td>\n",
       "      <td>2.50</td>\n",
       "      <td>80000</td>\n",
       "      <td>51.165700</td>\n",
       "      <td>10.451500</td>\n",
       "    </tr>\n",
       "    <tr>\n",
       "      <th>3</th>\n",
       "      <td>Francia</td>\n",
       "      <td>39000000</td>\n",
       "      <td>800000</td>\n",
       "      <td>2.05</td>\n",
       "      <td>75000</td>\n",
       "      <td>46.603400</td>\n",
       "      <td>1.888300</td>\n",
       "    </tr>\n",
       "    <tr>\n",
       "      <th>4</th>\n",
       "      <td>Reino Unido</td>\n",
       "      <td>33000000</td>\n",
       "      <td>700000</td>\n",
       "      <td>2.10</td>\n",
       "      <td>50000</td>\n",
       "      <td>55.378100</td>\n",
       "      <td>-3.436000</td>\n",
       "    </tr>\n",
       "    <tr>\n",
       "      <th>5</th>\n",
       "      <td>Suecia</td>\n",
       "      <td>5200000</td>\n",
       "      <td>350000</td>\n",
       "      <td>6.70</td>\n",
       "      <td>30000</td>\n",
       "      <td>60.128200</td>\n",
       "      <td>18.643500</td>\n",
       "    </tr>\n",
       "    <tr>\n",
       "      <th>6</th>\n",
       "      <td>Dinamarca</td>\n",
       "      <td>2800000</td>\n",
       "      <td>100000</td>\n",
       "      <td>3.60</td>\n",
       "      <td>10500</td>\n",
       "      <td>56.263900</td>\n",
       "      <td>9.501800</td>\n",
       "    </tr>\n",
       "    <tr>\n",
       "      <th>7</th>\n",
       "      <td>España</td>\n",
       "      <td>30720000</td>\n",
       "      <td>220000</td>\n",
       "      <td>0.71</td>\n",
       "      <td>32500</td>\n",
       "      <td>40.463700</td>\n",
       "      <td>-3.749200</td>\n",
       "    </tr>\n",
       "    <tr>\n",
       "      <th>8</th>\n",
       "      <td>Italia</td>\n",
       "      <td>39500000</td>\n",
       "      <td>150000</td>\n",
       "      <td>0.38</td>\n",
       "      <td>54000</td>\n",
       "      <td>41.871900</td>\n",
       "      <td>12.567400</td>\n",
       "    </tr>\n",
       "    <tr>\n",
       "      <th>9</th>\n",
       "      <td>Portugal</td>\n",
       "      <td>5500000</td>\n",
       "      <td>100000</td>\n",
       "      <td>1.80</td>\n",
       "      <td>8500</td>\n",
       "      <td>39.399900</td>\n",
       "      <td>-8.224500</td>\n",
       "    </tr>\n",
       "    <tr>\n",
       "      <th>10</th>\n",
       "      <td>Austria</td>\n",
       "      <td>6000000</td>\n",
       "      <td>120000</td>\n",
       "      <td>2.00</td>\n",
       "      <td>40000</td>\n",
       "      <td>47.516231</td>\n",
       "      <td>14.550072</td>\n",
       "    </tr>\n",
       "  </tbody>\n",
       "</table>\n",
       "</div>"
      ],
      "text/plain": [
       "            pais  total_vehiculos  vehiculos_electricos  \\\n",
       "0        Noruega          2900000                754303   \n",
       "1   Países Bajos          9100000                400000   \n",
       "2       Alemania         48500000               1200000   \n",
       "3        Francia         39000000                800000   \n",
       "4    Reino Unido         33000000                700000   \n",
       "5         Suecia          5200000                350000   \n",
       "6      Dinamarca          2800000                100000   \n",
       "7         España         30720000                220000   \n",
       "8         Italia         39500000                150000   \n",
       "9       Portugal          5500000                100000   \n",
       "10       Austria          6000000                120000   \n",
       "\n",
       "    representa_electricos(%)  puntos_recarga        lat        lon  \n",
       "0                      26.00           22000  60.472000   8.468900  \n",
       "1                       4.40          100000  52.132600   5.291300  \n",
       "2                       2.50           80000  51.165700  10.451500  \n",
       "3                       2.05           75000  46.603400   1.888300  \n",
       "4                       2.10           50000  55.378100  -3.436000  \n",
       "5                       6.70           30000  60.128200  18.643500  \n",
       "6                       3.60           10500  56.263900   9.501800  \n",
       "7                       0.71           32500  40.463700  -3.749200  \n",
       "8                       0.38           54000  41.871900  12.567400  \n",
       "9                       1.80            8500  39.399900  -8.224500  \n",
       "10                      2.00           40000  47.516231  14.550072  "
      ]
     },
     "execution_count": 14,
     "metadata": {},
     "output_type": "execute_result"
    }
   ],
   "source": [
    "elec_paises"
   ]
  },
  {
   "cell_type": "code",
   "execution_count": 25,
   "metadata": {},
   "outputs": [
    {
     "data": {
      "text/html": [
       "<div style=\"width:100%;\"><div style=\"position:relative;width:100%;height:0;padding-bottom:60%;\"><span style=\"color:#565656\">Make this Notebook Trusted to load map: File -> Trust Notebook</span><iframe srcdoc=\"&lt;!DOCTYPE html&gt;\n",
       "&lt;html&gt;\n",
       "&lt;head&gt;\n",
       "    \n",
       "    &lt;meta http-equiv=&quot;content-type&quot; content=&quot;text/html; charset=UTF-8&quot; /&gt;\n",
       "    \n",
       "        &lt;script&gt;\n",
       "            L_NO_TOUCH = false;\n",
       "            L_DISABLE_3D = false;\n",
       "        &lt;/script&gt;\n",
       "    \n",
       "    &lt;style&gt;html, body {width: 100%;height: 100%;margin: 0;padding: 0;}&lt;/style&gt;\n",
       "    &lt;style&gt;#map {position:absolute;top:0;bottom:0;right:0;left:0;}&lt;/style&gt;\n",
       "    &lt;script src=&quot;https://cdn.jsdelivr.net/npm/leaflet@1.9.3/dist/leaflet.js&quot;&gt;&lt;/script&gt;\n",
       "    &lt;script src=&quot;https://code.jquery.com/jquery-3.7.1.min.js&quot;&gt;&lt;/script&gt;\n",
       "    &lt;script src=&quot;https://cdn.jsdelivr.net/npm/bootstrap@5.2.2/dist/js/bootstrap.bundle.min.js&quot;&gt;&lt;/script&gt;\n",
       "    &lt;script src=&quot;https://cdnjs.cloudflare.com/ajax/libs/Leaflet.awesome-markers/2.0.2/leaflet.awesome-markers.js&quot;&gt;&lt;/script&gt;\n",
       "    &lt;link rel=&quot;stylesheet&quot; href=&quot;https://cdn.jsdelivr.net/npm/leaflet@1.9.3/dist/leaflet.css&quot;/&gt;\n",
       "    &lt;link rel=&quot;stylesheet&quot; href=&quot;https://cdn.jsdelivr.net/npm/bootstrap@5.2.2/dist/css/bootstrap.min.css&quot;/&gt;\n",
       "    &lt;link rel=&quot;stylesheet&quot; href=&quot;https://netdna.bootstrapcdn.com/bootstrap/3.0.0/css/bootstrap-glyphicons.css&quot;/&gt;\n",
       "    &lt;link rel=&quot;stylesheet&quot; href=&quot;https://cdn.jsdelivr.net/npm/@fortawesome/fontawesome-free@6.2.0/css/all.min.css&quot;/&gt;\n",
       "    &lt;link rel=&quot;stylesheet&quot; href=&quot;https://cdnjs.cloudflare.com/ajax/libs/Leaflet.awesome-markers/2.0.2/leaflet.awesome-markers.css&quot;/&gt;\n",
       "    &lt;link rel=&quot;stylesheet&quot; href=&quot;https://cdn.jsdelivr.net/gh/python-visualization/folium/folium/templates/leaflet.awesome.rotate.min.css&quot;/&gt;\n",
       "    \n",
       "            &lt;meta name=&quot;viewport&quot; content=&quot;width=device-width,\n",
       "                initial-scale=1.0, maximum-scale=1.0, user-scalable=no&quot; /&gt;\n",
       "            &lt;style&gt;\n",
       "                #map_e1f01cf0d83bc85dc2e3c72b7dacf3d0 {\n",
       "                    position: relative;\n",
       "                    width: 100.0%;\n",
       "                    height: 100.0%;\n",
       "                    left: 0.0%;\n",
       "                    top: 0.0%;\n",
       "                }\n",
       "                .leaflet-container { font-size: 1rem; }\n",
       "            &lt;/style&gt;\n",
       "        \n",
       "&lt;/head&gt;\n",
       "&lt;body&gt;\n",
       "    \n",
       "    \n",
       "            &lt;div class=&quot;folium-map&quot; id=&quot;map_e1f01cf0d83bc85dc2e3c72b7dacf3d0&quot; &gt;&lt;/div&gt;\n",
       "        \n",
       "&lt;/body&gt;\n",
       "&lt;script&gt;\n",
       "    \n",
       "    \n",
       "            var map_e1f01cf0d83bc85dc2e3c72b7dacf3d0 = L.map(\n",
       "                &quot;map_e1f01cf0d83bc85dc2e3c72b7dacf3d0&quot;,\n",
       "                {\n",
       "                    center: [54.526, 15.2551],\n",
       "                    crs: L.CRS.EPSG3857,\n",
       "                    zoom: 3.5,\n",
       "                    zoomControl: true,\n",
       "                    preferCanvas: false,\n",
       "                }\n",
       "            );\n",
       "\n",
       "            \n",
       "\n",
       "        \n",
       "    \n",
       "            var tile_layer_c09fb4672050299301508aff1dc014ea = L.tileLayer(\n",
       "                &quot;https://{s}.basemaps.cartocdn.com/light_all/{z}/{x}/{y}{r}.png&quot;,\n",
       "                {&quot;attribution&quot;: &quot;Map tiles by Stamen Design&quot;, &quot;detectRetina&quot;: false, &quot;maxNativeZoom&quot;: 20, &quot;maxZoom&quot;: 20, &quot;minZoom&quot;: 0, &quot;noWrap&quot;: false, &quot;opacity&quot;: 1, &quot;subdomains&quot;: &quot;abcd&quot;, &quot;tms&quot;: false}\n",
       "            );\n",
       "        \n",
       "    \n",
       "            tile_layer_c09fb4672050299301508aff1dc014ea.addTo(map_e1f01cf0d83bc85dc2e3c72b7dacf3d0);\n",
       "        \n",
       "    \n",
       "            var circle_marker_d1ea3615f2aa05859aca570a52663b9b = L.circleMarker(\n",
       "                [60.472, 8.4689],\n",
       "                {&quot;bubblingMouseEvents&quot;: true, &quot;color&quot;: &quot;#74be70&quot;, &quot;dashArray&quot;: null, &quot;dashOffset&quot;: null, &quot;fill&quot;: true, &quot;fillColor&quot;: &quot;#74be70&quot;, &quot;fillOpacity&quot;: 0.6, &quot;fillRule&quot;: &quot;evenodd&quot;, &quot;lineCap&quot;: &quot;round&quot;, &quot;lineJoin&quot;: &quot;round&quot;, &quot;opacity&quot;: 1.0, &quot;radius&quot;: 33.61456542505157, &quot;stroke&quot;: true, &quot;weight&quot;: 2}\n",
       "            ).addTo(map_e1f01cf0d83bc85dc2e3c72b7dacf3d0);\n",
       "        \n",
       "    \n",
       "            circle_marker_d1ea3615f2aa05859aca570a52663b9b.bindTooltip(\n",
       "                `&lt;div&gt;\n",
       "                     Noruega: 754303 vehículos eléctricos\n",
       "                 &lt;/div&gt;`,\n",
       "                {&quot;sticky&quot;: true}\n",
       "            );\n",
       "        \n",
       "    \n",
       "            var circle_marker_9eb9af771153146a90b616ec3bd4a97d = L.circleMarker(\n",
       "                [52.1326, 5.2913],\n",
       "                {&quot;bubblingMouseEvents&quot;: true, &quot;color&quot;: &quot;#74be70&quot;, &quot;dashArray&quot;: null, &quot;dashOffset&quot;: null, &quot;fill&quot;: true, &quot;fillColor&quot;: &quot;#74be70&quot;, &quot;fillOpacity&quot;: 0.6, &quot;fillRule&quot;: &quot;evenodd&quot;, &quot;lineCap&quot;: &quot;round&quot;, &quot;lineJoin&quot;: &quot;round&quot;, &quot;opacity&quot;: 1.0, &quot;radius&quot;: 22.97396709994069, &quot;stroke&quot;: true, &quot;weight&quot;: 2}\n",
       "            ).addTo(map_e1f01cf0d83bc85dc2e3c72b7dacf3d0);\n",
       "        \n",
       "    \n",
       "            circle_marker_9eb9af771153146a90b616ec3bd4a97d.bindTooltip(\n",
       "                `&lt;div&gt;\n",
       "                     Países Bajos: 400000 vehículos eléctricos\n",
       "                 &lt;/div&gt;`,\n",
       "                {&quot;sticky&quot;: true}\n",
       "            );\n",
       "        \n",
       "    \n",
       "            var circle_marker_e438555ec8795b5c82aa709b5fc7dc3a = L.circleMarker(\n",
       "                [51.1657, 10.4515],\n",
       "                {&quot;bubblingMouseEvents&quot;: true, &quot;color&quot;: &quot;#74be70&quot;, &quot;dashArray&quot;: null, &quot;dashOffset&quot;: null, &quot;fill&quot;: true, &quot;fillColor&quot;: &quot;#74be70&quot;, &quot;fillOpacity&quot;: 0.6, &quot;fillRule&quot;: &quot;evenodd&quot;, &quot;lineCap&quot;: &quot;round&quot;, &quot;lineJoin&quot;: &quot;round&quot;, &quot;opacity&quot;: 1.0, &quot;radius&quot;: 44.41286069845839, &quot;stroke&quot;: true, &quot;weight&quot;: 2}\n",
       "            ).addTo(map_e1f01cf0d83bc85dc2e3c72b7dacf3d0);\n",
       "        \n",
       "    \n",
       "            circle_marker_e438555ec8795b5c82aa709b5fc7dc3a.bindTooltip(\n",
       "                `&lt;div&gt;\n",
       "                     Alemania: 1200000 vehículos eléctricos\n",
       "                 &lt;/div&gt;`,\n",
       "                {&quot;sticky&quot;: true}\n",
       "            );\n",
       "        \n",
       "    \n",
       "            var circle_marker_63f69181682f7992f0a303885148b0cc = L.circleMarker(\n",
       "                [46.6034, 1.8883],\n",
       "                {&quot;bubblingMouseEvents&quot;: true, &quot;color&quot;: &quot;#74be70&quot;, &quot;dashArray&quot;: null, &quot;dashOffset&quot;: null, &quot;fill&quot;: true, &quot;fillColor&quot;: &quot;#74be70&quot;, &quot;fillOpacity&quot;: 0.6, &quot;fillRule&quot;: &quot;evenodd&quot;, &quot;lineCap&quot;: &quot;round&quot;, &quot;lineJoin&quot;: &quot;round&quot;, &quot;opacity&quot;: 1.0, &quot;radius&quot;: 34.82202253184496, &quot;stroke&quot;: true, &quot;weight&quot;: 2}\n",
       "            ).addTo(map_e1f01cf0d83bc85dc2e3c72b7dacf3d0);\n",
       "        \n",
       "    \n",
       "            circle_marker_63f69181682f7992f0a303885148b0cc.bindTooltip(\n",
       "                `&lt;div&gt;\n",
       "                     Francia: 800000 vehículos eléctricos\n",
       "                 &lt;/div&gt;`,\n",
       "                {&quot;sticky&quot;: true}\n",
       "            );\n",
       "        \n",
       "    \n",
       "            var circle_marker_8aae1526a4ea332c0b03b5cd86918889 = L.circleMarker(\n",
       "                [55.3781, -3.436],\n",
       "                {&quot;bubblingMouseEvents&quot;: true, &quot;color&quot;: &quot;#74be70&quot;, &quot;dashArray&quot;: null, &quot;dashOffset&quot;: null, &quot;fill&quot;: true, &quot;fillColor&quot;: &quot;#74be70&quot;, &quot;fillOpacity&quot;: 0.6, &quot;fillRule&quot;: &quot;evenodd&quot;, &quot;lineCap&quot;: &quot;round&quot;, &quot;lineJoin&quot;: &quot;round&quot;, &quot;opacity&quot;: 1.0, &quot;radius&quot;: 32.140958497160376, &quot;stroke&quot;: true, &quot;weight&quot;: 2}\n",
       "            ).addTo(map_e1f01cf0d83bc85dc2e3c72b7dacf3d0);\n",
       "        \n",
       "    \n",
       "            circle_marker_8aae1526a4ea332c0b03b5cd86918889.bindTooltip(\n",
       "                `&lt;div&gt;\n",
       "                     Reino Unido: 700000 vehículos eléctricos\n",
       "                 &lt;/div&gt;`,\n",
       "                {&quot;sticky&quot;: true}\n",
       "            );\n",
       "        \n",
       "    \n",
       "            var circle_marker_2c05a8a1a4b10e872cb1f3e099d643ba = L.circleMarker(\n",
       "                [60.1282, 18.6435],\n",
       "                {&quot;bubblingMouseEvents&quot;: true, &quot;color&quot;: &quot;#74be70&quot;, &quot;dashArray&quot;: null, &quot;dashOffset&quot;: null, &quot;fill&quot;: true, &quot;fillColor&quot;: &quot;#74be70&quot;, &quot;fillOpacity&quot;: 0.6, &quot;fillRule&quot;: &quot;evenodd&quot;, &quot;lineCap&quot;: &quot;round&quot;, &quot;lineJoin&quot;: &quot;round&quot;, &quot;opacity&quot;: 1.0, &quot;radius&quot;: 21.2051244984132, &quot;stroke&quot;: true, &quot;weight&quot;: 2}\n",
       "            ).addTo(map_e1f01cf0d83bc85dc2e3c72b7dacf3d0);\n",
       "        \n",
       "    \n",
       "            circle_marker_2c05a8a1a4b10e872cb1f3e099d643ba.bindTooltip(\n",
       "                `&lt;div&gt;\n",
       "                     Suecia: 350000 vehículos eléctricos\n",
       "                 &lt;/div&gt;`,\n",
       "                {&quot;sticky&quot;: true}\n",
       "            );\n",
       "        \n",
       "    \n",
       "            var circle_marker_b8fb36ff8327163bf68dfc12cb10d7fd = L.circleMarker(\n",
       "                [56.2639, 9.5018],\n",
       "                {&quot;bubblingMouseEvents&quot;: true, &quot;color&quot;: &quot;#74be70&quot;, &quot;dashArray&quot;: null, &quot;dashOffset&quot;: null, &quot;fill&quot;: true, &quot;fillColor&quot;: &quot;#74be70&quot;, &quot;fillOpacity&quot;: 0.6, &quot;fillRule&quot;: &quot;evenodd&quot;, &quot;lineCap&quot;: &quot;round&quot;, &quot;lineJoin&quot;: &quot;round&quot;, &quot;opacity&quot;: 1.0, &quot;radius&quot;: 9.999999999999998, &quot;stroke&quot;: true, &quot;weight&quot;: 2}\n",
       "            ).addTo(map_e1f01cf0d83bc85dc2e3c72b7dacf3d0);\n",
       "        \n",
       "    \n",
       "            circle_marker_b8fb36ff8327163bf68dfc12cb10d7fd.bindTooltip(\n",
       "                `&lt;div&gt;\n",
       "                     Dinamarca: 100000 vehículos eléctricos\n",
       "                 &lt;/div&gt;`,\n",
       "                {&quot;sticky&quot;: true}\n",
       "            );\n",
       "        \n",
       "    \n",
       "            var circle_marker_f5dd0e8cd94485966151e4de4fa8ee0a = L.circleMarker(\n",
       "                [40.4637, -3.7492],\n",
       "                {&quot;bubblingMouseEvents&quot;: true, &quot;color&quot;: &quot;#74be70&quot;, &quot;dashArray&quot;: null, &quot;dashOffset&quot;: null, &quot;fill&quot;: true, &quot;fillColor&quot;: &quot;#74be70&quot;, &quot;fillOpacity&quot;: 0.6, &quot;fillRule&quot;: &quot;evenodd&quot;, &quot;lineCap&quot;: &quot;round&quot;, &quot;lineJoin&quot;: &quot;round&quot;, &quot;opacity&quot;: 1.0, &quot;radius&quot;: 16.049208106703464, &quot;stroke&quot;: true, &quot;weight&quot;: 2}\n",
       "            ).addTo(map_e1f01cf0d83bc85dc2e3c72b7dacf3d0);\n",
       "        \n",
       "    \n",
       "            circle_marker_f5dd0e8cd94485966151e4de4fa8ee0a.bindTooltip(\n",
       "                `&lt;div&gt;\n",
       "                     España: 220000 vehículos eléctricos\n",
       "                 &lt;/div&gt;`,\n",
       "                {&quot;sticky&quot;: true}\n",
       "            );\n",
       "        \n",
       "    \n",
       "            var circle_marker_d5d6f7806cd1e1963f1a6bc1bb5599d6 = L.circleMarker(\n",
       "                [41.8719, 12.5674],\n",
       "                {&quot;bubblingMouseEvents&quot;: true, &quot;color&quot;: &quot;#74be70&quot;, &quot;dashArray&quot;: null, &quot;dashOffset&quot;: null, &quot;fill&quot;: true, &quot;fillColor&quot;: &quot;#74be70&quot;, &quot;fillOpacity&quot;: 0.6, &quot;fillRule&quot;: &quot;evenodd&quot;, &quot;lineCap&quot;: &quot;round&quot;, &quot;lineJoin&quot;: &quot;round&quot;, &quot;opacity&quot;: 1.0, &quot;radius&quot;: 12.754245006257904, &quot;stroke&quot;: true, &quot;weight&quot;: 2}\n",
       "            ).addTo(map_e1f01cf0d83bc85dc2e3c72b7dacf3d0);\n",
       "        \n",
       "    \n",
       "            circle_marker_d5d6f7806cd1e1963f1a6bc1bb5599d6.bindTooltip(\n",
       "                `&lt;div&gt;\n",
       "                     Italia: 150000 vehículos eléctricos\n",
       "                 &lt;/div&gt;`,\n",
       "                {&quot;sticky&quot;: true}\n",
       "            );\n",
       "        \n",
       "    \n",
       "            var circle_marker_10faf2fc64543f89801c521476284bf9 = L.circleMarker(\n",
       "                [39.3999, -8.2245],\n",
       "                {&quot;bubblingMouseEvents&quot;: true, &quot;color&quot;: &quot;#74be70&quot;, &quot;dashArray&quot;: null, &quot;dashOffset&quot;: null, &quot;fill&quot;: true, &quot;fillColor&quot;: &quot;#74be70&quot;, &quot;fillOpacity&quot;: 0.6, &quot;fillRule&quot;: &quot;evenodd&quot;, &quot;lineCap&quot;: &quot;round&quot;, &quot;lineJoin&quot;: &quot;round&quot;, &quot;opacity&quot;: 1.0, &quot;radius&quot;: 9.999999999999998, &quot;stroke&quot;: true, &quot;weight&quot;: 2}\n",
       "            ).addTo(map_e1f01cf0d83bc85dc2e3c72b7dacf3d0);\n",
       "        \n",
       "    \n",
       "            circle_marker_10faf2fc64543f89801c521476284bf9.bindTooltip(\n",
       "                `&lt;div&gt;\n",
       "                     Portugal: 100000 vehículos eléctricos\n",
       "                 &lt;/div&gt;`,\n",
       "                {&quot;sticky&quot;: true}\n",
       "            );\n",
       "        \n",
       "    \n",
       "            var circle_marker_f8719d392c7f377cda59e8bc22553380 = L.circleMarker(\n",
       "                [47.516231, 14.550072],\n",
       "                {&quot;bubblingMouseEvents&quot;: true, &quot;color&quot;: &quot;#74be70&quot;, &quot;dashArray&quot;: null, &quot;dashOffset&quot;: null, &quot;fill&quot;: true, &quot;fillColor&quot;: &quot;#74be70&quot;, &quot;fillOpacity&quot;: 0.6, &quot;fillRule&quot;: &quot;evenodd&quot;, &quot;lineCap&quot;: &quot;round&quot;, &quot;lineJoin&quot;: &quot;round&quot;, &quot;opacity&quot;: 1.0, &quot;radius&quot;: 11.156006217298273, &quot;stroke&quot;: true, &quot;weight&quot;: 2}\n",
       "            ).addTo(map_e1f01cf0d83bc85dc2e3c72b7dacf3d0);\n",
       "        \n",
       "    \n",
       "            circle_marker_f8719d392c7f377cda59e8bc22553380.bindTooltip(\n",
       "                `&lt;div&gt;\n",
       "                     Austria: 120000 vehículos eléctricos\n",
       "                 &lt;/div&gt;`,\n",
       "                {&quot;sticky&quot;: true}\n",
       "            );\n",
       "        \n",
       "&lt;/script&gt;\n",
       "&lt;/html&gt;\" style=\"position:absolute;width:100%;height:100%;left:0;top:0;border:none !important;\" allowfullscreen webkitallowfullscreen mozallowfullscreen></iframe></div></div>"
      ],
      "text/plain": [
       "<folium.folium.Map at 0x1ccbab8f590>"
      ]
     },
     "execution_count": 25,
     "metadata": {},
     "output_type": "execute_result"
    }
   ],
   "source": [
    "# Crear un mapa centrado en Europa con estilo satelital\n",
    "mapa = folium.Map(location=[54.5260, 15.2551], zoom_start=3.5, tiles=\"Cartodb positron\", attr=\"Map tiles by Stamen Design\")\n",
    "\n",
    "# Ajustar el tamaño de los círculos usando una escala logarítmica para diferenciar mejor el tamaño\n",
    "for i in range(len(elec_paises[\"pais\"])):\n",
    "    # Aquí se utiliza una escala logarítmica para obtener diferencias más marcadas en los tamaños de los círculos\n",
    "    radius = (elec_paises[\"vehiculos_electricos\"][i] ** 0.6) / 100  # Ajusta este valor según el efecto deseado\n",
    "\n",
    "    folium.CircleMarker(\n",
    "        location=[elec_paises[\"lat\"][i], elec_paises[\"lon\"][i]],\n",
    "        radius=radius,\n",
    "        color='#74be70',\n",
    "        fill=True,\n",
    "        fill_color='#74be70',\n",
    "        fill_opacity=0.6,\n",
    "        weight=2,  # Grosor del borde de las burbujas\n",
    "        tooltip=f\"{elec_paises['pais'][i]}: {elec_paises['vehiculos_electricos'][i]} vehículos eléctricos\"\n",
    "    ).add_to(mapa)\n",
    "\n",
    "# Mostrar el mapa\n",
    "mapa"
   ]
  },
  {
   "cell_type": "code",
   "execution_count": 22,
   "metadata": {},
   "outputs": [
    {
     "data": {
      "application/vnd.plotly.v1+json": {
       "config": {
        "plotlyServerURL": "https://plot.ly"
       },
       "data": [
        {
         "marker": {
          "color": "#74be70",
          "cornerradius": 30
         },
         "name": "Dinamarca",
         "opacity": 0.8,
         "orientation": "h",
         "text": "100,000",
         "textfont": {
          "color": "black",
          "size": 20
         },
         "textposition": "outside",
         "type": "bar",
         "width": 0.9,
         "x": [
          100000
         ],
         "y": [
          "Dinamarca"
         ]
        },
        {
         "marker": {
          "color": "#74be70",
          "cornerradius": 30
         },
         "name": "Portugal",
         "opacity": 0.8,
         "orientation": "h",
         "text": "100,000",
         "textfont": {
          "color": "black",
          "size": 20
         },
         "textposition": "outside",
         "type": "bar",
         "width": 0.9,
         "x": [
          100000
         ],
         "y": [
          "Portugal"
         ]
        },
        {
         "marker": {
          "color": "#74be70",
          "cornerradius": 30
         },
         "name": "Austria",
         "opacity": 0.8,
         "orientation": "h",
         "text": "120,000",
         "textfont": {
          "color": "black",
          "size": 20
         },
         "textposition": "outside",
         "type": "bar",
         "width": 0.9,
         "x": [
          120000
         ],
         "y": [
          "Austria"
         ]
        },
        {
         "marker": {
          "color": "#74be70",
          "cornerradius": 30
         },
         "name": "Italia",
         "opacity": 0.8,
         "orientation": "h",
         "text": "150,000",
         "textfont": {
          "color": "black",
          "size": 20
         },
         "textposition": "outside",
         "type": "bar",
         "width": 0.9,
         "x": [
          150000
         ],
         "y": [
          "Italia"
         ]
        },
        {
         "marker": {
          "color": "#74be70",
          "cornerradius": 30
         },
         "name": "España",
         "opacity": 0.8,
         "orientation": "h",
         "text": "220,000",
         "textfont": {
          "color": "black",
          "size": 20
         },
         "textposition": "outside",
         "type": "bar",
         "width": 0.9,
         "x": [
          220000
         ],
         "y": [
          "España"
         ]
        },
        {
         "marker": {
          "color": "#74be70",
          "cornerradius": 30
         },
         "name": "Suecia",
         "opacity": 0.8,
         "orientation": "h",
         "text": "350,000",
         "textfont": {
          "color": "black",
          "size": 20
         },
         "textposition": "outside",
         "type": "bar",
         "width": 0.9,
         "x": [
          350000
         ],
         "y": [
          "Suecia"
         ]
        },
        {
         "marker": {
          "color": "#74be70",
          "cornerradius": 30
         },
         "name": "Países Bajos",
         "opacity": 0.8,
         "orientation": "h",
         "text": "400,000",
         "textfont": {
          "color": "black",
          "size": 20
         },
         "textposition": "outside",
         "type": "bar",
         "width": 0.9,
         "x": [
          400000
         ],
         "y": [
          "Países Bajos"
         ]
        },
        {
         "marker": {
          "color": "#74be70",
          "cornerradius": 30
         },
         "name": "Reino Unido",
         "opacity": 0.8,
         "orientation": "h",
         "text": "700,000",
         "textfont": {
          "color": "black",
          "size": 20
         },
         "textposition": "outside",
         "type": "bar",
         "width": 0.9,
         "x": [
          700000
         ],
         "y": [
          "Reino Unido"
         ]
        },
        {
         "marker": {
          "color": "#74be70",
          "cornerradius": 30
         },
         "name": "Noruega",
         "opacity": 0.8,
         "orientation": "h",
         "text": "754,303",
         "textfont": {
          "color": "black",
          "size": 20
         },
         "textposition": "outside",
         "type": "bar",
         "width": 0.9,
         "x": [
          754303
         ],
         "y": [
          "<b>Noruega</b>"
         ]
        },
        {
         "marker": {
          "color": "#74be70",
          "cornerradius": 30
         },
         "name": "Francia",
         "opacity": 0.8,
         "orientation": "h",
         "text": "800,000",
         "textfont": {
          "color": "black",
          "size": 20
         },
         "textposition": "outside",
         "type": "bar",
         "width": 0.9,
         "x": [
          800000
         ],
         "y": [
          "<b>Francia</b>"
         ]
        },
        {
         "marker": {
          "color": "#74be70",
          "cornerradius": 30
         },
         "name": "Alemania",
         "opacity": 0.8,
         "orientation": "h",
         "text": "1,200,000",
         "textfont": {
          "color": "black",
          "size": 20
         },
         "textposition": "outside",
         "type": "bar",
         "width": 0.9,
         "x": [
          1200000
         ],
         "y": [
          "<b>Alemania</b>"
         ]
        }
       ],
       "layout": {
        "barmode": "group",
        "height": 700,
        "margin": {
         "b": 20,
         "l": 40,
         "r": 40,
         "t": 60
        },
        "showlegend": false,
        "template": {
         "data": {
          "bar": [
           {
            "error_x": {
             "color": "rgb(51,51,51)"
            },
            "error_y": {
             "color": "rgb(51,51,51)"
            },
            "marker": {
             "line": {
              "color": "rgb(237,237,237)",
              "width": 0.5
             },
             "pattern": {
              "fillmode": "overlay",
              "size": 10,
              "solidity": 0.2
             }
            },
            "type": "bar"
           }
          ],
          "barpolar": [
           {
            "marker": {
             "line": {
              "color": "rgb(237,237,237)",
              "width": 0.5
             },
             "pattern": {
              "fillmode": "overlay",
              "size": 10,
              "solidity": 0.2
             }
            },
            "type": "barpolar"
           }
          ],
          "carpet": [
           {
            "aaxis": {
             "endlinecolor": "rgb(51,51,51)",
             "gridcolor": "white",
             "linecolor": "white",
             "minorgridcolor": "white",
             "startlinecolor": "rgb(51,51,51)"
            },
            "baxis": {
             "endlinecolor": "rgb(51,51,51)",
             "gridcolor": "white",
             "linecolor": "white",
             "minorgridcolor": "white",
             "startlinecolor": "rgb(51,51,51)"
            },
            "type": "carpet"
           }
          ],
          "choropleth": [
           {
            "colorbar": {
             "outlinewidth": 0,
             "tickcolor": "rgb(237,237,237)",
             "ticklen": 6,
             "ticks": "inside"
            },
            "type": "choropleth"
           }
          ],
          "contour": [
           {
            "colorbar": {
             "outlinewidth": 0,
             "tickcolor": "rgb(237,237,237)",
             "ticklen": 6,
             "ticks": "inside"
            },
            "colorscale": [
             [
              0,
              "rgb(20,44,66)"
             ],
             [
              1,
              "rgb(90,179,244)"
             ]
            ],
            "type": "contour"
           }
          ],
          "contourcarpet": [
           {
            "colorbar": {
             "outlinewidth": 0,
             "tickcolor": "rgb(237,237,237)",
             "ticklen": 6,
             "ticks": "inside"
            },
            "type": "contourcarpet"
           }
          ],
          "heatmap": [
           {
            "colorbar": {
             "outlinewidth": 0,
             "tickcolor": "rgb(237,237,237)",
             "ticklen": 6,
             "ticks": "inside"
            },
            "colorscale": [
             [
              0,
              "rgb(20,44,66)"
             ],
             [
              1,
              "rgb(90,179,244)"
             ]
            ],
            "type": "heatmap"
           }
          ],
          "heatmapgl": [
           {
            "colorbar": {
             "outlinewidth": 0,
             "tickcolor": "rgb(237,237,237)",
             "ticklen": 6,
             "ticks": "inside"
            },
            "colorscale": [
             [
              0,
              "rgb(20,44,66)"
             ],
             [
              1,
              "rgb(90,179,244)"
             ]
            ],
            "type": "heatmapgl"
           }
          ],
          "histogram": [
           {
            "marker": {
             "pattern": {
              "fillmode": "overlay",
              "size": 10,
              "solidity": 0.2
             }
            },
            "type": "histogram"
           }
          ],
          "histogram2d": [
           {
            "colorbar": {
             "outlinewidth": 0,
             "tickcolor": "rgb(237,237,237)",
             "ticklen": 6,
             "ticks": "inside"
            },
            "colorscale": [
             [
              0,
              "rgb(20,44,66)"
             ],
             [
              1,
              "rgb(90,179,244)"
             ]
            ],
            "type": "histogram2d"
           }
          ],
          "histogram2dcontour": [
           {
            "colorbar": {
             "outlinewidth": 0,
             "tickcolor": "rgb(237,237,237)",
             "ticklen": 6,
             "ticks": "inside"
            },
            "colorscale": [
             [
              0,
              "rgb(20,44,66)"
             ],
             [
              1,
              "rgb(90,179,244)"
             ]
            ],
            "type": "histogram2dcontour"
           }
          ],
          "mesh3d": [
           {
            "colorbar": {
             "outlinewidth": 0,
             "tickcolor": "rgb(237,237,237)",
             "ticklen": 6,
             "ticks": "inside"
            },
            "type": "mesh3d"
           }
          ],
          "parcoords": [
           {
            "line": {
             "colorbar": {
              "outlinewidth": 0,
              "tickcolor": "rgb(237,237,237)",
              "ticklen": 6,
              "ticks": "inside"
             }
            },
            "type": "parcoords"
           }
          ],
          "pie": [
           {
            "automargin": true,
            "type": "pie"
           }
          ],
          "scatter": [
           {
            "fillpattern": {
             "fillmode": "overlay",
             "size": 10,
             "solidity": 0.2
            },
            "type": "scatter"
           }
          ],
          "scatter3d": [
           {
            "line": {
             "colorbar": {
              "outlinewidth": 0,
              "tickcolor": "rgb(237,237,237)",
              "ticklen": 6,
              "ticks": "inside"
             }
            },
            "marker": {
             "colorbar": {
              "outlinewidth": 0,
              "tickcolor": "rgb(237,237,237)",
              "ticklen": 6,
              "ticks": "inside"
             }
            },
            "type": "scatter3d"
           }
          ],
          "scattercarpet": [
           {
            "marker": {
             "colorbar": {
              "outlinewidth": 0,
              "tickcolor": "rgb(237,237,237)",
              "ticklen": 6,
              "ticks": "inside"
             }
            },
            "type": "scattercarpet"
           }
          ],
          "scattergeo": [
           {
            "marker": {
             "colorbar": {
              "outlinewidth": 0,
              "tickcolor": "rgb(237,237,237)",
              "ticklen": 6,
              "ticks": "inside"
             }
            },
            "type": "scattergeo"
           }
          ],
          "scattergl": [
           {
            "marker": {
             "colorbar": {
              "outlinewidth": 0,
              "tickcolor": "rgb(237,237,237)",
              "ticklen": 6,
              "ticks": "inside"
             }
            },
            "type": "scattergl"
           }
          ],
          "scattermapbox": [
           {
            "marker": {
             "colorbar": {
              "outlinewidth": 0,
              "tickcolor": "rgb(237,237,237)",
              "ticklen": 6,
              "ticks": "inside"
             }
            },
            "type": "scattermapbox"
           }
          ],
          "scatterpolar": [
           {
            "marker": {
             "colorbar": {
              "outlinewidth": 0,
              "tickcolor": "rgb(237,237,237)",
              "ticklen": 6,
              "ticks": "inside"
             }
            },
            "type": "scatterpolar"
           }
          ],
          "scatterpolargl": [
           {
            "marker": {
             "colorbar": {
              "outlinewidth": 0,
              "tickcolor": "rgb(237,237,237)",
              "ticklen": 6,
              "ticks": "inside"
             }
            },
            "type": "scatterpolargl"
           }
          ],
          "scatterternary": [
           {
            "marker": {
             "colorbar": {
              "outlinewidth": 0,
              "tickcolor": "rgb(237,237,237)",
              "ticklen": 6,
              "ticks": "inside"
             }
            },
            "type": "scatterternary"
           }
          ],
          "surface": [
           {
            "colorbar": {
             "outlinewidth": 0,
             "tickcolor": "rgb(237,237,237)",
             "ticklen": 6,
             "ticks": "inside"
            },
            "colorscale": [
             [
              0,
              "rgb(20,44,66)"
             ],
             [
              1,
              "rgb(90,179,244)"
             ]
            ],
            "type": "surface"
           }
          ],
          "table": [
           {
            "cells": {
             "fill": {
              "color": "rgb(237,237,237)"
             },
             "line": {
              "color": "white"
             }
            },
            "header": {
             "fill": {
              "color": "rgb(217,217,217)"
             },
             "line": {
              "color": "white"
             }
            },
            "type": "table"
           }
          ]
         },
         "layout": {
          "annotationdefaults": {
           "arrowhead": 0,
           "arrowwidth": 1
          },
          "autotypenumbers": "strict",
          "coloraxis": {
           "colorbar": {
            "outlinewidth": 0,
            "tickcolor": "rgb(237,237,237)",
            "ticklen": 6,
            "ticks": "inside"
           }
          },
          "colorscale": {
           "sequential": [
            [
             0,
             "rgb(20,44,66)"
            ],
            [
             1,
             "rgb(90,179,244)"
            ]
           ],
           "sequentialminus": [
            [
             0,
             "rgb(20,44,66)"
            ],
            [
             1,
             "rgb(90,179,244)"
            ]
           ]
          },
          "colorway": [
           "#F8766D",
           "#A3A500",
           "#00BF7D",
           "#00B0F6",
           "#E76BF3"
          ],
          "font": {
           "color": "rgb(51,51,51)"
          },
          "geo": {
           "bgcolor": "white",
           "lakecolor": "white",
           "landcolor": "rgb(237,237,237)",
           "showlakes": true,
           "showland": true,
           "subunitcolor": "white"
          },
          "hoverlabel": {
           "align": "left"
          },
          "hovermode": "closest",
          "paper_bgcolor": "white",
          "plot_bgcolor": "rgb(237,237,237)",
          "polar": {
           "angularaxis": {
            "gridcolor": "white",
            "linecolor": "white",
            "showgrid": true,
            "tickcolor": "rgb(51,51,51)",
            "ticks": "outside"
           },
           "bgcolor": "rgb(237,237,237)",
           "radialaxis": {
            "gridcolor": "white",
            "linecolor": "white",
            "showgrid": true,
            "tickcolor": "rgb(51,51,51)",
            "ticks": "outside"
           }
          },
          "scene": {
           "xaxis": {
            "backgroundcolor": "rgb(237,237,237)",
            "gridcolor": "white",
            "gridwidth": 2,
            "linecolor": "white",
            "showbackground": true,
            "showgrid": true,
            "tickcolor": "rgb(51,51,51)",
            "ticks": "outside",
            "zerolinecolor": "white"
           },
           "yaxis": {
            "backgroundcolor": "rgb(237,237,237)",
            "gridcolor": "white",
            "gridwidth": 2,
            "linecolor": "white",
            "showbackground": true,
            "showgrid": true,
            "tickcolor": "rgb(51,51,51)",
            "ticks": "outside",
            "zerolinecolor": "white"
           },
           "zaxis": {
            "backgroundcolor": "rgb(237,237,237)",
            "gridcolor": "white",
            "gridwidth": 2,
            "linecolor": "white",
            "showbackground": true,
            "showgrid": true,
            "tickcolor": "rgb(51,51,51)",
            "ticks": "outside",
            "zerolinecolor": "white"
           }
          },
          "shapedefaults": {
           "fillcolor": "black",
           "line": {
            "width": 0
           },
           "opacity": 0.3
          },
          "ternary": {
           "aaxis": {
            "gridcolor": "white",
            "linecolor": "white",
            "showgrid": true,
            "tickcolor": "rgb(51,51,51)",
            "ticks": "outside"
           },
           "baxis": {
            "gridcolor": "white",
            "linecolor": "white",
            "showgrid": true,
            "tickcolor": "rgb(51,51,51)",
            "ticks": "outside"
           },
           "bgcolor": "rgb(237,237,237)",
           "caxis": {
            "gridcolor": "white",
            "linecolor": "white",
            "showgrid": true,
            "tickcolor": "rgb(51,51,51)",
            "ticks": "outside"
           }
          },
          "xaxis": {
           "automargin": true,
           "gridcolor": "white",
           "linecolor": "white",
           "showgrid": true,
           "tickcolor": "rgb(51,51,51)",
           "ticks": "outside",
           "title": {
            "standoff": 15
           },
           "zerolinecolor": "white"
          },
          "yaxis": {
           "automargin": true,
           "gridcolor": "white",
           "linecolor": "white",
           "showgrid": true,
           "tickcolor": "rgb(51,51,51)",
           "ticks": "outside",
           "title": {
            "standoff": 15
           },
           "zerolinecolor": "white"
          }
         }
        },
        "title": {
         "font": {
          "size": 21
         },
         "text": "Rto. de Vehículos Eléctricos por País"
        },
        "width": 750,
        "xaxis": {
         "range": [
          0,
          2000000
         ],
         "title": {
          "font": {
           "size": 18
          }
         }
        },
        "yaxis": {
         "tickfont": {
          "size": 18
         },
         "title": {
          "font": {
           "size": 18
          }
         }
        }
       }
      }
     },
     "metadata": {},
     "output_type": "display_data"
    }
   ],
   "source": [
    "# Ordenar el DataFrame de mayor a menor en base a la columna 'vehiculos_electricos'\n",
    "elec_paises = elec_paises.sort_values(by=\"vehiculos_electricos\", ascending=True)  # Orden inverso para visualización horizontal\n",
    "\n",
    "# Crear la figura\n",
    "fig = go.Figure()\n",
    "\n",
    "# Umbral para determinar si el texto va dentro o fuera\n",
    "umbral = elec_paises[\"vehiculos_electricos\"].max() * 0.6  # 60% del valor máximo como umbral\n",
    "\n",
    "# Lista de los tres países con más vehículos eléctricos\n",
    "top_paises = [\"Noruega\", \"Francia\", \"Alemania\"]\n",
    "\n",
    "# Añadir cada país al gráfico de barras en horizontal\n",
    "for i, row in elec_paises.iterrows():\n",
    "    valor = row[\"vehiculos_electricos\"]\n",
    "    text_position = 'outside' if valor > umbral else 'outside'\n",
    "    \n",
    "    fig.add_trace(go.Bar(\n",
    "        y=[f\"<b>{row['pais']}</b>\" if row[\"pais\"] in top_paises else row[\"pais\"]],  # Título en negrita para los tres países top\n",
    "        x=[valor],         # Coloca el valor en el eje X\n",
    "        name=row[\"pais\"],\n",
    "        orientation='h',   # Define la orientación horizontal\n",
    "        marker=dict(color=\"#74be70\", cornerradius=30),\n",
    "        text=f\"{valor:,.0f}\",      # Añadir el valor de cada barra\n",
    "        textposition=text_position,  # Colocar el texto dentro o fuera dependiendo del umbral\n",
    "        textfont=dict(size=20, color='black'),  # Color y tamaño de texto normal para valores\n",
    "        width=0.9,\n",
    "        opacity = 0.8\n",
    "    ))\n",
    "\n",
    "# Configurar el diseño del gráfico\n",
    "fig.update_layout(\n",
    "    title=\"Rto. de Vehículos Eléctricos por País\",\n",
    "    title_font_size=21,\n",
    "    # yaxis_title=\"País\",\n",
    "    yaxis_title_font_size=18,\n",
    "    # xaxis_title=\"Total de Vehículos Eléctricos\",\n",
    "    xaxis_title_font_size=18,\n",
    "    barmode=\"group\",\n",
    "    xaxis=dict(range=[0, 2000000]),  # Rango logarítmico para 5000 a 5,000,000\n",
    "    yaxis=dict(tickfont=dict(size=18)),\n",
    "    margin=dict(l=40, r=40, t=60, b=20),  # Ajuste de márgenes\n",
    "    showlegend=False,\n",
    "    height=700,  # Ajustar la altura para que el gráfico sea más alto\n",
    "    width=750    # Ajustar el ancho para hacerlo más ancho\n",
    ")\n",
    "\n",
    "# Mostrar el gráfico\n",
    "fig.show()\n"
   ]
  },
  {
   "cell_type": "code",
   "execution_count": 7,
   "metadata": {},
   "outputs": [
    {
     "data": {
      "application/vnd.plotly.v1+json": {
       "config": {
        "plotlyServerURL": "https://plot.ly"
       },
       "data": [
        {
         "branchvalues": "total",
         "customdata": [
          [
           1164000
          ],
          [
           80000
          ],
          [
           100205
          ],
          [
           1240000
          ],
          [
           45655
          ],
          [
           2306640
          ],
          [
           242000
          ],
          [
           69000
          ],
          [
           880000
          ],
          [
           178000
          ]
         ],
         "domain": {
          "x": [
           0,
           1
          ],
          "y": [
           0,
           1
          ]
         },
         "hovertemplate": "labels=%{label}<br>vehiculos_electricos_sum=%{value}<br>parent=%{parent}<br>id=%{id}<br>vehiculos_electricos=%{color}<extra></extra>",
         "ids": [
          "Alemania",
          "Dinamarca",
          "España",
          "Francia",
          "Italia",
          "Noruega",
          "Países Bajos",
          "Portugal",
          "Reino Unido",
          "Suecia"
         ],
         "labels": [
          "Alemania",
          "Dinamarca",
          "España",
          "Francia",
          "Italia",
          "Noruega",
          "Países Bajos",
          "Portugal",
          "Reino Unido",
          "Suecia"
         ],
         "marker": {
          "coloraxis": "coloraxis",
          "colors": [
           1164000,
           80000,
           100205,
           1240000,
           45655,
           2306640,
           242000,
           69000,
           880000,
           178000
          ],
          "line": {
           "width": 0
          }
         },
         "name": "",
         "parents": [
          "",
          "",
          "",
          "",
          "",
          "",
          "",
          "",
          "",
          ""
         ],
         "textfont": {
          "size": 20
         },
         "texttemplate": "<b>%{label}</b>",
         "type": "treemap",
         "values": [
          1164000,
          80000,
          100205,
          1240000,
          45655,
          2306640,
          242000,
          69000,
          880000,
          178000
         ]
        }
       ],
       "layout": {
        "coloraxis": {
         "cmax": 5000000,
         "cmin": 500000,
         "colorbar": {
          "title": {
           "text": "Vehículos Eléctricos"
          }
         },
         "colorscale": [
          [
           0,
           "#FFFF00"
          ],
          [
           0.25,
           "#B5E61D"
          ],
          [
           0.5,
           "#6AB340"
          ],
          [
           0.75,
           "#3C8165"
          ],
          [
           1,
           "#3C6C87"
          ]
         ]
        },
        "font": {
         "size": 18
        },
        "legend": {
         "tracegroupgap": 0
        },
        "margin": {
         "b": 25,
         "l": 25,
         "r": 25,
         "t": 50
        },
        "paper_bgcolor": "white",
        "template": {
         "data": {
          "bar": [
           {
            "error_x": {
             "color": "#2a3f5f"
            },
            "error_y": {
             "color": "#2a3f5f"
            },
            "marker": {
             "line": {
              "color": "#E5ECF6",
              "width": 0.5
             },
             "pattern": {
              "fillmode": "overlay",
              "size": 10,
              "solidity": 0.2
             }
            },
            "type": "bar"
           }
          ],
          "barpolar": [
           {
            "marker": {
             "line": {
              "color": "#E5ECF6",
              "width": 0.5
             },
             "pattern": {
              "fillmode": "overlay",
              "size": 10,
              "solidity": 0.2
             }
            },
            "type": "barpolar"
           }
          ],
          "carpet": [
           {
            "aaxis": {
             "endlinecolor": "#2a3f5f",
             "gridcolor": "white",
             "linecolor": "white",
             "minorgridcolor": "white",
             "startlinecolor": "#2a3f5f"
            },
            "baxis": {
             "endlinecolor": "#2a3f5f",
             "gridcolor": "white",
             "linecolor": "white",
             "minorgridcolor": "white",
             "startlinecolor": "#2a3f5f"
            },
            "type": "carpet"
           }
          ],
          "choropleth": [
           {
            "colorbar": {
             "outlinewidth": 0,
             "ticks": ""
            },
            "type": "choropleth"
           }
          ],
          "contour": [
           {
            "colorbar": {
             "outlinewidth": 0,
             "ticks": ""
            },
            "colorscale": [
             [
              0,
              "#0d0887"
             ],
             [
              0.1111111111111111,
              "#46039f"
             ],
             [
              0.2222222222222222,
              "#7201a8"
             ],
             [
              0.3333333333333333,
              "#9c179e"
             ],
             [
              0.4444444444444444,
              "#bd3786"
             ],
             [
              0.5555555555555556,
              "#d8576b"
             ],
             [
              0.6666666666666666,
              "#ed7953"
             ],
             [
              0.7777777777777778,
              "#fb9f3a"
             ],
             [
              0.8888888888888888,
              "#fdca26"
             ],
             [
              1,
              "#f0f921"
             ]
            ],
            "type": "contour"
           }
          ],
          "contourcarpet": [
           {
            "colorbar": {
             "outlinewidth": 0,
             "ticks": ""
            },
            "type": "contourcarpet"
           }
          ],
          "heatmap": [
           {
            "colorbar": {
             "outlinewidth": 0,
             "ticks": ""
            },
            "colorscale": [
             [
              0,
              "#0d0887"
             ],
             [
              0.1111111111111111,
              "#46039f"
             ],
             [
              0.2222222222222222,
              "#7201a8"
             ],
             [
              0.3333333333333333,
              "#9c179e"
             ],
             [
              0.4444444444444444,
              "#bd3786"
             ],
             [
              0.5555555555555556,
              "#d8576b"
             ],
             [
              0.6666666666666666,
              "#ed7953"
             ],
             [
              0.7777777777777778,
              "#fb9f3a"
             ],
             [
              0.8888888888888888,
              "#fdca26"
             ],
             [
              1,
              "#f0f921"
             ]
            ],
            "type": "heatmap"
           }
          ],
          "heatmapgl": [
           {
            "colorbar": {
             "outlinewidth": 0,
             "ticks": ""
            },
            "colorscale": [
             [
              0,
              "#0d0887"
             ],
             [
              0.1111111111111111,
              "#46039f"
             ],
             [
              0.2222222222222222,
              "#7201a8"
             ],
             [
              0.3333333333333333,
              "#9c179e"
             ],
             [
              0.4444444444444444,
              "#bd3786"
             ],
             [
              0.5555555555555556,
              "#d8576b"
             ],
             [
              0.6666666666666666,
              "#ed7953"
             ],
             [
              0.7777777777777778,
              "#fb9f3a"
             ],
             [
              0.8888888888888888,
              "#fdca26"
             ],
             [
              1,
              "#f0f921"
             ]
            ],
            "type": "heatmapgl"
           }
          ],
          "histogram": [
           {
            "marker": {
             "pattern": {
              "fillmode": "overlay",
              "size": 10,
              "solidity": 0.2
             }
            },
            "type": "histogram"
           }
          ],
          "histogram2d": [
           {
            "colorbar": {
             "outlinewidth": 0,
             "ticks": ""
            },
            "colorscale": [
             [
              0,
              "#0d0887"
             ],
             [
              0.1111111111111111,
              "#46039f"
             ],
             [
              0.2222222222222222,
              "#7201a8"
             ],
             [
              0.3333333333333333,
              "#9c179e"
             ],
             [
              0.4444444444444444,
              "#bd3786"
             ],
             [
              0.5555555555555556,
              "#d8576b"
             ],
             [
              0.6666666666666666,
              "#ed7953"
             ],
             [
              0.7777777777777778,
              "#fb9f3a"
             ],
             [
              0.8888888888888888,
              "#fdca26"
             ],
             [
              1,
              "#f0f921"
             ]
            ],
            "type": "histogram2d"
           }
          ],
          "histogram2dcontour": [
           {
            "colorbar": {
             "outlinewidth": 0,
             "ticks": ""
            },
            "colorscale": [
             [
              0,
              "#0d0887"
             ],
             [
              0.1111111111111111,
              "#46039f"
             ],
             [
              0.2222222222222222,
              "#7201a8"
             ],
             [
              0.3333333333333333,
              "#9c179e"
             ],
             [
              0.4444444444444444,
              "#bd3786"
             ],
             [
              0.5555555555555556,
              "#d8576b"
             ],
             [
              0.6666666666666666,
              "#ed7953"
             ],
             [
              0.7777777777777778,
              "#fb9f3a"
             ],
             [
              0.8888888888888888,
              "#fdca26"
             ],
             [
              1,
              "#f0f921"
             ]
            ],
            "type": "histogram2dcontour"
           }
          ],
          "mesh3d": [
           {
            "colorbar": {
             "outlinewidth": 0,
             "ticks": ""
            },
            "type": "mesh3d"
           }
          ],
          "parcoords": [
           {
            "line": {
             "colorbar": {
              "outlinewidth": 0,
              "ticks": ""
             }
            },
            "type": "parcoords"
           }
          ],
          "pie": [
           {
            "automargin": true,
            "type": "pie"
           }
          ],
          "scatter": [
           {
            "fillpattern": {
             "fillmode": "overlay",
             "size": 10,
             "solidity": 0.2
            },
            "type": "scatter"
           }
          ],
          "scatter3d": [
           {
            "line": {
             "colorbar": {
              "outlinewidth": 0,
              "ticks": ""
             }
            },
            "marker": {
             "colorbar": {
              "outlinewidth": 0,
              "ticks": ""
             }
            },
            "type": "scatter3d"
           }
          ],
          "scattercarpet": [
           {
            "marker": {
             "colorbar": {
              "outlinewidth": 0,
              "ticks": ""
             }
            },
            "type": "scattercarpet"
           }
          ],
          "scattergeo": [
           {
            "marker": {
             "colorbar": {
              "outlinewidth": 0,
              "ticks": ""
             }
            },
            "type": "scattergeo"
           }
          ],
          "scattergl": [
           {
            "marker": {
             "colorbar": {
              "outlinewidth": 0,
              "ticks": ""
             }
            },
            "type": "scattergl"
           }
          ],
          "scattermapbox": [
           {
            "marker": {
             "colorbar": {
              "outlinewidth": 0,
              "ticks": ""
             }
            },
            "type": "scattermapbox"
           }
          ],
          "scatterpolar": [
           {
            "marker": {
             "colorbar": {
              "outlinewidth": 0,
              "ticks": ""
             }
            },
            "type": "scatterpolar"
           }
          ],
          "scatterpolargl": [
           {
            "marker": {
             "colorbar": {
              "outlinewidth": 0,
              "ticks": ""
             }
            },
            "type": "scatterpolargl"
           }
          ],
          "scatterternary": [
           {
            "marker": {
             "colorbar": {
              "outlinewidth": 0,
              "ticks": ""
             }
            },
            "type": "scatterternary"
           }
          ],
          "surface": [
           {
            "colorbar": {
             "outlinewidth": 0,
             "ticks": ""
            },
            "colorscale": [
             [
              0,
              "#0d0887"
             ],
             [
              0.1111111111111111,
              "#46039f"
             ],
             [
              0.2222222222222222,
              "#7201a8"
             ],
             [
              0.3333333333333333,
              "#9c179e"
             ],
             [
              0.4444444444444444,
              "#bd3786"
             ],
             [
              0.5555555555555556,
              "#d8576b"
             ],
             [
              0.6666666666666666,
              "#ed7953"
             ],
             [
              0.7777777777777778,
              "#fb9f3a"
             ],
             [
              0.8888888888888888,
              "#fdca26"
             ],
             [
              1,
              "#f0f921"
             ]
            ],
            "type": "surface"
           }
          ],
          "table": [
           {
            "cells": {
             "fill": {
              "color": "#EBF0F8"
             },
             "line": {
              "color": "white"
             }
            },
            "header": {
             "fill": {
              "color": "#C8D4E3"
             },
             "line": {
              "color": "white"
             }
            },
            "type": "table"
           }
          ]
         },
         "layout": {
          "annotationdefaults": {
           "arrowcolor": "#2a3f5f",
           "arrowhead": 0,
           "arrowwidth": 1
          },
          "autotypenumbers": "strict",
          "coloraxis": {
           "colorbar": {
            "outlinewidth": 0,
            "ticks": ""
           }
          },
          "colorscale": {
           "diverging": [
            [
             0,
             "#8e0152"
            ],
            [
             0.1,
             "#c51b7d"
            ],
            [
             0.2,
             "#de77ae"
            ],
            [
             0.3,
             "#f1b6da"
            ],
            [
             0.4,
             "#fde0ef"
            ],
            [
             0.5,
             "#f7f7f7"
            ],
            [
             0.6,
             "#e6f5d0"
            ],
            [
             0.7,
             "#b8e186"
            ],
            [
             0.8,
             "#7fbc41"
            ],
            [
             0.9,
             "#4d9221"
            ],
            [
             1,
             "#276419"
            ]
           ],
           "sequential": [
            [
             0,
             "#0d0887"
            ],
            [
             0.1111111111111111,
             "#46039f"
            ],
            [
             0.2222222222222222,
             "#7201a8"
            ],
            [
             0.3333333333333333,
             "#9c179e"
            ],
            [
             0.4444444444444444,
             "#bd3786"
            ],
            [
             0.5555555555555556,
             "#d8576b"
            ],
            [
             0.6666666666666666,
             "#ed7953"
            ],
            [
             0.7777777777777778,
             "#fb9f3a"
            ],
            [
             0.8888888888888888,
             "#fdca26"
            ],
            [
             1,
             "#f0f921"
            ]
           ],
           "sequentialminus": [
            [
             0,
             "#0d0887"
            ],
            [
             0.1111111111111111,
             "#46039f"
            ],
            [
             0.2222222222222222,
             "#7201a8"
            ],
            [
             0.3333333333333333,
             "#9c179e"
            ],
            [
             0.4444444444444444,
             "#bd3786"
            ],
            [
             0.5555555555555556,
             "#d8576b"
            ],
            [
             0.6666666666666666,
             "#ed7953"
            ],
            [
             0.7777777777777778,
             "#fb9f3a"
            ],
            [
             0.8888888888888888,
             "#fdca26"
            ],
            [
             1,
             "#f0f921"
            ]
           ]
          },
          "colorway": [
           "#636efa",
           "#EF553B",
           "#00cc96",
           "#ab63fa",
           "#FFA15A",
           "#19d3f3",
           "#FF6692",
           "#B6E880",
           "#FF97FF",
           "#FECB52"
          ],
          "font": {
           "color": "#2a3f5f"
          },
          "geo": {
           "bgcolor": "white",
           "lakecolor": "white",
           "landcolor": "#E5ECF6",
           "showlakes": true,
           "showland": true,
           "subunitcolor": "white"
          },
          "hoverlabel": {
           "align": "left"
          },
          "hovermode": "closest",
          "mapbox": {
           "style": "light"
          },
          "paper_bgcolor": "white",
          "plot_bgcolor": "#E5ECF6",
          "polar": {
           "angularaxis": {
            "gridcolor": "white",
            "linecolor": "white",
            "ticks": ""
           },
           "bgcolor": "#E5ECF6",
           "radialaxis": {
            "gridcolor": "white",
            "linecolor": "white",
            "ticks": ""
           }
          },
          "scene": {
           "xaxis": {
            "backgroundcolor": "#E5ECF6",
            "gridcolor": "white",
            "gridwidth": 2,
            "linecolor": "white",
            "showbackground": true,
            "ticks": "",
            "zerolinecolor": "white"
           },
           "yaxis": {
            "backgroundcolor": "#E5ECF6",
            "gridcolor": "white",
            "gridwidth": 2,
            "linecolor": "white",
            "showbackground": true,
            "ticks": "",
            "zerolinecolor": "white"
           },
           "zaxis": {
            "backgroundcolor": "#E5ECF6",
            "gridcolor": "white",
            "gridwidth": 2,
            "linecolor": "white",
            "showbackground": true,
            "ticks": "",
            "zerolinecolor": "white"
           }
          },
          "shapedefaults": {
           "line": {
            "color": "#2a3f5f"
           }
          },
          "ternary": {
           "aaxis": {
            "gridcolor": "white",
            "linecolor": "white",
            "ticks": ""
           },
           "baxis": {
            "gridcolor": "white",
            "linecolor": "white",
            "ticks": ""
           },
           "bgcolor": "#E5ECF6",
           "caxis": {
            "gridcolor": "white",
            "linecolor": "white",
            "ticks": ""
           }
          },
          "title": {
           "x": 0.05
          },
          "xaxis": {
           "automargin": true,
           "gridcolor": "white",
           "linecolor": "white",
           "ticks": "",
           "title": {
            "standoff": 15
           },
           "zerolinecolor": "white",
           "zerolinewidth": 2
          },
          "yaxis": {
           "automargin": true,
           "gridcolor": "white",
           "linecolor": "white",
           "ticks": "",
           "title": {
            "standoff": 15
           },
           "zerolinecolor": "white",
           "zerolinewidth": 2
          }
         }
        },
        "title": {
         "text": "Distribución de Vehículos Eléctricos por País"
        }
       }
      }
     },
     "metadata": {},
     "output_type": "display_data"
    }
   ],
   "source": [
    "# Calcular proporciones para el ancho de cada barra\n",
    "elec_paises[\"ancho\"] = elec_paises[\"total_vehiculos\"] / elec_paises[\"total_vehiculos\"].sum()\n",
    "\n",
    "# Definir los colores personalizados según la paleta proporcionada\n",
    "custom_colors = [\"#FFFF00\", \"#B5E61D\", \"#6AB340\", \"#3C8165\", \"#3C6C87\"]  # Colores de la paleta de la imagen\n",
    "\n",
    "# Crear el gráfico de Marimekko (Mosaic Chart) usando Plotly\n",
    "fig = px.treemap(\n",
    "    elec_paises,\n",
    "    path=[\"pais\"], \n",
    "    values=\"vehiculos_electricos\",  # Tamaño basado en vehículos eléctricos\n",
    "    color=\"vehiculos_electricos\",\n",
    "    color_continuous_scale=custom_colors,  # Aplicar la paleta de color personalizada\n",
    "    range_color=[500000, 5000000],  # Escala de color ajustada\n",
    "    title=\"Distribución de Vehículos Eléctricos por País\"\n",
    ")\n",
    "\n",
    "# Configurar el formato y estilo del gráfico\n",
    "fig.update_layout(\n",
    "    margin=dict(t=50, l=25, r=25, b=25),\n",
    "    coloraxis_colorbar=dict(title=\"Vehículos Eléctricos\"),\n",
    "    font=dict(size=18),  # Aumentar tamaño de fuente\n",
    "    paper_bgcolor=\"white\"  # Fondo blanco para un diseño más limpio\n",
    ")\n",
    "\n",
    "# Quitar los bordes y ajustar el estilo de texto\n",
    "fig.update_traces(\n",
    "    texttemplate=\"<b>%{label}</b>\",  # Texto en negrita\n",
    "    textfont_size=20,  # Aumentar el tamaño de los nombres de los países\n",
    "    marker_line_width=0  # Quitar bordes de los bloques\n",
    ")\n",
    "\n",
    "fig.show()"
   ]
  },
  {
   "cell_type": "markdown",
   "metadata": {},
   "source": [
    "#### OKEY, PERO AHORA SERÍA INTERESANTE OBSERVAR CON CUÁNTOS **PUNTOS DE CARGA CUENTA ESPAÑA** PARA IMPULSAR EL **MOVIMIENTO ELECTRICO**"
   ]
  },
  {
   "cell_type": "code",
   "execution_count": 434,
   "metadata": {},
   "outputs": [
    {
     "data": {
      "text/html": [
       "<div>\n",
       "<style scoped>\n",
       "    .dataframe tbody tr th:only-of-type {\n",
       "        vertical-align: middle;\n",
       "    }\n",
       "\n",
       "    .dataframe tbody tr th {\n",
       "        vertical-align: top;\n",
       "    }\n",
       "\n",
       "    .dataframe thead th {\n",
       "        text-align: right;\n",
       "    }\n",
       "</style>\n",
       "<table border=\"1\" class=\"dataframe\">\n",
       "  <thead>\n",
       "    <tr style=\"text-align: right;\">\n",
       "      <th></th>\n",
       "      <th>comunidad_autonoma</th>\n",
       "      <th>puntos_carga</th>\n",
       "      <th>capital</th>\n",
       "      <th>latitud</th>\n",
       "      <th>longitud</th>\n",
       "    </tr>\n",
       "  </thead>\n",
       "  <tbody>\n",
       "    <tr>\n",
       "      <th>0</th>\n",
       "      <td>Cataluña</td>\n",
       "      <td>8045</td>\n",
       "      <td>Barcelona</td>\n",
       "      <td>41.3888</td>\n",
       "      <td>2.1590</td>\n",
       "    </tr>\n",
       "    <tr>\n",
       "      <th>1</th>\n",
       "      <td>Comunidad de Madrid</td>\n",
       "      <td>4360</td>\n",
       "      <td>Madrid</td>\n",
       "      <td>40.4168</td>\n",
       "      <td>-3.7038</td>\n",
       "    </tr>\n",
       "    <tr>\n",
       "      <th>2</th>\n",
       "      <td>Comunidad Valenciana</td>\n",
       "      <td>3637</td>\n",
       "      <td>Valencia</td>\n",
       "      <td>39.4699</td>\n",
       "      <td>-0.3763</td>\n",
       "    </tr>\n",
       "    <tr>\n",
       "      <th>3</th>\n",
       "      <td>Andalucía</td>\n",
       "      <td>3716</td>\n",
       "      <td>Sevilla</td>\n",
       "      <td>37.3886</td>\n",
       "      <td>-5.9823</td>\n",
       "    </tr>\n",
       "    <tr>\n",
       "      <th>4</th>\n",
       "      <td>Castilla y León</td>\n",
       "      <td>2218</td>\n",
       "      <td>Valladolid</td>\n",
       "      <td>41.6523</td>\n",
       "      <td>-4.7245</td>\n",
       "    </tr>\n",
       "    <tr>\n",
       "      <th>5</th>\n",
       "      <td>Islas Canarias</td>\n",
       "      <td>1286</td>\n",
       "      <td>Las Palmas de Gran Canaria</td>\n",
       "      <td>28.1235</td>\n",
       "      <td>-15.4363</td>\n",
       "    </tr>\n",
       "    <tr>\n",
       "      <th>6</th>\n",
       "      <td>Baleares</td>\n",
       "      <td>1072</td>\n",
       "      <td>Palma de Mallorca</td>\n",
       "      <td>39.5696</td>\n",
       "      <td>2.6502</td>\n",
       "    </tr>\n",
       "    <tr>\n",
       "      <th>7</th>\n",
       "      <td>País Vasco</td>\n",
       "      <td>1348</td>\n",
       "      <td>Vitoria-Gasteiz</td>\n",
       "      <td>42.8465</td>\n",
       "      <td>-2.6716</td>\n",
       "    </tr>\n",
       "    <tr>\n",
       "      <th>8</th>\n",
       "      <td>Galicia</td>\n",
       "      <td>1199</td>\n",
       "      <td>Santiago de Compostela</td>\n",
       "      <td>42.8782</td>\n",
       "      <td>-8.5448</td>\n",
       "    </tr>\n",
       "    <tr>\n",
       "      <th>9</th>\n",
       "      <td>Castilla-La Mancha</td>\n",
       "      <td>1209</td>\n",
       "      <td>Toledo</td>\n",
       "      <td>39.8628</td>\n",
       "      <td>-4.0273</td>\n",
       "    </tr>\n",
       "    <tr>\n",
       "      <th>10</th>\n",
       "      <td>Aragón</td>\n",
       "      <td>829</td>\n",
       "      <td>Zaragoza</td>\n",
       "      <td>41.6488</td>\n",
       "      <td>-0.8891</td>\n",
       "    </tr>\n",
       "    <tr>\n",
       "      <th>11</th>\n",
       "      <td>Murcia</td>\n",
       "      <td>803</td>\n",
       "      <td>Murcia</td>\n",
       "      <td>37.9922</td>\n",
       "      <td>-1.1307</td>\n",
       "    </tr>\n",
       "    <tr>\n",
       "      <th>12</th>\n",
       "      <td>Extremadura</td>\n",
       "      <td>650</td>\n",
       "      <td>Mérida</td>\n",
       "      <td>38.9161</td>\n",
       "      <td>-6.3440</td>\n",
       "    </tr>\n",
       "    <tr>\n",
       "      <th>13</th>\n",
       "      <td>Asturias</td>\n",
       "      <td>548</td>\n",
       "      <td>Oviedo</td>\n",
       "      <td>43.3619</td>\n",
       "      <td>-5.8494</td>\n",
       "    </tr>\n",
       "    <tr>\n",
       "      <th>14</th>\n",
       "      <td>Navarra</td>\n",
       "      <td>575</td>\n",
       "      <td>Pamplona</td>\n",
       "      <td>42.8125</td>\n",
       "      <td>-1.6458</td>\n",
       "    </tr>\n",
       "    <tr>\n",
       "      <th>15</th>\n",
       "      <td>Cantabria</td>\n",
       "      <td>689</td>\n",
       "      <td>Santander</td>\n",
       "      <td>43.4623</td>\n",
       "      <td>-3.8099</td>\n",
       "    </tr>\n",
       "    <tr>\n",
       "      <th>16</th>\n",
       "      <td>La Rioja</td>\n",
       "      <td>204</td>\n",
       "      <td>Logroño</td>\n",
       "      <td>42.4627</td>\n",
       "      <td>-2.4448</td>\n",
       "    </tr>\n",
       "    <tr>\n",
       "      <th>17</th>\n",
       "      <td>Melilla</td>\n",
       "      <td>26</td>\n",
       "      <td>Melilla</td>\n",
       "      <td>35.2923</td>\n",
       "      <td>-2.9381</td>\n",
       "    </tr>\n",
       "    <tr>\n",
       "      <th>18</th>\n",
       "      <td>Ceuta</td>\n",
       "      <td>8</td>\n",
       "      <td>Ceuta</td>\n",
       "      <td>35.8894</td>\n",
       "      <td>-5.3198</td>\n",
       "    </tr>\n",
       "  </tbody>\n",
       "</table>\n",
       "</div>"
      ],
      "text/plain": [
       "      comunidad_autonoma  puntos_carga                     capital  latitud  \\\n",
       "0               Cataluña          8045                   Barcelona  41.3888   \n",
       "1    Comunidad de Madrid          4360                      Madrid  40.4168   \n",
       "2   Comunidad Valenciana          3637                    Valencia  39.4699   \n",
       "3              Andalucía          3716                     Sevilla  37.3886   \n",
       "4        Castilla y León          2218                  Valladolid  41.6523   \n",
       "5         Islas Canarias          1286  Las Palmas de Gran Canaria  28.1235   \n",
       "6               Baleares          1072           Palma de Mallorca  39.5696   \n",
       "7             País Vasco          1348             Vitoria-Gasteiz  42.8465   \n",
       "8                Galicia          1199      Santiago de Compostela  42.8782   \n",
       "9     Castilla-La Mancha          1209                      Toledo  39.8628   \n",
       "10                Aragón           829                    Zaragoza  41.6488   \n",
       "11                Murcia           803                      Murcia  37.9922   \n",
       "12           Extremadura           650                      Mérida  38.9161   \n",
       "13              Asturias           548                      Oviedo  43.3619   \n",
       "14               Navarra           575                    Pamplona  42.8125   \n",
       "15             Cantabria           689                   Santander  43.4623   \n",
       "16              La Rioja           204                     Logroño  42.4627   \n",
       "17               Melilla            26                     Melilla  35.2923   \n",
       "18                 Ceuta             8                       Ceuta  35.8894   \n",
       "\n",
       "    longitud  \n",
       "0     2.1590  \n",
       "1    -3.7038  \n",
       "2    -0.3763  \n",
       "3    -5.9823  \n",
       "4    -4.7245  \n",
       "5   -15.4363  \n",
       "6     2.6502  \n",
       "7    -2.6716  \n",
       "8    -8.5448  \n",
       "9    -4.0273  \n",
       "10   -0.8891  \n",
       "11   -1.1307  \n",
       "12   -6.3440  \n",
       "13   -5.8494  \n",
       "14   -1.6458  \n",
       "15   -3.8099  \n",
       "16   -2.4448  \n",
       "17   -2.9381  \n",
       "18   -5.3198  "
      ]
     },
     "execution_count": 434,
     "metadata": {},
     "output_type": "execute_result"
    }
   ],
   "source": [
    "puntos_esp = pd.read_csv(\"data/puntos_carga_comunidades_coordenadas.csv\")\n",
    "puntos_esp"
   ]
  },
  {
   "cell_type": "code",
   "execution_count": 435,
   "metadata": {},
   "outputs": [
    {
     "data": {
      "text/plain": [
       "np.int64(32422)"
      ]
     },
     "execution_count": 435,
     "metadata": {},
     "output_type": "execute_result"
    }
   ],
   "source": [
    "total_puntos_esp = puntos_esp.loc[:,\"puntos_carga\"].sum()\n",
    "total_puntos_esp"
   ]
  },
  {
   "cell_type": "code",
   "execution_count": 436,
   "metadata": {},
   "outputs": [
    {
     "data": {
      "text/html": [
       "<div>\n",
       "<style scoped>\n",
       "    .dataframe tbody tr th:only-of-type {\n",
       "        vertical-align: middle;\n",
       "    }\n",
       "\n",
       "    .dataframe tbody tr th {\n",
       "        vertical-align: top;\n",
       "    }\n",
       "\n",
       "    .dataframe thead th {\n",
       "        text-align: right;\n",
       "    }\n",
       "</style>\n",
       "<table border=\"1\" class=\"dataframe\">\n",
       "  <thead>\n",
       "    <tr style=\"text-align: right;\">\n",
       "      <th></th>\n",
       "      <th>comunidad_autonoma</th>\n",
       "      <th>puntos_carga</th>\n",
       "      <th>capital</th>\n",
       "      <th>latitud</th>\n",
       "      <th>longitud</th>\n",
       "    </tr>\n",
       "  </thead>\n",
       "  <tbody>\n",
       "    <tr>\n",
       "      <th>0</th>\n",
       "      <td>Cataluña</td>\n",
       "      <td>8045</td>\n",
       "      <td>Barcelona</td>\n",
       "      <td>41.3888</td>\n",
       "      <td>2.1590</td>\n",
       "    </tr>\n",
       "    <tr>\n",
       "      <th>1</th>\n",
       "      <td>Comunidad de Madrid</td>\n",
       "      <td>4360</td>\n",
       "      <td>Madrid</td>\n",
       "      <td>40.4168</td>\n",
       "      <td>-3.7038</td>\n",
       "    </tr>\n",
       "    <tr>\n",
       "      <th>3</th>\n",
       "      <td>Andalucía</td>\n",
       "      <td>3716</td>\n",
       "      <td>Sevilla</td>\n",
       "      <td>37.3886</td>\n",
       "      <td>-5.9823</td>\n",
       "    </tr>\n",
       "    <tr>\n",
       "      <th>2</th>\n",
       "      <td>Comunidad Valenciana</td>\n",
       "      <td>3637</td>\n",
       "      <td>Valencia</td>\n",
       "      <td>39.4699</td>\n",
       "      <td>-0.3763</td>\n",
       "    </tr>\n",
       "    <tr>\n",
       "      <th>4</th>\n",
       "      <td>Castilla y León</td>\n",
       "      <td>2218</td>\n",
       "      <td>Valladolid</td>\n",
       "      <td>41.6523</td>\n",
       "      <td>-4.7245</td>\n",
       "    </tr>\n",
       "    <tr>\n",
       "      <th>7</th>\n",
       "      <td>País Vasco</td>\n",
       "      <td>1348</td>\n",
       "      <td>Vitoria-Gasteiz</td>\n",
       "      <td>42.8465</td>\n",
       "      <td>-2.6716</td>\n",
       "    </tr>\n",
       "    <tr>\n",
       "      <th>5</th>\n",
       "      <td>Islas Canarias</td>\n",
       "      <td>1286</td>\n",
       "      <td>Las Palmas de Gran Canaria</td>\n",
       "      <td>28.1235</td>\n",
       "      <td>-15.4363</td>\n",
       "    </tr>\n",
       "    <tr>\n",
       "      <th>9</th>\n",
       "      <td>Castilla-La Mancha</td>\n",
       "      <td>1209</td>\n",
       "      <td>Toledo</td>\n",
       "      <td>39.8628</td>\n",
       "      <td>-4.0273</td>\n",
       "    </tr>\n",
       "    <tr>\n",
       "      <th>8</th>\n",
       "      <td>Galicia</td>\n",
       "      <td>1199</td>\n",
       "      <td>Santiago de Compostela</td>\n",
       "      <td>42.8782</td>\n",
       "      <td>-8.5448</td>\n",
       "    </tr>\n",
       "    <tr>\n",
       "      <th>6</th>\n",
       "      <td>Baleares</td>\n",
       "      <td>1072</td>\n",
       "      <td>Palma de Mallorca</td>\n",
       "      <td>39.5696</td>\n",
       "      <td>2.6502</td>\n",
       "    </tr>\n",
       "  </tbody>\n",
       "</table>\n",
       "</div>"
      ],
      "text/plain": [
       "     comunidad_autonoma  puntos_carga                     capital  latitud  \\\n",
       "0              Cataluña          8045                   Barcelona  41.3888   \n",
       "1   Comunidad de Madrid          4360                      Madrid  40.4168   \n",
       "3             Andalucía          3716                     Sevilla  37.3886   \n",
       "2  Comunidad Valenciana          3637                    Valencia  39.4699   \n",
       "4       Castilla y León          2218                  Valladolid  41.6523   \n",
       "7            País Vasco          1348             Vitoria-Gasteiz  42.8465   \n",
       "5        Islas Canarias          1286  Las Palmas de Gran Canaria  28.1235   \n",
       "9    Castilla-La Mancha          1209                      Toledo  39.8628   \n",
       "8               Galicia          1199      Santiago de Compostela  42.8782   \n",
       "6              Baleares          1072           Palma de Mallorca  39.5696   \n",
       "\n",
       "   longitud  \n",
       "0    2.1590  \n",
       "1   -3.7038  \n",
       "3   -5.9823  \n",
       "2   -0.3763  \n",
       "4   -4.7245  \n",
       "7   -2.6716  \n",
       "5  -15.4363  \n",
       "9   -4.0273  \n",
       "8   -8.5448  \n",
       "6    2.6502  "
      ]
     },
     "execution_count": 436,
     "metadata": {},
     "output_type": "execute_result"
    }
   ],
   "source": [
    "puntos_esp.sort_values(by=\"puntos_carga\", ascending=False).head(10) # Las 10 ciudades TOP en Puntos de Carga"
   ]
  },
  {
   "cell_type": "code",
   "execution_count": 471,
   "metadata": {},
   "outputs": [
    {
     "data": {
      "text/html": [
       "<div style=\"width:100%;\"><div style=\"position:relative;width:100%;height:0;padding-bottom:60%;\"><span style=\"color:#565656\">Make this Notebook Trusted to load map: File -> Trust Notebook</span><iframe srcdoc=\"&lt;!DOCTYPE html&gt;\n",
       "&lt;html&gt;\n",
       "&lt;head&gt;\n",
       "    \n",
       "    &lt;meta http-equiv=&quot;content-type&quot; content=&quot;text/html; charset=UTF-8&quot; /&gt;\n",
       "    \n",
       "        &lt;script&gt;\n",
       "            L_NO_TOUCH = false;\n",
       "            L_DISABLE_3D = false;\n",
       "        &lt;/script&gt;\n",
       "    \n",
       "    &lt;style&gt;html, body {width: 100%;height: 100%;margin: 0;padding: 0;}&lt;/style&gt;\n",
       "    &lt;style&gt;#map {position:absolute;top:0;bottom:0;right:0;left:0;}&lt;/style&gt;\n",
       "    &lt;script src=&quot;https://cdn.jsdelivr.net/npm/leaflet@1.9.3/dist/leaflet.js&quot;&gt;&lt;/script&gt;\n",
       "    &lt;script src=&quot;https://code.jquery.com/jquery-3.7.1.min.js&quot;&gt;&lt;/script&gt;\n",
       "    &lt;script src=&quot;https://cdn.jsdelivr.net/npm/bootstrap@5.2.2/dist/js/bootstrap.bundle.min.js&quot;&gt;&lt;/script&gt;\n",
       "    &lt;script src=&quot;https://cdnjs.cloudflare.com/ajax/libs/Leaflet.awesome-markers/2.0.2/leaflet.awesome-markers.js&quot;&gt;&lt;/script&gt;\n",
       "    &lt;link rel=&quot;stylesheet&quot; href=&quot;https://cdn.jsdelivr.net/npm/leaflet@1.9.3/dist/leaflet.css&quot;/&gt;\n",
       "    &lt;link rel=&quot;stylesheet&quot; href=&quot;https://cdn.jsdelivr.net/npm/bootstrap@5.2.2/dist/css/bootstrap.min.css&quot;/&gt;\n",
       "    &lt;link rel=&quot;stylesheet&quot; href=&quot;https://netdna.bootstrapcdn.com/bootstrap/3.0.0/css/bootstrap-glyphicons.css&quot;/&gt;\n",
       "    &lt;link rel=&quot;stylesheet&quot; href=&quot;https://cdn.jsdelivr.net/npm/@fortawesome/fontawesome-free@6.2.0/css/all.min.css&quot;/&gt;\n",
       "    &lt;link rel=&quot;stylesheet&quot; href=&quot;https://cdnjs.cloudflare.com/ajax/libs/Leaflet.awesome-markers/2.0.2/leaflet.awesome-markers.css&quot;/&gt;\n",
       "    &lt;link rel=&quot;stylesheet&quot; href=&quot;https://cdn.jsdelivr.net/gh/python-visualization/folium/folium/templates/leaflet.awesome.rotate.min.css&quot;/&gt;\n",
       "    \n",
       "            &lt;meta name=&quot;viewport&quot; content=&quot;width=device-width,\n",
       "                initial-scale=1.0, maximum-scale=1.0, user-scalable=no&quot; /&gt;\n",
       "            &lt;style&gt;\n",
       "                #map_dc4135e3d591534c77681409c3212de2 {\n",
       "                    position: relative;\n",
       "                    width: 100.0%;\n",
       "                    height: 100.0%;\n",
       "                    left: 0.0%;\n",
       "                    top: 0.0%;\n",
       "                }\n",
       "                .leaflet-container { font-size: 1rem; }\n",
       "            &lt;/style&gt;\n",
       "        \n",
       "&lt;/head&gt;\n",
       "&lt;body&gt;\n",
       "    \n",
       "    \n",
       "            &lt;div class=&quot;folium-map&quot; id=&quot;map_dc4135e3d591534c77681409c3212de2&quot; &gt;&lt;/div&gt;\n",
       "        \n",
       "&lt;/body&gt;\n",
       "&lt;script&gt;\n",
       "    \n",
       "    \n",
       "            var map_dc4135e3d591534c77681409c3212de2 = L.map(\n",
       "                &quot;map_dc4135e3d591534c77681409c3212de2&quot;,\n",
       "                {\n",
       "                    center: [40.4168, -3.7038],\n",
       "                    crs: L.CRS.EPSG3857,\n",
       "                    zoom: 5.5,\n",
       "                    zoomControl: true,\n",
       "                    preferCanvas: false,\n",
       "                }\n",
       "            );\n",
       "\n",
       "            \n",
       "\n",
       "        \n",
       "    \n",
       "            var tile_layer_39512310d4c1e3b936328ea2e1b85972 = L.tileLayer(\n",
       "                &quot;https://{s}.basemaps.cartocdn.com/light_all/{z}/{x}/{y}{r}.png&quot;,\n",
       "                {&quot;attribution&quot;: &quot;Map tiles by Stamen Design&quot;, &quot;detectRetina&quot;: false, &quot;maxNativeZoom&quot;: 20, &quot;maxZoom&quot;: 20, &quot;minZoom&quot;: 0, &quot;noWrap&quot;: false, &quot;opacity&quot;: 1, &quot;subdomains&quot;: &quot;abcd&quot;, &quot;tms&quot;: false}\n",
       "            );\n",
       "        \n",
       "    \n",
       "            tile_layer_39512310d4c1e3b936328ea2e1b85972.addTo(map_dc4135e3d591534c77681409c3212de2);\n",
       "        \n",
       "    \n",
       "            var circle_marker_89b00c1092e8b996c091990a54b4951f = L.circleMarker(\n",
       "                [41.3888, 2.159],\n",
       "                {&quot;bubblingMouseEvents&quot;: true, &quot;color&quot;: &quot;#bfdc66&quot;, &quot;dashArray&quot;: null, &quot;dashOffset&quot;: null, &quot;fill&quot;: true, &quot;fillColor&quot;: &quot;#d1ec3f&quot;, &quot;fillOpacity&quot;: 0.5, &quot;fillRule&quot;: &quot;evenodd&quot;, &quot;lineCap&quot;: &quot;round&quot;, &quot;lineJoin&quot;: &quot;round&quot;, &quot;opacity&quot;: 1.0, &quot;radius&quot;: 73.13636363636364, &quot;stroke&quot;: true, &quot;weight&quot;: 2}\n",
       "            ).addTo(map_dc4135e3d591534c77681409c3212de2);\n",
       "        \n",
       "    \n",
       "            circle_marker_89b00c1092e8b996c091990a54b4951f.bindTooltip(\n",
       "                `&lt;div&gt;\n",
       "                     Barcelona: 8045 puntos de recarga\n",
       "                 &lt;/div&gt;`,\n",
       "                {&quot;sticky&quot;: true}\n",
       "            );\n",
       "        \n",
       "    \n",
       "            var circle_marker_5dab0f70f362eb9444b95999ce5b3591 = L.circleMarker(\n",
       "                [40.4168, -3.7038],\n",
       "                {&quot;bubblingMouseEvents&quot;: true, &quot;color&quot;: &quot;#bfdc66&quot;, &quot;dashArray&quot;: null, &quot;dashOffset&quot;: null, &quot;fill&quot;: true, &quot;fillColor&quot;: &quot;#d1ec3f&quot;, &quot;fillOpacity&quot;: 0.5, &quot;fillRule&quot;: &quot;evenodd&quot;, &quot;lineCap&quot;: &quot;round&quot;, &quot;lineJoin&quot;: &quot;round&quot;, &quot;opacity&quot;: 1.0, &quot;radius&quot;: 39.63636363636363, &quot;stroke&quot;: true, &quot;weight&quot;: 2}\n",
       "            ).addTo(map_dc4135e3d591534c77681409c3212de2);\n",
       "        \n",
       "    \n",
       "            circle_marker_5dab0f70f362eb9444b95999ce5b3591.bindTooltip(\n",
       "                `&lt;div&gt;\n",
       "                     Madrid: 4360 puntos de recarga\n",
       "                 &lt;/div&gt;`,\n",
       "                {&quot;sticky&quot;: true}\n",
       "            );\n",
       "        \n",
       "    \n",
       "            var circle_marker_50a627f67bef25b245ec7749e4eadf45 = L.circleMarker(\n",
       "                [39.4699, -0.3763],\n",
       "                {&quot;bubblingMouseEvents&quot;: true, &quot;color&quot;: &quot;#bfdc66&quot;, &quot;dashArray&quot;: null, &quot;dashOffset&quot;: null, &quot;fill&quot;: true, &quot;fillColor&quot;: &quot;#d1ec3f&quot;, &quot;fillOpacity&quot;: 0.5, &quot;fillRule&quot;: &quot;evenodd&quot;, &quot;lineCap&quot;: &quot;round&quot;, &quot;lineJoin&quot;: &quot;round&quot;, &quot;opacity&quot;: 1.0, &quot;radius&quot;: 33.06363636363636, &quot;stroke&quot;: true, &quot;weight&quot;: 2}\n",
       "            ).addTo(map_dc4135e3d591534c77681409c3212de2);\n",
       "        \n",
       "    \n",
       "            circle_marker_50a627f67bef25b245ec7749e4eadf45.bindTooltip(\n",
       "                `&lt;div&gt;\n",
       "                     Valencia: 3637 puntos de recarga\n",
       "                 &lt;/div&gt;`,\n",
       "                {&quot;sticky&quot;: true}\n",
       "            );\n",
       "        \n",
       "    \n",
       "            var circle_marker_4afb7c9be24d9728531f75cca7ea74da = L.circleMarker(\n",
       "                [37.3886, -5.9823],\n",
       "                {&quot;bubblingMouseEvents&quot;: true, &quot;color&quot;: &quot;#bfdc66&quot;, &quot;dashArray&quot;: null, &quot;dashOffset&quot;: null, &quot;fill&quot;: true, &quot;fillColor&quot;: &quot;#d1ec3f&quot;, &quot;fillOpacity&quot;: 0.5, &quot;fillRule&quot;: &quot;evenodd&quot;, &quot;lineCap&quot;: &quot;round&quot;, &quot;lineJoin&quot;: &quot;round&quot;, &quot;opacity&quot;: 1.0, &quot;radius&quot;: 33.78181818181818, &quot;stroke&quot;: true, &quot;weight&quot;: 2}\n",
       "            ).addTo(map_dc4135e3d591534c77681409c3212de2);\n",
       "        \n",
       "    \n",
       "            circle_marker_4afb7c9be24d9728531f75cca7ea74da.bindTooltip(\n",
       "                `&lt;div&gt;\n",
       "                     Sevilla: 3716 puntos de recarga\n",
       "                 &lt;/div&gt;`,\n",
       "                {&quot;sticky&quot;: true}\n",
       "            );\n",
       "        \n",
       "    \n",
       "            var circle_marker_22ee942c47cab83f5f4f9307ab0e5b5a = L.circleMarker(\n",
       "                [41.6523, -4.7245],\n",
       "                {&quot;bubblingMouseEvents&quot;: true, &quot;color&quot;: &quot;#bfdc66&quot;, &quot;dashArray&quot;: null, &quot;dashOffset&quot;: null, &quot;fill&quot;: true, &quot;fillColor&quot;: &quot;#d1ec3f&quot;, &quot;fillOpacity&quot;: 0.5, &quot;fillRule&quot;: &quot;evenodd&quot;, &quot;lineCap&quot;: &quot;round&quot;, &quot;lineJoin&quot;: &quot;round&quot;, &quot;opacity&quot;: 1.0, &quot;radius&quot;: 20.163636363636364, &quot;stroke&quot;: true, &quot;weight&quot;: 2}\n",
       "            ).addTo(map_dc4135e3d591534c77681409c3212de2);\n",
       "        \n",
       "    \n",
       "            circle_marker_22ee942c47cab83f5f4f9307ab0e5b5a.bindTooltip(\n",
       "                `&lt;div&gt;\n",
       "                     Valladolid: 2218 puntos de recarga\n",
       "                 &lt;/div&gt;`,\n",
       "                {&quot;sticky&quot;: true}\n",
       "            );\n",
       "        \n",
       "    \n",
       "            var circle_marker_6db483b1a95564f860223d80d62e1dbd = L.circleMarker(\n",
       "                [28.1235, -15.4363],\n",
       "                {&quot;bubblingMouseEvents&quot;: true, &quot;color&quot;: &quot;#bfdc66&quot;, &quot;dashArray&quot;: null, &quot;dashOffset&quot;: null, &quot;fill&quot;: true, &quot;fillColor&quot;: &quot;#d1ec3f&quot;, &quot;fillOpacity&quot;: 0.5, &quot;fillRule&quot;: &quot;evenodd&quot;, &quot;lineCap&quot;: &quot;round&quot;, &quot;lineJoin&quot;: &quot;round&quot;, &quot;opacity&quot;: 1.0, &quot;radius&quot;: 11.690909090909091, &quot;stroke&quot;: true, &quot;weight&quot;: 2}\n",
       "            ).addTo(map_dc4135e3d591534c77681409c3212de2);\n",
       "        \n",
       "    \n",
       "            circle_marker_6db483b1a95564f860223d80d62e1dbd.bindTooltip(\n",
       "                `&lt;div&gt;\n",
       "                     Las Palmas de Gran Canaria: 1286 puntos de recarga\n",
       "                 &lt;/div&gt;`,\n",
       "                {&quot;sticky&quot;: true}\n",
       "            );\n",
       "        \n",
       "    \n",
       "            var circle_marker_aea33e6062365dddd6d99652c3783e78 = L.circleMarker(\n",
       "                [39.5696, 2.6502],\n",
       "                {&quot;bubblingMouseEvents&quot;: true, &quot;color&quot;: &quot;#bfdc66&quot;, &quot;dashArray&quot;: null, &quot;dashOffset&quot;: null, &quot;fill&quot;: true, &quot;fillColor&quot;: &quot;#d1ec3f&quot;, &quot;fillOpacity&quot;: 0.5, &quot;fillRule&quot;: &quot;evenodd&quot;, &quot;lineCap&quot;: &quot;round&quot;, &quot;lineJoin&quot;: &quot;round&quot;, &quot;opacity&quot;: 1.0, &quot;radius&quot;: 9.745454545454546, &quot;stroke&quot;: true, &quot;weight&quot;: 2}\n",
       "            ).addTo(map_dc4135e3d591534c77681409c3212de2);\n",
       "        \n",
       "    \n",
       "            circle_marker_aea33e6062365dddd6d99652c3783e78.bindTooltip(\n",
       "                `&lt;div&gt;\n",
       "                     Palma de Mallorca: 1072 puntos de recarga\n",
       "                 &lt;/div&gt;`,\n",
       "                {&quot;sticky&quot;: true}\n",
       "            );\n",
       "        \n",
       "    \n",
       "            var circle_marker_5cee49ce524f37c4f3768a8dde6c0f44 = L.circleMarker(\n",
       "                [42.8465, -2.6716],\n",
       "                {&quot;bubblingMouseEvents&quot;: true, &quot;color&quot;: &quot;#bfdc66&quot;, &quot;dashArray&quot;: null, &quot;dashOffset&quot;: null, &quot;fill&quot;: true, &quot;fillColor&quot;: &quot;#d1ec3f&quot;, &quot;fillOpacity&quot;: 0.5, &quot;fillRule&quot;: &quot;evenodd&quot;, &quot;lineCap&quot;: &quot;round&quot;, &quot;lineJoin&quot;: &quot;round&quot;, &quot;opacity&quot;: 1.0, &quot;radius&quot;: 12.254545454545454, &quot;stroke&quot;: true, &quot;weight&quot;: 2}\n",
       "            ).addTo(map_dc4135e3d591534c77681409c3212de2);\n",
       "        \n",
       "    \n",
       "            circle_marker_5cee49ce524f37c4f3768a8dde6c0f44.bindTooltip(\n",
       "                `&lt;div&gt;\n",
       "                     Vitoria-Gasteiz: 1348 puntos de recarga\n",
       "                 &lt;/div&gt;`,\n",
       "                {&quot;sticky&quot;: true}\n",
       "            );\n",
       "        \n",
       "    \n",
       "            var circle_marker_ee01f094b72758052674aec0965f3937 = L.circleMarker(\n",
       "                [42.8782, -8.5448],\n",
       "                {&quot;bubblingMouseEvents&quot;: true, &quot;color&quot;: &quot;#bfdc66&quot;, &quot;dashArray&quot;: null, &quot;dashOffset&quot;: null, &quot;fill&quot;: true, &quot;fillColor&quot;: &quot;#d1ec3f&quot;, &quot;fillOpacity&quot;: 0.5, &quot;fillRule&quot;: &quot;evenodd&quot;, &quot;lineCap&quot;: &quot;round&quot;, &quot;lineJoin&quot;: &quot;round&quot;, &quot;opacity&quot;: 1.0, &quot;radius&quot;: 10.9, &quot;stroke&quot;: true, &quot;weight&quot;: 2}\n",
       "            ).addTo(map_dc4135e3d591534c77681409c3212de2);\n",
       "        \n",
       "    \n",
       "            circle_marker_ee01f094b72758052674aec0965f3937.bindTooltip(\n",
       "                `&lt;div&gt;\n",
       "                     Santiago de Compostela: 1199 puntos de recarga\n",
       "                 &lt;/div&gt;`,\n",
       "                {&quot;sticky&quot;: true}\n",
       "            );\n",
       "        \n",
       "    \n",
       "            var circle_marker_0badf8e6b1d2293f2ae1de8c2f9a3f7b = L.circleMarker(\n",
       "                [39.8628, -4.0273],\n",
       "                {&quot;bubblingMouseEvents&quot;: true, &quot;color&quot;: &quot;#bfdc66&quot;, &quot;dashArray&quot;: null, &quot;dashOffset&quot;: null, &quot;fill&quot;: true, &quot;fillColor&quot;: &quot;#d1ec3f&quot;, &quot;fillOpacity&quot;: 0.5, &quot;fillRule&quot;: &quot;evenodd&quot;, &quot;lineCap&quot;: &quot;round&quot;, &quot;lineJoin&quot;: &quot;round&quot;, &quot;opacity&quot;: 1.0, &quot;radius&quot;: 10.99090909090909, &quot;stroke&quot;: true, &quot;weight&quot;: 2}\n",
       "            ).addTo(map_dc4135e3d591534c77681409c3212de2);\n",
       "        \n",
       "    \n",
       "            circle_marker_0badf8e6b1d2293f2ae1de8c2f9a3f7b.bindTooltip(\n",
       "                `&lt;div&gt;\n",
       "                     Toledo: 1209 puntos de recarga\n",
       "                 &lt;/div&gt;`,\n",
       "                {&quot;sticky&quot;: true}\n",
       "            );\n",
       "        \n",
       "    \n",
       "            var circle_marker_bceff6e9ebbbba86bb393037381e8e62 = L.circleMarker(\n",
       "                [41.6488, -0.8891],\n",
       "                {&quot;bubblingMouseEvents&quot;: true, &quot;color&quot;: &quot;#bfdc66&quot;, &quot;dashArray&quot;: null, &quot;dashOffset&quot;: null, &quot;fill&quot;: true, &quot;fillColor&quot;: &quot;#d1ec3f&quot;, &quot;fillOpacity&quot;: 0.5, &quot;fillRule&quot;: &quot;evenodd&quot;, &quot;lineCap&quot;: &quot;round&quot;, &quot;lineJoin&quot;: &quot;round&quot;, &quot;opacity&quot;: 1.0, &quot;radius&quot;: 7.536363636363636, &quot;stroke&quot;: true, &quot;weight&quot;: 2}\n",
       "            ).addTo(map_dc4135e3d591534c77681409c3212de2);\n",
       "        \n",
       "    \n",
       "            circle_marker_bceff6e9ebbbba86bb393037381e8e62.bindTooltip(\n",
       "                `&lt;div&gt;\n",
       "                     Zaragoza: 829 puntos de recarga\n",
       "                 &lt;/div&gt;`,\n",
       "                {&quot;sticky&quot;: true}\n",
       "            );\n",
       "        \n",
       "    \n",
       "            var circle_marker_85d6701467a2e84e178c0ae728962107 = L.circleMarker(\n",
       "                [37.9922, -1.1307],\n",
       "                {&quot;bubblingMouseEvents&quot;: true, &quot;color&quot;: &quot;#bfdc66&quot;, &quot;dashArray&quot;: null, &quot;dashOffset&quot;: null, &quot;fill&quot;: true, &quot;fillColor&quot;: &quot;#d1ec3f&quot;, &quot;fillOpacity&quot;: 0.5, &quot;fillRule&quot;: &quot;evenodd&quot;, &quot;lineCap&quot;: &quot;round&quot;, &quot;lineJoin&quot;: &quot;round&quot;, &quot;opacity&quot;: 1.0, &quot;radius&quot;: 7.3, &quot;stroke&quot;: true, &quot;weight&quot;: 2}\n",
       "            ).addTo(map_dc4135e3d591534c77681409c3212de2);\n",
       "        \n",
       "    \n",
       "            circle_marker_85d6701467a2e84e178c0ae728962107.bindTooltip(\n",
       "                `&lt;div&gt;\n",
       "                     Murcia: 803 puntos de recarga\n",
       "                 &lt;/div&gt;`,\n",
       "                {&quot;sticky&quot;: true}\n",
       "            );\n",
       "        \n",
       "    \n",
       "            var circle_marker_8a4cde507a8f7167e8caa9e2e8e2b930 = L.circleMarker(\n",
       "                [38.9161, -6.344],\n",
       "                {&quot;bubblingMouseEvents&quot;: true, &quot;color&quot;: &quot;#bfdc66&quot;, &quot;dashArray&quot;: null, &quot;dashOffset&quot;: null, &quot;fill&quot;: true, &quot;fillColor&quot;: &quot;#d1ec3f&quot;, &quot;fillOpacity&quot;: 0.5, &quot;fillRule&quot;: &quot;evenodd&quot;, &quot;lineCap&quot;: &quot;round&quot;, &quot;lineJoin&quot;: &quot;round&quot;, &quot;opacity&quot;: 1.0, &quot;radius&quot;: 5.909090909090909, &quot;stroke&quot;: true, &quot;weight&quot;: 2}\n",
       "            ).addTo(map_dc4135e3d591534c77681409c3212de2);\n",
       "        \n",
       "    \n",
       "            circle_marker_8a4cde507a8f7167e8caa9e2e8e2b930.bindTooltip(\n",
       "                `&lt;div&gt;\n",
       "                     Mérida: 650 puntos de recarga\n",
       "                 &lt;/div&gt;`,\n",
       "                {&quot;sticky&quot;: true}\n",
       "            );\n",
       "        \n",
       "    \n",
       "            var circle_marker_798a6f05652e8c6224227b5c6d37bdbf = L.circleMarker(\n",
       "                [43.3619, -5.8494],\n",
       "                {&quot;bubblingMouseEvents&quot;: true, &quot;color&quot;: &quot;#bfdc66&quot;, &quot;dashArray&quot;: null, &quot;dashOffset&quot;: null, &quot;fill&quot;: true, &quot;fillColor&quot;: &quot;#d1ec3f&quot;, &quot;fillOpacity&quot;: 0.5, &quot;fillRule&quot;: &quot;evenodd&quot;, &quot;lineCap&quot;: &quot;round&quot;, &quot;lineJoin&quot;: &quot;round&quot;, &quot;opacity&quot;: 1.0, &quot;radius&quot;: 4.9818181818181815, &quot;stroke&quot;: true, &quot;weight&quot;: 2}\n",
       "            ).addTo(map_dc4135e3d591534c77681409c3212de2);\n",
       "        \n",
       "    \n",
       "            circle_marker_798a6f05652e8c6224227b5c6d37bdbf.bindTooltip(\n",
       "                `&lt;div&gt;\n",
       "                     Oviedo: 548 puntos de recarga\n",
       "                 &lt;/div&gt;`,\n",
       "                {&quot;sticky&quot;: true}\n",
       "            );\n",
       "        \n",
       "    \n",
       "            var circle_marker_2e235095cb54b43fc82f1e305e16fd2d = L.circleMarker(\n",
       "                [42.8125, -1.6458],\n",
       "                {&quot;bubblingMouseEvents&quot;: true, &quot;color&quot;: &quot;#bfdc66&quot;, &quot;dashArray&quot;: null, &quot;dashOffset&quot;: null, &quot;fill&quot;: true, &quot;fillColor&quot;: &quot;#d1ec3f&quot;, &quot;fillOpacity&quot;: 0.5, &quot;fillRule&quot;: &quot;evenodd&quot;, &quot;lineCap&quot;: &quot;round&quot;, &quot;lineJoin&quot;: &quot;round&quot;, &quot;opacity&quot;: 1.0, &quot;radius&quot;: 5.2272727272727275, &quot;stroke&quot;: true, &quot;weight&quot;: 2}\n",
       "            ).addTo(map_dc4135e3d591534c77681409c3212de2);\n",
       "        \n",
       "    \n",
       "            circle_marker_2e235095cb54b43fc82f1e305e16fd2d.bindTooltip(\n",
       "                `&lt;div&gt;\n",
       "                     Pamplona: 575 puntos de recarga\n",
       "                 &lt;/div&gt;`,\n",
       "                {&quot;sticky&quot;: true}\n",
       "            );\n",
       "        \n",
       "    \n",
       "            var circle_marker_4b1ff2381a521d837f385b877401ac08 = L.circleMarker(\n",
       "                [43.4623, -3.8099],\n",
       "                {&quot;bubblingMouseEvents&quot;: true, &quot;color&quot;: &quot;#bfdc66&quot;, &quot;dashArray&quot;: null, &quot;dashOffset&quot;: null, &quot;fill&quot;: true, &quot;fillColor&quot;: &quot;#d1ec3f&quot;, &quot;fillOpacity&quot;: 0.5, &quot;fillRule&quot;: &quot;evenodd&quot;, &quot;lineCap&quot;: &quot;round&quot;, &quot;lineJoin&quot;: &quot;round&quot;, &quot;opacity&quot;: 1.0, &quot;radius&quot;: 6.263636363636364, &quot;stroke&quot;: true, &quot;weight&quot;: 2}\n",
       "            ).addTo(map_dc4135e3d591534c77681409c3212de2);\n",
       "        \n",
       "    \n",
       "            circle_marker_4b1ff2381a521d837f385b877401ac08.bindTooltip(\n",
       "                `&lt;div&gt;\n",
       "                     Santander: 689 puntos de recarga\n",
       "                 &lt;/div&gt;`,\n",
       "                {&quot;sticky&quot;: true}\n",
       "            );\n",
       "        \n",
       "    \n",
       "            var circle_marker_35da2cd0b12e520356e42b96017da852 = L.circleMarker(\n",
       "                [42.4627, -2.4448],\n",
       "                {&quot;bubblingMouseEvents&quot;: true, &quot;color&quot;: &quot;#bfdc66&quot;, &quot;dashArray&quot;: null, &quot;dashOffset&quot;: null, &quot;fill&quot;: true, &quot;fillColor&quot;: &quot;#d1ec3f&quot;, &quot;fillOpacity&quot;: 0.5, &quot;fillRule&quot;: &quot;evenodd&quot;, &quot;lineCap&quot;: &quot;round&quot;, &quot;lineJoin&quot;: &quot;round&quot;, &quot;opacity&quot;: 1.0, &quot;radius&quot;: 1.8545454545454545, &quot;stroke&quot;: true, &quot;weight&quot;: 2}\n",
       "            ).addTo(map_dc4135e3d591534c77681409c3212de2);\n",
       "        \n",
       "    \n",
       "            circle_marker_35da2cd0b12e520356e42b96017da852.bindTooltip(\n",
       "                `&lt;div&gt;\n",
       "                     Logroño: 204 puntos de recarga\n",
       "                 &lt;/div&gt;`,\n",
       "                {&quot;sticky&quot;: true}\n",
       "            );\n",
       "        \n",
       "    \n",
       "            var circle_marker_328e9ef918c601eee1bd4898654547c0 = L.circleMarker(\n",
       "                [35.2923, -2.9381],\n",
       "                {&quot;bubblingMouseEvents&quot;: true, &quot;color&quot;: &quot;#bfdc66&quot;, &quot;dashArray&quot;: null, &quot;dashOffset&quot;: null, &quot;fill&quot;: true, &quot;fillColor&quot;: &quot;#d1ec3f&quot;, &quot;fillOpacity&quot;: 0.5, &quot;fillRule&quot;: &quot;evenodd&quot;, &quot;lineCap&quot;: &quot;round&quot;, &quot;lineJoin&quot;: &quot;round&quot;, &quot;opacity&quot;: 1.0, &quot;radius&quot;: 0.23636363636363636, &quot;stroke&quot;: true, &quot;weight&quot;: 2}\n",
       "            ).addTo(map_dc4135e3d591534c77681409c3212de2);\n",
       "        \n",
       "    \n",
       "            circle_marker_328e9ef918c601eee1bd4898654547c0.bindTooltip(\n",
       "                `&lt;div&gt;\n",
       "                     Melilla: 26 puntos de recarga\n",
       "                 &lt;/div&gt;`,\n",
       "                {&quot;sticky&quot;: true}\n",
       "            );\n",
       "        \n",
       "    \n",
       "            var circle_marker_abd5c1dec3959058fec6bbf38b923154 = L.circleMarker(\n",
       "                [35.8894, -5.3198],\n",
       "                {&quot;bubblingMouseEvents&quot;: true, &quot;color&quot;: &quot;#bfdc66&quot;, &quot;dashArray&quot;: null, &quot;dashOffset&quot;: null, &quot;fill&quot;: true, &quot;fillColor&quot;: &quot;#d1ec3f&quot;, &quot;fillOpacity&quot;: 0.5, &quot;fillRule&quot;: &quot;evenodd&quot;, &quot;lineCap&quot;: &quot;round&quot;, &quot;lineJoin&quot;: &quot;round&quot;, &quot;opacity&quot;: 1.0, &quot;radius&quot;: 0.07272727272727272, &quot;stroke&quot;: true, &quot;weight&quot;: 2}\n",
       "            ).addTo(map_dc4135e3d591534c77681409c3212de2);\n",
       "        \n",
       "    \n",
       "            circle_marker_abd5c1dec3959058fec6bbf38b923154.bindTooltip(\n",
       "                `&lt;div&gt;\n",
       "                     Ceuta: 8 puntos de recarga\n",
       "                 &lt;/div&gt;`,\n",
       "                {&quot;sticky&quot;: true}\n",
       "            );\n",
       "        \n",
       "&lt;/script&gt;\n",
       "&lt;/html&gt;\" style=\"position:absolute;width:100%;height:100%;left:0;top:0;border:none !important;\" allowfullscreen webkitallowfullscreen mozallowfullscreen></iframe></div></div>"
      ],
      "text/plain": [
       "<folium.folium.Map at 0x162e5480210>"
      ]
     },
     "execution_count": 471,
     "metadata": {},
     "output_type": "execute_result"
    }
   ],
   "source": [
    "# Crear un mapa centrado en España\n",
    "mapa = folium.Map(location=[40.4168, -3.7038], zoom_start=5.5, tiles=\"Cartodb positron\", attr=\"Map tiles by Stamen Design\")\n",
    "\n",
    "# Añadir marcadores para cada ciudad\n",
    "for i, row in puntos_esp.iterrows():\n",
    "    folium.CircleMarker(\n",
    "        location=[row[\"latitud\"], row[\"longitud\"]],\n",
    "        radius=row[\"puntos_carga\"] / 110,  # Ajustar el tamaño según el número de puntos de recarga\n",
    "        color='#bfdc66',\n",
    "        fill=True,\n",
    "        fill_color='#d1ec3f',\n",
    "        fill_opacity=0.5,\n",
    "        weight=2,  # Grosor del borde de las burbujas\n",
    "        tooltip=f\"{row['capital']}: {row['puntos_carga']} puntos de recarga\"\n",
    "    ).add_to(mapa)\n",
    "\n",
    "# Mostrar el mapa\n",
    "mapa"
   ]
  },
  {
   "cell_type": "code",
   "execution_count": 472,
   "metadata": {},
   "outputs": [
    {
     "data": {
      "application/vnd.plotly.v1+json": {
       "config": {
        "plotlyServerURL": "https://plot.ly"
       },
       "data": [
        {
         "marker": {
          "color": "#d1ec3f",
          "cornerradius": 30
         },
         "name": "Palma de Mallorca",
         "opacity": 0.8,
         "orientation": "h",
         "text": "1,072",
         "textfont": {
          "color": "black",
          "size": 20
         },
         "textposition": "outside",
         "type": "bar",
         "width": 0.9,
         "x": [
          1072
         ],
         "y": [
          "Palma de Mallorca"
         ]
        },
        {
         "marker": {
          "color": "#d1ec3f",
          "cornerradius": 30
         },
         "name": "Santiago de Compostela",
         "opacity": 0.8,
         "orientation": "h",
         "text": "1,199",
         "textfont": {
          "color": "black",
          "size": 20
         },
         "textposition": "outside",
         "type": "bar",
         "width": 0.9,
         "x": [
          1199
         ],
         "y": [
          "Santiago de Compostela"
         ]
        },
        {
         "marker": {
          "color": "#d1ec3f",
          "cornerradius": 30
         },
         "name": "Toledo",
         "opacity": 0.8,
         "orientation": "h",
         "text": "1,209",
         "textfont": {
          "color": "black",
          "size": 20
         },
         "textposition": "outside",
         "type": "bar",
         "width": 0.9,
         "x": [
          1209
         ],
         "y": [
          "Toledo"
         ]
        },
        {
         "marker": {
          "color": "#d1ec3f",
          "cornerradius": 30
         },
         "name": "Las Palmas de Gran Canaria",
         "opacity": 0.8,
         "orientation": "h",
         "text": "1,286",
         "textfont": {
          "color": "black",
          "size": 20
         },
         "textposition": "outside",
         "type": "bar",
         "width": 0.9,
         "x": [
          1286
         ],
         "y": [
          "Las Palmas de Gran Canaria"
         ]
        },
        {
         "marker": {
          "color": "#d1ec3f",
          "cornerradius": 30
         },
         "name": "Vitoria-Gasteiz",
         "opacity": 0.8,
         "orientation": "h",
         "text": "1,348",
         "textfont": {
          "color": "black",
          "size": 20
         },
         "textposition": "outside",
         "type": "bar",
         "width": 0.9,
         "x": [
          1348
         ],
         "y": [
          "Vitoria-Gasteiz"
         ]
        },
        {
         "marker": {
          "color": "#d1ec3f",
          "cornerradius": 30
         },
         "name": "Valladolid",
         "opacity": 0.8,
         "orientation": "h",
         "text": "2,218",
         "textfont": {
          "color": "black",
          "size": 20
         },
         "textposition": "outside",
         "type": "bar",
         "width": 0.9,
         "x": [
          2218
         ],
         "y": [
          "<b>Valladolid</b>"
         ]
        },
        {
         "marker": {
          "color": "#d1ec3f",
          "cornerradius": 30
         },
         "name": "Valencia",
         "opacity": 0.8,
         "orientation": "h",
         "text": "3,637",
         "textfont": {
          "color": "black",
          "size": 20
         },
         "textposition": "outside",
         "type": "bar",
         "width": 0.9,
         "x": [
          3637
         ],
         "y": [
          "<b>Valencia</b>"
         ]
        },
        {
         "marker": {
          "color": "#d1ec3f",
          "cornerradius": 30
         },
         "name": "Sevilla",
         "opacity": 0.8,
         "orientation": "h",
         "text": "3,716",
         "textfont": {
          "color": "black",
          "size": 20
         },
         "textposition": "outside",
         "type": "bar",
         "width": 0.9,
         "x": [
          3716
         ],
         "y": [
          "<b>Sevilla</b>"
         ]
        },
        {
         "marker": {
          "color": "#d1ec3f",
          "cornerradius": 30
         },
         "name": "Madrid",
         "opacity": 0.8,
         "orientation": "h",
         "text": "4,360",
         "textfont": {
          "color": "black",
          "size": 20
         },
         "textposition": "outside",
         "type": "bar",
         "width": 0.9,
         "x": [
          4360
         ],
         "y": [
          "<b>Madrid</b>"
         ]
        },
        {
         "marker": {
          "color": "#d1ec3f",
          "cornerradius": 30
         },
         "name": "Barcelona",
         "opacity": 0.8,
         "orientation": "h",
         "text": "8,045",
         "textfont": {
          "color": "black",
          "size": 20
         },
         "textposition": "outside",
         "type": "bar",
         "width": 0.9,
         "x": [
          8045
         ],
         "y": [
          "<b>Barcelona</b>"
         ]
        }
       ],
       "layout": {
        "barmode": "group",
        "height": 700,
        "margin": {
         "b": 20,
         "l": 40,
         "r": 40,
         "t": 60
        },
        "showlegend": false,
        "template": {
         "data": {
          "bar": [
           {
            "error_x": {
             "color": "rgb(51,51,51)"
            },
            "error_y": {
             "color": "rgb(51,51,51)"
            },
            "marker": {
             "line": {
              "color": "rgb(237,237,237)",
              "width": 0.5
             },
             "pattern": {
              "fillmode": "overlay",
              "size": 10,
              "solidity": 0.2
             }
            },
            "type": "bar"
           }
          ],
          "barpolar": [
           {
            "marker": {
             "line": {
              "color": "rgb(237,237,237)",
              "width": 0.5
             },
             "pattern": {
              "fillmode": "overlay",
              "size": 10,
              "solidity": 0.2
             }
            },
            "type": "barpolar"
           }
          ],
          "carpet": [
           {
            "aaxis": {
             "endlinecolor": "rgb(51,51,51)",
             "gridcolor": "white",
             "linecolor": "white",
             "minorgridcolor": "white",
             "startlinecolor": "rgb(51,51,51)"
            },
            "baxis": {
             "endlinecolor": "rgb(51,51,51)",
             "gridcolor": "white",
             "linecolor": "white",
             "minorgridcolor": "white",
             "startlinecolor": "rgb(51,51,51)"
            },
            "type": "carpet"
           }
          ],
          "choropleth": [
           {
            "colorbar": {
             "outlinewidth": 0,
             "tickcolor": "rgb(237,237,237)",
             "ticklen": 6,
             "ticks": "inside"
            },
            "type": "choropleth"
           }
          ],
          "contour": [
           {
            "colorbar": {
             "outlinewidth": 0,
             "tickcolor": "rgb(237,237,237)",
             "ticklen": 6,
             "ticks": "inside"
            },
            "colorscale": [
             [
              0,
              "rgb(20,44,66)"
             ],
             [
              1,
              "rgb(90,179,244)"
             ]
            ],
            "type": "contour"
           }
          ],
          "contourcarpet": [
           {
            "colorbar": {
             "outlinewidth": 0,
             "tickcolor": "rgb(237,237,237)",
             "ticklen": 6,
             "ticks": "inside"
            },
            "type": "contourcarpet"
           }
          ],
          "heatmap": [
           {
            "colorbar": {
             "outlinewidth": 0,
             "tickcolor": "rgb(237,237,237)",
             "ticklen": 6,
             "ticks": "inside"
            },
            "colorscale": [
             [
              0,
              "rgb(20,44,66)"
             ],
             [
              1,
              "rgb(90,179,244)"
             ]
            ],
            "type": "heatmap"
           }
          ],
          "heatmapgl": [
           {
            "colorbar": {
             "outlinewidth": 0,
             "tickcolor": "rgb(237,237,237)",
             "ticklen": 6,
             "ticks": "inside"
            },
            "colorscale": [
             [
              0,
              "rgb(20,44,66)"
             ],
             [
              1,
              "rgb(90,179,244)"
             ]
            ],
            "type": "heatmapgl"
           }
          ],
          "histogram": [
           {
            "marker": {
             "pattern": {
              "fillmode": "overlay",
              "size": 10,
              "solidity": 0.2
             }
            },
            "type": "histogram"
           }
          ],
          "histogram2d": [
           {
            "colorbar": {
             "outlinewidth": 0,
             "tickcolor": "rgb(237,237,237)",
             "ticklen": 6,
             "ticks": "inside"
            },
            "colorscale": [
             [
              0,
              "rgb(20,44,66)"
             ],
             [
              1,
              "rgb(90,179,244)"
             ]
            ],
            "type": "histogram2d"
           }
          ],
          "histogram2dcontour": [
           {
            "colorbar": {
             "outlinewidth": 0,
             "tickcolor": "rgb(237,237,237)",
             "ticklen": 6,
             "ticks": "inside"
            },
            "colorscale": [
             [
              0,
              "rgb(20,44,66)"
             ],
             [
              1,
              "rgb(90,179,244)"
             ]
            ],
            "type": "histogram2dcontour"
           }
          ],
          "mesh3d": [
           {
            "colorbar": {
             "outlinewidth": 0,
             "tickcolor": "rgb(237,237,237)",
             "ticklen": 6,
             "ticks": "inside"
            },
            "type": "mesh3d"
           }
          ],
          "parcoords": [
           {
            "line": {
             "colorbar": {
              "outlinewidth": 0,
              "tickcolor": "rgb(237,237,237)",
              "ticklen": 6,
              "ticks": "inside"
             }
            },
            "type": "parcoords"
           }
          ],
          "pie": [
           {
            "automargin": true,
            "type": "pie"
           }
          ],
          "scatter": [
           {
            "fillpattern": {
             "fillmode": "overlay",
             "size": 10,
             "solidity": 0.2
            },
            "type": "scatter"
           }
          ],
          "scatter3d": [
           {
            "line": {
             "colorbar": {
              "outlinewidth": 0,
              "tickcolor": "rgb(237,237,237)",
              "ticklen": 6,
              "ticks": "inside"
             }
            },
            "marker": {
             "colorbar": {
              "outlinewidth": 0,
              "tickcolor": "rgb(237,237,237)",
              "ticklen": 6,
              "ticks": "inside"
             }
            },
            "type": "scatter3d"
           }
          ],
          "scattercarpet": [
           {
            "marker": {
             "colorbar": {
              "outlinewidth": 0,
              "tickcolor": "rgb(237,237,237)",
              "ticklen": 6,
              "ticks": "inside"
             }
            },
            "type": "scattercarpet"
           }
          ],
          "scattergeo": [
           {
            "marker": {
             "colorbar": {
              "outlinewidth": 0,
              "tickcolor": "rgb(237,237,237)",
              "ticklen": 6,
              "ticks": "inside"
             }
            },
            "type": "scattergeo"
           }
          ],
          "scattergl": [
           {
            "marker": {
             "colorbar": {
              "outlinewidth": 0,
              "tickcolor": "rgb(237,237,237)",
              "ticklen": 6,
              "ticks": "inside"
             }
            },
            "type": "scattergl"
           }
          ],
          "scattermapbox": [
           {
            "marker": {
             "colorbar": {
              "outlinewidth": 0,
              "tickcolor": "rgb(237,237,237)",
              "ticklen": 6,
              "ticks": "inside"
             }
            },
            "type": "scattermapbox"
           }
          ],
          "scatterpolar": [
           {
            "marker": {
             "colorbar": {
              "outlinewidth": 0,
              "tickcolor": "rgb(237,237,237)",
              "ticklen": 6,
              "ticks": "inside"
             }
            },
            "type": "scatterpolar"
           }
          ],
          "scatterpolargl": [
           {
            "marker": {
             "colorbar": {
              "outlinewidth": 0,
              "tickcolor": "rgb(237,237,237)",
              "ticklen": 6,
              "ticks": "inside"
             }
            },
            "type": "scatterpolargl"
           }
          ],
          "scatterternary": [
           {
            "marker": {
             "colorbar": {
              "outlinewidth": 0,
              "tickcolor": "rgb(237,237,237)",
              "ticklen": 6,
              "ticks": "inside"
             }
            },
            "type": "scatterternary"
           }
          ],
          "surface": [
           {
            "colorbar": {
             "outlinewidth": 0,
             "tickcolor": "rgb(237,237,237)",
             "ticklen": 6,
             "ticks": "inside"
            },
            "colorscale": [
             [
              0,
              "rgb(20,44,66)"
             ],
             [
              1,
              "rgb(90,179,244)"
             ]
            ],
            "type": "surface"
           }
          ],
          "table": [
           {
            "cells": {
             "fill": {
              "color": "rgb(237,237,237)"
             },
             "line": {
              "color": "white"
             }
            },
            "header": {
             "fill": {
              "color": "rgb(217,217,217)"
             },
             "line": {
              "color": "white"
             }
            },
            "type": "table"
           }
          ]
         },
         "layout": {
          "annotationdefaults": {
           "arrowhead": 0,
           "arrowwidth": 1
          },
          "autotypenumbers": "strict",
          "coloraxis": {
           "colorbar": {
            "outlinewidth": 0,
            "tickcolor": "rgb(237,237,237)",
            "ticklen": 6,
            "ticks": "inside"
           }
          },
          "colorscale": {
           "sequential": [
            [
             0,
             "rgb(20,44,66)"
            ],
            [
             1,
             "rgb(90,179,244)"
            ]
           ],
           "sequentialminus": [
            [
             0,
             "rgb(20,44,66)"
            ],
            [
             1,
             "rgb(90,179,244)"
            ]
           ]
          },
          "colorway": [
           "#F8766D",
           "#A3A500",
           "#00BF7D",
           "#00B0F6",
           "#E76BF3"
          ],
          "font": {
           "color": "rgb(51,51,51)"
          },
          "geo": {
           "bgcolor": "white",
           "lakecolor": "white",
           "landcolor": "rgb(237,237,237)",
           "showlakes": true,
           "showland": true,
           "subunitcolor": "white"
          },
          "hoverlabel": {
           "align": "left"
          },
          "hovermode": "closest",
          "paper_bgcolor": "white",
          "plot_bgcolor": "rgb(237,237,237)",
          "polar": {
           "angularaxis": {
            "gridcolor": "white",
            "linecolor": "white",
            "showgrid": true,
            "tickcolor": "rgb(51,51,51)",
            "ticks": "outside"
           },
           "bgcolor": "rgb(237,237,237)",
           "radialaxis": {
            "gridcolor": "white",
            "linecolor": "white",
            "showgrid": true,
            "tickcolor": "rgb(51,51,51)",
            "ticks": "outside"
           }
          },
          "scene": {
           "xaxis": {
            "backgroundcolor": "rgb(237,237,237)",
            "gridcolor": "white",
            "gridwidth": 2,
            "linecolor": "white",
            "showbackground": true,
            "showgrid": true,
            "tickcolor": "rgb(51,51,51)",
            "ticks": "outside",
            "zerolinecolor": "white"
           },
           "yaxis": {
            "backgroundcolor": "rgb(237,237,237)",
            "gridcolor": "white",
            "gridwidth": 2,
            "linecolor": "white",
            "showbackground": true,
            "showgrid": true,
            "tickcolor": "rgb(51,51,51)",
            "ticks": "outside",
            "zerolinecolor": "white"
           },
           "zaxis": {
            "backgroundcolor": "rgb(237,237,237)",
            "gridcolor": "white",
            "gridwidth": 2,
            "linecolor": "white",
            "showbackground": true,
            "showgrid": true,
            "tickcolor": "rgb(51,51,51)",
            "ticks": "outside",
            "zerolinecolor": "white"
           }
          },
          "shapedefaults": {
           "fillcolor": "black",
           "line": {
            "width": 0
           },
           "opacity": 0.3
          },
          "ternary": {
           "aaxis": {
            "gridcolor": "white",
            "linecolor": "white",
            "showgrid": true,
            "tickcolor": "rgb(51,51,51)",
            "ticks": "outside"
           },
           "baxis": {
            "gridcolor": "white",
            "linecolor": "white",
            "showgrid": true,
            "tickcolor": "rgb(51,51,51)",
            "ticks": "outside"
           },
           "bgcolor": "rgb(237,237,237)",
           "caxis": {
            "gridcolor": "white",
            "linecolor": "white",
            "showgrid": true,
            "tickcolor": "rgb(51,51,51)",
            "ticks": "outside"
           }
          },
          "xaxis": {
           "automargin": true,
           "gridcolor": "white",
           "linecolor": "white",
           "showgrid": true,
           "tickcolor": "rgb(51,51,51)",
           "ticks": "outside",
           "title": {
            "standoff": 15
           },
           "zerolinecolor": "white"
          },
          "yaxis": {
           "automargin": true,
           "gridcolor": "white",
           "linecolor": "white",
           "showgrid": true,
           "tickcolor": "rgb(51,51,51)",
           "ticks": "outside",
           "title": {
            "standoff": 15
           },
           "zerolinecolor": "white"
          }
         }
        },
        "title": {
         "font": {
          "size": 21
         },
         "text": "Puntos de Carga por Ciudad"
        },
        "width": 750,
        "xaxis": {
         "range": [
          0,
          10000
         ],
         "tickfont": {
          "size": 16
         },
         "title": {
          "font": {
           "size": 18
          }
         }
        },
        "yaxis": {
         "tickfont": {
          "size": 18
         },
         "title": {
          "font": {
           "size": 18
          }
         }
        }
       }
      }
     },
     "metadata": {},
     "output_type": "display_data"
    }
   ],
   "source": [
    "top10_puntos_esp = puntos_esp.iloc[:10,:].sort_values(by=\"puntos_carga\", ascending=True)  # Orden inverso para visualización horizontal\n",
    "\n",
    "# Crear la figura\n",
    "fig = go.Figure()\n",
    "\n",
    "# Umbral para determinar si el texto va dentro o fuera\n",
    "umbral = top10_puntos_esp[\"puntos_carga\"].max() * 0.6  # 60% del valor máximo como umbral\n",
    "\n",
    "# Lista de las tres ciudades con más puntos de recarga\n",
    "top_ciudades = [\"Barcelona\", \"Madrid\", \"Sevilla\", \"Valencia\", \"Valladolid\"]\n",
    "\n",
    "# Añadir cada ciudad al gráfico de barras en horizontal\n",
    "for i, row in top10_puntos_esp.iterrows():\n",
    "    valor = row[\"puntos_carga\"]\n",
    "    text_position = 'outside' if valor > umbral else 'outside'\n",
    "    \n",
    "    fig.add_trace(go.Bar(\n",
    "        y=[f\"<b>{row['capital']}</b>\" if row[\"capital\"] in top_ciudades else row[\"capital\"]],  # Título en negrita para las 5 ciudades top\n",
    "        x=[valor],         # Coloca el valor en el eje X\n",
    "        name=row[\"capital\"],\n",
    "        orientation='h',   # Define la orientación horizontal\n",
    "        marker=dict(color=\"#d1ec3f\", cornerradius=30),\n",
    "        text=f\"{valor:,.0f}\",      # Añadir el valor de cada barra\n",
    "        textposition=text_position,  # Colocar el texto dentro o fuera dependiendo del umbral\n",
    "        textfont=dict(size=20, color='black'),  # Color y tamaño de texto normal para valores\n",
    "        width=0.9,\n",
    "        opacity = 0.8\n",
    "    ))\n",
    "\n",
    "# Configurar el diseño del gráfico\n",
    "fig.update_layout(\n",
    "    title=\"Puntos de Carga por Ciudad\",\n",
    "    title_font_size=21,\n",
    "    yaxis_title_font_size=18,\n",
    "    # xaxis_title=\"Total de Puntos de Recarga\",\n",
    "    xaxis_title_font_size=18,\n",
    "    barmode=\"group\",\n",
    "    xaxis=dict(range=[0, 10000], tickfont=dict(size=16)),  # Rango logarítmico ajustado\n",
    "    yaxis=dict(tickfont=dict(size=18)),\n",
    "    margin=dict(l=40, r=40, t=60, b=20),  # Ajuste de márgenes\n",
    "    showlegend=False,\n",
    "    height=700,  # Ajustar la altura para que el gráfico sea más alto\n",
    "    width=750    # Ajustar el ancho para hacerlo más ancho\n",
    ")\n",
    "\n",
    "# Mostrar el gráfico\n",
    "fig.show()"
   ]
  },
  {
   "cell_type": "markdown",
   "metadata": {},
   "source": [
    "#### CON EL SIGUIENTE CSV MOSTRAMOS UNA **COMPARATIVA DE PUNTOS DE CARGA RESPECTO A OTROS PAISES**"
   ]
  },
  {
   "cell_type": "code",
   "execution_count": 26,
   "metadata": {},
   "outputs": [
    {
     "data": {
      "text/html": [
       "<div>\n",
       "<style scoped>\n",
       "    .dataframe tbody tr th:only-of-type {\n",
       "        vertical-align: middle;\n",
       "    }\n",
       "\n",
       "    .dataframe tbody tr th {\n",
       "        vertical-align: top;\n",
       "    }\n",
       "\n",
       "    .dataframe thead th {\n",
       "        text-align: right;\n",
       "    }\n",
       "</style>\n",
       "<table border=\"1\" class=\"dataframe\">\n",
       "  <thead>\n",
       "    <tr style=\"text-align: right;\">\n",
       "      <th></th>\n",
       "      <th>pais</th>\n",
       "      <th>total_vehiculos</th>\n",
       "      <th>vehiculos_electricos</th>\n",
       "      <th>representa_electricos(%)</th>\n",
       "      <th>puntos_recarga</th>\n",
       "      <th>lat</th>\n",
       "      <th>lon</th>\n",
       "    </tr>\n",
       "  </thead>\n",
       "  <tbody>\n",
       "    <tr>\n",
       "      <th>6</th>\n",
       "      <td>Dinamarca</td>\n",
       "      <td>2800000</td>\n",
       "      <td>100000</td>\n",
       "      <td>3.60</td>\n",
       "      <td>10500</td>\n",
       "      <td>56.263900</td>\n",
       "      <td>9.501800</td>\n",
       "    </tr>\n",
       "    <tr>\n",
       "      <th>9</th>\n",
       "      <td>Portugal</td>\n",
       "      <td>5500000</td>\n",
       "      <td>100000</td>\n",
       "      <td>1.80</td>\n",
       "      <td>8500</td>\n",
       "      <td>39.399900</td>\n",
       "      <td>-8.224500</td>\n",
       "    </tr>\n",
       "    <tr>\n",
       "      <th>10</th>\n",
       "      <td>Austria</td>\n",
       "      <td>6000000</td>\n",
       "      <td>120000</td>\n",
       "      <td>2.00</td>\n",
       "      <td>40000</td>\n",
       "      <td>47.516231</td>\n",
       "      <td>14.550072</td>\n",
       "    </tr>\n",
       "    <tr>\n",
       "      <th>8</th>\n",
       "      <td>Italia</td>\n",
       "      <td>39500000</td>\n",
       "      <td>150000</td>\n",
       "      <td>0.38</td>\n",
       "      <td>54000</td>\n",
       "      <td>41.871900</td>\n",
       "      <td>12.567400</td>\n",
       "    </tr>\n",
       "    <tr>\n",
       "      <th>7</th>\n",
       "      <td>España</td>\n",
       "      <td>30720000</td>\n",
       "      <td>220000</td>\n",
       "      <td>0.71</td>\n",
       "      <td>32500</td>\n",
       "      <td>40.463700</td>\n",
       "      <td>-3.749200</td>\n",
       "    </tr>\n",
       "    <tr>\n",
       "      <th>5</th>\n",
       "      <td>Suecia</td>\n",
       "      <td>5200000</td>\n",
       "      <td>350000</td>\n",
       "      <td>6.70</td>\n",
       "      <td>30000</td>\n",
       "      <td>60.128200</td>\n",
       "      <td>18.643500</td>\n",
       "    </tr>\n",
       "    <tr>\n",
       "      <th>1</th>\n",
       "      <td>Países Bajos</td>\n",
       "      <td>9100000</td>\n",
       "      <td>400000</td>\n",
       "      <td>4.40</td>\n",
       "      <td>100000</td>\n",
       "      <td>52.132600</td>\n",
       "      <td>5.291300</td>\n",
       "    </tr>\n",
       "    <tr>\n",
       "      <th>4</th>\n",
       "      <td>Reino Unido</td>\n",
       "      <td>33000000</td>\n",
       "      <td>700000</td>\n",
       "      <td>2.10</td>\n",
       "      <td>50000</td>\n",
       "      <td>55.378100</td>\n",
       "      <td>-3.436000</td>\n",
       "    </tr>\n",
       "    <tr>\n",
       "      <th>0</th>\n",
       "      <td>Noruega</td>\n",
       "      <td>2900000</td>\n",
       "      <td>754303</td>\n",
       "      <td>26.00</td>\n",
       "      <td>22000</td>\n",
       "      <td>60.472000</td>\n",
       "      <td>8.468900</td>\n",
       "    </tr>\n",
       "    <tr>\n",
       "      <th>3</th>\n",
       "      <td>Francia</td>\n",
       "      <td>39000000</td>\n",
       "      <td>800000</td>\n",
       "      <td>2.05</td>\n",
       "      <td>75000</td>\n",
       "      <td>46.603400</td>\n",
       "      <td>1.888300</td>\n",
       "    </tr>\n",
       "    <tr>\n",
       "      <th>2</th>\n",
       "      <td>Alemania</td>\n",
       "      <td>48500000</td>\n",
       "      <td>1200000</td>\n",
       "      <td>2.50</td>\n",
       "      <td>80000</td>\n",
       "      <td>51.165700</td>\n",
       "      <td>10.451500</td>\n",
       "    </tr>\n",
       "  </tbody>\n",
       "</table>\n",
       "</div>"
      ],
      "text/plain": [
       "            pais  total_vehiculos  vehiculos_electricos  \\\n",
       "6      Dinamarca          2800000                100000   \n",
       "9       Portugal          5500000                100000   \n",
       "10       Austria          6000000                120000   \n",
       "8         Italia         39500000                150000   \n",
       "7         España         30720000                220000   \n",
       "5         Suecia          5200000                350000   \n",
       "1   Países Bajos          9100000                400000   \n",
       "4    Reino Unido         33000000                700000   \n",
       "0        Noruega          2900000                754303   \n",
       "3        Francia         39000000                800000   \n",
       "2       Alemania         48500000               1200000   \n",
       "\n",
       "    representa_electricos(%)  puntos_recarga        lat        lon  \n",
       "6                       3.60           10500  56.263900   9.501800  \n",
       "9                       1.80            8500  39.399900  -8.224500  \n",
       "10                      2.00           40000  47.516231  14.550072  \n",
       "8                       0.38           54000  41.871900  12.567400  \n",
       "7                       0.71           32500  40.463700  -3.749200  \n",
       "5                       6.70           30000  60.128200  18.643500  \n",
       "1                       4.40          100000  52.132600   5.291300  \n",
       "4                       2.10           50000  55.378100  -3.436000  \n",
       "0                      26.00           22000  60.472000   8.468900  \n",
       "3                       2.05           75000  46.603400   1.888300  \n",
       "2                       2.50           80000  51.165700  10.451500  "
      ]
     },
     "execution_count": 26,
     "metadata": {},
     "output_type": "execute_result"
    }
   ],
   "source": [
    "elec_paises"
   ]
  },
  {
   "cell_type": "code",
   "execution_count": 27,
   "metadata": {},
   "outputs": [
    {
     "data": {
      "text/html": [
       "<div>\n",
       "<style scoped>\n",
       "    .dataframe tbody tr th:only-of-type {\n",
       "        vertical-align: middle;\n",
       "    }\n",
       "\n",
       "    .dataframe tbody tr th {\n",
       "        vertical-align: top;\n",
       "    }\n",
       "\n",
       "    .dataframe thead th {\n",
       "        text-align: right;\n",
       "    }\n",
       "</style>\n",
       "<table border=\"1\" class=\"dataframe\">\n",
       "  <thead>\n",
       "    <tr style=\"text-align: right;\">\n",
       "      <th></th>\n",
       "      <th>pais</th>\n",
       "      <th>puntos_recarga</th>\n",
       "      <th>lat</th>\n",
       "      <th>lon</th>\n",
       "    </tr>\n",
       "  </thead>\n",
       "  <tbody>\n",
       "    <tr>\n",
       "      <th>6</th>\n",
       "      <td>Dinamarca</td>\n",
       "      <td>10500</td>\n",
       "      <td>56.263900</td>\n",
       "      <td>9.501800</td>\n",
       "    </tr>\n",
       "    <tr>\n",
       "      <th>9</th>\n",
       "      <td>Portugal</td>\n",
       "      <td>8500</td>\n",
       "      <td>39.399900</td>\n",
       "      <td>-8.224500</td>\n",
       "    </tr>\n",
       "    <tr>\n",
       "      <th>10</th>\n",
       "      <td>Austria</td>\n",
       "      <td>40000</td>\n",
       "      <td>47.516231</td>\n",
       "      <td>14.550072</td>\n",
       "    </tr>\n",
       "    <tr>\n",
       "      <th>8</th>\n",
       "      <td>Italia</td>\n",
       "      <td>54000</td>\n",
       "      <td>41.871900</td>\n",
       "      <td>12.567400</td>\n",
       "    </tr>\n",
       "    <tr>\n",
       "      <th>7</th>\n",
       "      <td>España</td>\n",
       "      <td>32500</td>\n",
       "      <td>40.463700</td>\n",
       "      <td>-3.749200</td>\n",
       "    </tr>\n",
       "  </tbody>\n",
       "</table>\n",
       "</div>"
      ],
      "text/plain": [
       "         pais  puntos_recarga        lat        lon\n",
       "6   Dinamarca           10500  56.263900   9.501800\n",
       "9    Portugal            8500  39.399900  -8.224500\n",
       "10    Austria           40000  47.516231  14.550072\n",
       "8      Italia           54000  41.871900  12.567400\n",
       "7      España           32500  40.463700  -3.749200"
      ]
     },
     "execution_count": 27,
     "metadata": {},
     "output_type": "execute_result"
    }
   ],
   "source": [
    "puntos_paises = elec_paises.loc[:, [\"pais\", \"puntos_recarga\", \"lat\", \"lon\"]]\n",
    "puntos_paises.head()"
   ]
  },
  {
   "cell_type": "code",
   "execution_count": 28,
   "metadata": {},
   "outputs": [
    {
     "data": {
      "text/html": [
       "<div style=\"width:100%;\"><div style=\"position:relative;width:100%;height:0;padding-bottom:60%;\"><span style=\"color:#565656\">Make this Notebook Trusted to load map: File -> Trust Notebook</span><iframe srcdoc=\"&lt;!DOCTYPE html&gt;\n",
       "&lt;html&gt;\n",
       "&lt;head&gt;\n",
       "    \n",
       "    &lt;meta http-equiv=&quot;content-type&quot; content=&quot;text/html; charset=UTF-8&quot; /&gt;\n",
       "    \n",
       "        &lt;script&gt;\n",
       "            L_NO_TOUCH = false;\n",
       "            L_DISABLE_3D = false;\n",
       "        &lt;/script&gt;\n",
       "    \n",
       "    &lt;style&gt;html, body {width: 100%;height: 100%;margin: 0;padding: 0;}&lt;/style&gt;\n",
       "    &lt;style&gt;#map {position:absolute;top:0;bottom:0;right:0;left:0;}&lt;/style&gt;\n",
       "    &lt;script src=&quot;https://cdn.jsdelivr.net/npm/leaflet@1.9.3/dist/leaflet.js&quot;&gt;&lt;/script&gt;\n",
       "    &lt;script src=&quot;https://code.jquery.com/jquery-3.7.1.min.js&quot;&gt;&lt;/script&gt;\n",
       "    &lt;script src=&quot;https://cdn.jsdelivr.net/npm/bootstrap@5.2.2/dist/js/bootstrap.bundle.min.js&quot;&gt;&lt;/script&gt;\n",
       "    &lt;script src=&quot;https://cdnjs.cloudflare.com/ajax/libs/Leaflet.awesome-markers/2.0.2/leaflet.awesome-markers.js&quot;&gt;&lt;/script&gt;\n",
       "    &lt;link rel=&quot;stylesheet&quot; href=&quot;https://cdn.jsdelivr.net/npm/leaflet@1.9.3/dist/leaflet.css&quot;/&gt;\n",
       "    &lt;link rel=&quot;stylesheet&quot; href=&quot;https://cdn.jsdelivr.net/npm/bootstrap@5.2.2/dist/css/bootstrap.min.css&quot;/&gt;\n",
       "    &lt;link rel=&quot;stylesheet&quot; href=&quot;https://netdna.bootstrapcdn.com/bootstrap/3.0.0/css/bootstrap-glyphicons.css&quot;/&gt;\n",
       "    &lt;link rel=&quot;stylesheet&quot; href=&quot;https://cdn.jsdelivr.net/npm/@fortawesome/fontawesome-free@6.2.0/css/all.min.css&quot;/&gt;\n",
       "    &lt;link rel=&quot;stylesheet&quot; href=&quot;https://cdnjs.cloudflare.com/ajax/libs/Leaflet.awesome-markers/2.0.2/leaflet.awesome-markers.css&quot;/&gt;\n",
       "    &lt;link rel=&quot;stylesheet&quot; href=&quot;https://cdn.jsdelivr.net/gh/python-visualization/folium/folium/templates/leaflet.awesome.rotate.min.css&quot;/&gt;\n",
       "    \n",
       "            &lt;meta name=&quot;viewport&quot; content=&quot;width=device-width,\n",
       "                initial-scale=1.0, maximum-scale=1.0, user-scalable=no&quot; /&gt;\n",
       "            &lt;style&gt;\n",
       "                #map_39737b5e8519f192286d11f0fb6c2857 {\n",
       "                    position: relative;\n",
       "                    width: 100.0%;\n",
       "                    height: 100.0%;\n",
       "                    left: 0.0%;\n",
       "                    top: 0.0%;\n",
       "                }\n",
       "                .leaflet-container { font-size: 1rem; }\n",
       "            &lt;/style&gt;\n",
       "        \n",
       "&lt;/head&gt;\n",
       "&lt;body&gt;\n",
       "    \n",
       "    \n",
       "            &lt;div class=&quot;folium-map&quot; id=&quot;map_39737b5e8519f192286d11f0fb6c2857&quot; &gt;&lt;/div&gt;\n",
       "        \n",
       "&lt;/body&gt;\n",
       "&lt;script&gt;\n",
       "    \n",
       "    \n",
       "            var map_39737b5e8519f192286d11f0fb6c2857 = L.map(\n",
       "                &quot;map_39737b5e8519f192286d11f0fb6c2857&quot;,\n",
       "                {\n",
       "                    center: [54.526, 15.2551],\n",
       "                    crs: L.CRS.EPSG3857,\n",
       "                    zoom: 4,\n",
       "                    zoomControl: true,\n",
       "                    preferCanvas: false,\n",
       "                }\n",
       "            );\n",
       "\n",
       "            \n",
       "\n",
       "        \n",
       "    \n",
       "            var tile_layer_d79cf2d4ac987ba07d2c22cd00fa96da = L.tileLayer(\n",
       "                &quot;https://{s}.basemaps.cartocdn.com/light_all/{z}/{x}/{y}{r}.png&quot;,\n",
       "                {&quot;attribution&quot;: &quot;Map tiles by Stamen Design&quot;, &quot;detectRetina&quot;: false, &quot;maxNativeZoom&quot;: 20, &quot;maxZoom&quot;: 20, &quot;minZoom&quot;: 0, &quot;noWrap&quot;: false, &quot;opacity&quot;: 1, &quot;subdomains&quot;: &quot;abcd&quot;, &quot;tms&quot;: false}\n",
       "            );\n",
       "        \n",
       "    \n",
       "            tile_layer_d79cf2d4ac987ba07d2c22cd00fa96da.addTo(map_39737b5e8519f192286d11f0fb6c2857);\n",
       "        \n",
       "    \n",
       "            var circle_marker_04327624c93f56687b65bfff48ea880e = L.circleMarker(\n",
       "                [60.472, 8.4689],\n",
       "                {&quot;bubblingMouseEvents&quot;: true, &quot;color&quot;: &quot;#bfdc66&quot;, &quot;dashArray&quot;: null, &quot;dashOffset&quot;: null, &quot;fill&quot;: true, &quot;fillColor&quot;: &quot;#d1ec3f&quot;, &quot;fillOpacity&quot;: 0.5, &quot;fillRule&quot;: &quot;evenodd&quot;, &quot;lineCap&quot;: &quot;round&quot;, &quot;lineJoin&quot;: &quot;round&quot;, &quot;opacity&quot;: 1.0, &quot;radius&quot;: 11.0, &quot;stroke&quot;: true, &quot;weight&quot;: 2}\n",
       "            ).addTo(map_39737b5e8519f192286d11f0fb6c2857);\n",
       "        \n",
       "    \n",
       "            circle_marker_04327624c93f56687b65bfff48ea880e.bindTooltip(\n",
       "                `&lt;div&gt;\n",
       "                     Noruega: 22000 puntos de recarga\n",
       "                 &lt;/div&gt;`,\n",
       "                {&quot;sticky&quot;: true}\n",
       "            );\n",
       "        \n",
       "    \n",
       "            var circle_marker_bfc4db628d737b02b1d449eb2c83f700 = L.circleMarker(\n",
       "                [52.1326, 5.2913],\n",
       "                {&quot;bubblingMouseEvents&quot;: true, &quot;color&quot;: &quot;#bfdc66&quot;, &quot;dashArray&quot;: null, &quot;dashOffset&quot;: null, &quot;fill&quot;: true, &quot;fillColor&quot;: &quot;#d1ec3f&quot;, &quot;fillOpacity&quot;: 0.5, &quot;fillRule&quot;: &quot;evenodd&quot;, &quot;lineCap&quot;: &quot;round&quot;, &quot;lineJoin&quot;: &quot;round&quot;, &quot;opacity&quot;: 1.0, &quot;radius&quot;: 50.0, &quot;stroke&quot;: true, &quot;weight&quot;: 2}\n",
       "            ).addTo(map_39737b5e8519f192286d11f0fb6c2857);\n",
       "        \n",
       "    \n",
       "            circle_marker_bfc4db628d737b02b1d449eb2c83f700.bindTooltip(\n",
       "                `&lt;div&gt;\n",
       "                     Países Bajos: 100000 puntos de recarga\n",
       "                 &lt;/div&gt;`,\n",
       "                {&quot;sticky&quot;: true}\n",
       "            );\n",
       "        \n",
       "    \n",
       "            var circle_marker_803df37a5cb5c74cb5bdbb3be8d7205f = L.circleMarker(\n",
       "                [51.1657, 10.4515],\n",
       "                {&quot;bubblingMouseEvents&quot;: true, &quot;color&quot;: &quot;#bfdc66&quot;, &quot;dashArray&quot;: null, &quot;dashOffset&quot;: null, &quot;fill&quot;: true, &quot;fillColor&quot;: &quot;#d1ec3f&quot;, &quot;fillOpacity&quot;: 0.5, &quot;fillRule&quot;: &quot;evenodd&quot;, &quot;lineCap&quot;: &quot;round&quot;, &quot;lineJoin&quot;: &quot;round&quot;, &quot;opacity&quot;: 1.0, &quot;radius&quot;: 40.0, &quot;stroke&quot;: true, &quot;weight&quot;: 2}\n",
       "            ).addTo(map_39737b5e8519f192286d11f0fb6c2857);\n",
       "        \n",
       "    \n",
       "            circle_marker_803df37a5cb5c74cb5bdbb3be8d7205f.bindTooltip(\n",
       "                `&lt;div&gt;\n",
       "                     Alemania: 80000 puntos de recarga\n",
       "                 &lt;/div&gt;`,\n",
       "                {&quot;sticky&quot;: true}\n",
       "            );\n",
       "        \n",
       "    \n",
       "            var circle_marker_26960a8c7eef571d69f2782d31d3c476 = L.circleMarker(\n",
       "                [46.6034, 1.8883],\n",
       "                {&quot;bubblingMouseEvents&quot;: true, &quot;color&quot;: &quot;#bfdc66&quot;, &quot;dashArray&quot;: null, &quot;dashOffset&quot;: null, &quot;fill&quot;: true, &quot;fillColor&quot;: &quot;#d1ec3f&quot;, &quot;fillOpacity&quot;: 0.5, &quot;fillRule&quot;: &quot;evenodd&quot;, &quot;lineCap&quot;: &quot;round&quot;, &quot;lineJoin&quot;: &quot;round&quot;, &quot;opacity&quot;: 1.0, &quot;radius&quot;: 37.5, &quot;stroke&quot;: true, &quot;weight&quot;: 2}\n",
       "            ).addTo(map_39737b5e8519f192286d11f0fb6c2857);\n",
       "        \n",
       "    \n",
       "            circle_marker_26960a8c7eef571d69f2782d31d3c476.bindTooltip(\n",
       "                `&lt;div&gt;\n",
       "                     Francia: 75000 puntos de recarga\n",
       "                 &lt;/div&gt;`,\n",
       "                {&quot;sticky&quot;: true}\n",
       "            );\n",
       "        \n",
       "    \n",
       "            var circle_marker_4eec095c2e5d2a5e9836025054a37c7d = L.circleMarker(\n",
       "                [55.3781, -3.436],\n",
       "                {&quot;bubblingMouseEvents&quot;: true, &quot;color&quot;: &quot;#bfdc66&quot;, &quot;dashArray&quot;: null, &quot;dashOffset&quot;: null, &quot;fill&quot;: true, &quot;fillColor&quot;: &quot;#d1ec3f&quot;, &quot;fillOpacity&quot;: 0.5, &quot;fillRule&quot;: &quot;evenodd&quot;, &quot;lineCap&quot;: &quot;round&quot;, &quot;lineJoin&quot;: &quot;round&quot;, &quot;opacity&quot;: 1.0, &quot;radius&quot;: 25.0, &quot;stroke&quot;: true, &quot;weight&quot;: 2}\n",
       "            ).addTo(map_39737b5e8519f192286d11f0fb6c2857);\n",
       "        \n",
       "    \n",
       "            circle_marker_4eec095c2e5d2a5e9836025054a37c7d.bindTooltip(\n",
       "                `&lt;div&gt;\n",
       "                     Reino Unido: 50000 puntos de recarga\n",
       "                 &lt;/div&gt;`,\n",
       "                {&quot;sticky&quot;: true}\n",
       "            );\n",
       "        \n",
       "    \n",
       "            var circle_marker_af2c746ca8f49d3135db76fefa15eb03 = L.circleMarker(\n",
       "                [60.1282, 18.6435],\n",
       "                {&quot;bubblingMouseEvents&quot;: true, &quot;color&quot;: &quot;#bfdc66&quot;, &quot;dashArray&quot;: null, &quot;dashOffset&quot;: null, &quot;fill&quot;: true, &quot;fillColor&quot;: &quot;#d1ec3f&quot;, &quot;fillOpacity&quot;: 0.5, &quot;fillRule&quot;: &quot;evenodd&quot;, &quot;lineCap&quot;: &quot;round&quot;, &quot;lineJoin&quot;: &quot;round&quot;, &quot;opacity&quot;: 1.0, &quot;radius&quot;: 15.0, &quot;stroke&quot;: true, &quot;weight&quot;: 2}\n",
       "            ).addTo(map_39737b5e8519f192286d11f0fb6c2857);\n",
       "        \n",
       "    \n",
       "            circle_marker_af2c746ca8f49d3135db76fefa15eb03.bindTooltip(\n",
       "                `&lt;div&gt;\n",
       "                     Suecia: 30000 puntos de recarga\n",
       "                 &lt;/div&gt;`,\n",
       "                {&quot;sticky&quot;: true}\n",
       "            );\n",
       "        \n",
       "    \n",
       "            var circle_marker_f0c2ea1d7c564f87a394489cd47cf72f = L.circleMarker(\n",
       "                [56.2639, 9.5018],\n",
       "                {&quot;bubblingMouseEvents&quot;: true, &quot;color&quot;: &quot;#bfdc66&quot;, &quot;dashArray&quot;: null, &quot;dashOffset&quot;: null, &quot;fill&quot;: true, &quot;fillColor&quot;: &quot;#d1ec3f&quot;, &quot;fillOpacity&quot;: 0.5, &quot;fillRule&quot;: &quot;evenodd&quot;, &quot;lineCap&quot;: &quot;round&quot;, &quot;lineJoin&quot;: &quot;round&quot;, &quot;opacity&quot;: 1.0, &quot;radius&quot;: 5.25, &quot;stroke&quot;: true, &quot;weight&quot;: 2}\n",
       "            ).addTo(map_39737b5e8519f192286d11f0fb6c2857);\n",
       "        \n",
       "    \n",
       "            circle_marker_f0c2ea1d7c564f87a394489cd47cf72f.bindTooltip(\n",
       "                `&lt;div&gt;\n",
       "                     Dinamarca: 10500 puntos de recarga\n",
       "                 &lt;/div&gt;`,\n",
       "                {&quot;sticky&quot;: true}\n",
       "            );\n",
       "        \n",
       "    \n",
       "            var circle_marker_8021fd60b140385e6f4bc790b86fbda4 = L.circleMarker(\n",
       "                [40.4637, -3.7492],\n",
       "                {&quot;bubblingMouseEvents&quot;: true, &quot;color&quot;: &quot;#bfdc66&quot;, &quot;dashArray&quot;: null, &quot;dashOffset&quot;: null, &quot;fill&quot;: true, &quot;fillColor&quot;: &quot;#d1ec3f&quot;, &quot;fillOpacity&quot;: 0.5, &quot;fillRule&quot;: &quot;evenodd&quot;, &quot;lineCap&quot;: &quot;round&quot;, &quot;lineJoin&quot;: &quot;round&quot;, &quot;opacity&quot;: 1.0, &quot;radius&quot;: 16.25, &quot;stroke&quot;: true, &quot;weight&quot;: 2}\n",
       "            ).addTo(map_39737b5e8519f192286d11f0fb6c2857);\n",
       "        \n",
       "    \n",
       "            circle_marker_8021fd60b140385e6f4bc790b86fbda4.bindTooltip(\n",
       "                `&lt;div&gt;\n",
       "                     España: 32500 puntos de recarga\n",
       "                 &lt;/div&gt;`,\n",
       "                {&quot;sticky&quot;: true}\n",
       "            );\n",
       "        \n",
       "    \n",
       "            var circle_marker_8a4442af95a27337cf33f553849dcffc = L.circleMarker(\n",
       "                [41.8719, 12.5674],\n",
       "                {&quot;bubblingMouseEvents&quot;: true, &quot;color&quot;: &quot;#bfdc66&quot;, &quot;dashArray&quot;: null, &quot;dashOffset&quot;: null, &quot;fill&quot;: true, &quot;fillColor&quot;: &quot;#d1ec3f&quot;, &quot;fillOpacity&quot;: 0.5, &quot;fillRule&quot;: &quot;evenodd&quot;, &quot;lineCap&quot;: &quot;round&quot;, &quot;lineJoin&quot;: &quot;round&quot;, &quot;opacity&quot;: 1.0, &quot;radius&quot;: 27.0, &quot;stroke&quot;: true, &quot;weight&quot;: 2}\n",
       "            ).addTo(map_39737b5e8519f192286d11f0fb6c2857);\n",
       "        \n",
       "    \n",
       "            circle_marker_8a4442af95a27337cf33f553849dcffc.bindTooltip(\n",
       "                `&lt;div&gt;\n",
       "                     Italia: 54000 puntos de recarga\n",
       "                 &lt;/div&gt;`,\n",
       "                {&quot;sticky&quot;: true}\n",
       "            );\n",
       "        \n",
       "    \n",
       "            var circle_marker_612dc3bfe0b55d5914829048fafd83cc = L.circleMarker(\n",
       "                [39.3999, -8.2245],\n",
       "                {&quot;bubblingMouseEvents&quot;: true, &quot;color&quot;: &quot;#bfdc66&quot;, &quot;dashArray&quot;: null, &quot;dashOffset&quot;: null, &quot;fill&quot;: true, &quot;fillColor&quot;: &quot;#d1ec3f&quot;, &quot;fillOpacity&quot;: 0.5, &quot;fillRule&quot;: &quot;evenodd&quot;, &quot;lineCap&quot;: &quot;round&quot;, &quot;lineJoin&quot;: &quot;round&quot;, &quot;opacity&quot;: 1.0, &quot;radius&quot;: 4.25, &quot;stroke&quot;: true, &quot;weight&quot;: 2}\n",
       "            ).addTo(map_39737b5e8519f192286d11f0fb6c2857);\n",
       "        \n",
       "    \n",
       "            circle_marker_612dc3bfe0b55d5914829048fafd83cc.bindTooltip(\n",
       "                `&lt;div&gt;\n",
       "                     Portugal: 8500 puntos de recarga\n",
       "                 &lt;/div&gt;`,\n",
       "                {&quot;sticky&quot;: true}\n",
       "            );\n",
       "        \n",
       "    \n",
       "            var circle_marker_9e1e41a8d88175ec6a98ef5f8bb457dd = L.circleMarker(\n",
       "                [47.516231, 14.550072],\n",
       "                {&quot;bubblingMouseEvents&quot;: true, &quot;color&quot;: &quot;#bfdc66&quot;, &quot;dashArray&quot;: null, &quot;dashOffset&quot;: null, &quot;fill&quot;: true, &quot;fillColor&quot;: &quot;#d1ec3f&quot;, &quot;fillOpacity&quot;: 0.5, &quot;fillRule&quot;: &quot;evenodd&quot;, &quot;lineCap&quot;: &quot;round&quot;, &quot;lineJoin&quot;: &quot;round&quot;, &quot;opacity&quot;: 1.0, &quot;radius&quot;: 20.0, &quot;stroke&quot;: true, &quot;weight&quot;: 2}\n",
       "            ).addTo(map_39737b5e8519f192286d11f0fb6c2857);\n",
       "        \n",
       "    \n",
       "            circle_marker_9e1e41a8d88175ec6a98ef5f8bb457dd.bindTooltip(\n",
       "                `&lt;div&gt;\n",
       "                     Austria: 40000 puntos de recarga\n",
       "                 &lt;/div&gt;`,\n",
       "                {&quot;sticky&quot;: true}\n",
       "            );\n",
       "        \n",
       "&lt;/script&gt;\n",
       "&lt;/html&gt;\" style=\"position:absolute;width:100%;height:100%;left:0;top:0;border:none !important;\" allowfullscreen webkitallowfullscreen mozallowfullscreen></iframe></div></div>"
      ],
      "text/plain": [
       "<folium.folium.Map at 0x1ccbae220d0>"
      ]
     },
     "execution_count": 28,
     "metadata": {},
     "output_type": "execute_result"
    }
   ],
   "source": [
    "# Crear un mapa centrado en Europa\n",
    "mapa = folium.Map(location=[54.5260, 15.2551], zoom_start=4, tiles=\"Cartodb positron\", attr=\"Map tiles by Stamen Design\")\n",
    "\n",
    "# Añadir marcadores para cada país\n",
    "for i in range(len(puntos_paises[\"pais\"])):\n",
    "    folium.CircleMarker(\n",
    "        location=[puntos_paises[\"lat\"][i], puntos_paises[\"lon\"][i]],\n",
    "        radius=puntos_paises[\"puntos_recarga\"][i] / 2000,  # Ajuste de tamaño\n",
    "        color='#bfdc66',\n",
    "        fill=True,\n",
    "        fill_color='#d1ec3f',\n",
    "        fill_opacity=0.5,\n",
    "        weight=2,  # Grosor del borde de las burbujas\n",
    "        tooltip=f\"{puntos_paises['pais'][i]}: {puntos_paises['puntos_recarga'][i]} puntos de recarga\"\n",
    "    ).add_to(mapa)\n",
    "\n",
    "# Mostrar el mapa\n",
    "mapa\n"
   ]
  },
  {
   "cell_type": "code",
   "execution_count": 29,
   "metadata": {},
   "outputs": [
    {
     "data": {
      "application/vnd.plotly.v1+json": {
       "config": {
        "plotlyServerURL": "https://plot.ly"
       },
       "data": [
        {
         "marker": {
          "color": "#d1ec3f",
          "cornerradius": 30
         },
         "name": "Portugal",
         "opacity": 0.8,
         "orientation": "h",
         "text": "±8,500",
         "textfont": {
          "color": "black",
          "size": 20
         },
         "textposition": "outside",
         "type": "bar",
         "width": 0.9,
         "x": [
          8500
         ],
         "y": [
          "Portugal"
         ]
        },
        {
         "marker": {
          "color": "#d1ec3f",
          "cornerradius": 30
         },
         "name": "Dinamarca",
         "opacity": 0.8,
         "orientation": "h",
         "text": "±10,500",
         "textfont": {
          "color": "black",
          "size": 20
         },
         "textposition": "outside",
         "type": "bar",
         "width": 0.9,
         "x": [
          10500
         ],
         "y": [
          "Dinamarca"
         ]
        },
        {
         "marker": {
          "color": "#d1ec3f",
          "cornerradius": 30
         },
         "name": "Noruega",
         "opacity": 0.8,
         "orientation": "h",
         "text": "±22,000",
         "textfont": {
          "color": "black",
          "size": 20
         },
         "textposition": "outside",
         "type": "bar",
         "width": 0.9,
         "x": [
          22000
         ],
         "y": [
          "Noruega"
         ]
        },
        {
         "marker": {
          "color": "#d1ec3f",
          "cornerradius": 30
         },
         "name": "Suecia",
         "opacity": 0.8,
         "orientation": "h",
         "text": "±30,000",
         "textfont": {
          "color": "black",
          "size": 20
         },
         "textposition": "outside",
         "type": "bar",
         "width": 0.9,
         "x": [
          30000
         ],
         "y": [
          "Suecia"
         ]
        },
        {
         "marker": {
          "color": "#d1ec3f",
          "cornerradius": 30
         },
         "name": "España",
         "opacity": 0.8,
         "orientation": "h",
         "text": "±32,500",
         "textfont": {
          "color": "black",
          "size": 20
         },
         "textposition": "outside",
         "type": "bar",
         "width": 0.9,
         "x": [
          32500
         ],
         "y": [
          "España"
         ]
        },
        {
         "marker": {
          "color": "#d1ec3f",
          "cornerradius": 30
         },
         "name": "Austria",
         "opacity": 0.8,
         "orientation": "h",
         "text": "±40,000",
         "textfont": {
          "color": "black",
          "size": 20
         },
         "textposition": "outside",
         "type": "bar",
         "width": 0.9,
         "x": [
          40000
         ],
         "y": [
          "Austria"
         ]
        },
        {
         "marker": {
          "color": "#d1ec3f",
          "cornerradius": 30
         },
         "name": "Reino Unido",
         "opacity": 0.8,
         "orientation": "h",
         "text": "±50,000",
         "textfont": {
          "color": "black",
          "size": 20
         },
         "textposition": "outside",
         "type": "bar",
         "width": 0.9,
         "x": [
          50000
         ],
         "y": [
          "Reino Unido"
         ]
        },
        {
         "marker": {
          "color": "#d1ec3f",
          "cornerradius": 30
         },
         "name": "Italia",
         "opacity": 0.8,
         "orientation": "h",
         "text": "±54,000",
         "textfont": {
          "color": "black",
          "size": 20
         },
         "textposition": "outside",
         "type": "bar",
         "width": 0.9,
         "x": [
          54000
         ],
         "y": [
          "Italia"
         ]
        },
        {
         "marker": {
          "color": "#d1ec3f",
          "cornerradius": 30
         },
         "name": "Francia",
         "opacity": 0.8,
         "orientation": "h",
         "text": "±75,000",
         "textfont": {
          "color": "black",
          "size": 20
         },
         "textposition": "outside",
         "type": "bar",
         "width": 0.9,
         "x": [
          75000
         ],
         "y": [
          "<b>Francia</b>"
         ]
        },
        {
         "marker": {
          "color": "#d1ec3f",
          "cornerradius": 30
         },
         "name": "Alemania",
         "opacity": 0.8,
         "orientation": "h",
         "text": "±80,000",
         "textfont": {
          "color": "black",
          "size": 20
         },
         "textposition": "outside",
         "type": "bar",
         "width": 0.9,
         "x": [
          80000
         ],
         "y": [
          "<b>Alemania</b>"
         ]
        },
        {
         "marker": {
          "color": "#d1ec3f",
          "cornerradius": 30
         },
         "name": "Países Bajos",
         "opacity": 0.8,
         "orientation": "h",
         "text": "±100,000",
         "textfont": {
          "color": "black",
          "size": 20
         },
         "textposition": "outside",
         "type": "bar",
         "width": 0.9,
         "x": [
          100000
         ],
         "y": [
          "<b>Países Bajos</b>"
         ]
        }
       ],
       "layout": {
        "barmode": "group",
        "height": 700,
        "margin": {
         "b": 20,
         "l": 40,
         "r": 40,
         "t": 60
        },
        "showlegend": false,
        "template": {
         "data": {
          "bar": [
           {
            "error_x": {
             "color": "rgb(51,51,51)"
            },
            "error_y": {
             "color": "rgb(51,51,51)"
            },
            "marker": {
             "line": {
              "color": "rgb(237,237,237)",
              "width": 0.5
             },
             "pattern": {
              "fillmode": "overlay",
              "size": 10,
              "solidity": 0.2
             }
            },
            "type": "bar"
           }
          ],
          "barpolar": [
           {
            "marker": {
             "line": {
              "color": "rgb(237,237,237)",
              "width": 0.5
             },
             "pattern": {
              "fillmode": "overlay",
              "size": 10,
              "solidity": 0.2
             }
            },
            "type": "barpolar"
           }
          ],
          "carpet": [
           {
            "aaxis": {
             "endlinecolor": "rgb(51,51,51)",
             "gridcolor": "white",
             "linecolor": "white",
             "minorgridcolor": "white",
             "startlinecolor": "rgb(51,51,51)"
            },
            "baxis": {
             "endlinecolor": "rgb(51,51,51)",
             "gridcolor": "white",
             "linecolor": "white",
             "minorgridcolor": "white",
             "startlinecolor": "rgb(51,51,51)"
            },
            "type": "carpet"
           }
          ],
          "choropleth": [
           {
            "colorbar": {
             "outlinewidth": 0,
             "tickcolor": "rgb(237,237,237)",
             "ticklen": 6,
             "ticks": "inside"
            },
            "type": "choropleth"
           }
          ],
          "contour": [
           {
            "colorbar": {
             "outlinewidth": 0,
             "tickcolor": "rgb(237,237,237)",
             "ticklen": 6,
             "ticks": "inside"
            },
            "colorscale": [
             [
              0,
              "rgb(20,44,66)"
             ],
             [
              1,
              "rgb(90,179,244)"
             ]
            ],
            "type": "contour"
           }
          ],
          "contourcarpet": [
           {
            "colorbar": {
             "outlinewidth": 0,
             "tickcolor": "rgb(237,237,237)",
             "ticklen": 6,
             "ticks": "inside"
            },
            "type": "contourcarpet"
           }
          ],
          "heatmap": [
           {
            "colorbar": {
             "outlinewidth": 0,
             "tickcolor": "rgb(237,237,237)",
             "ticklen": 6,
             "ticks": "inside"
            },
            "colorscale": [
             [
              0,
              "rgb(20,44,66)"
             ],
             [
              1,
              "rgb(90,179,244)"
             ]
            ],
            "type": "heatmap"
           }
          ],
          "heatmapgl": [
           {
            "colorbar": {
             "outlinewidth": 0,
             "tickcolor": "rgb(237,237,237)",
             "ticklen": 6,
             "ticks": "inside"
            },
            "colorscale": [
             [
              0,
              "rgb(20,44,66)"
             ],
             [
              1,
              "rgb(90,179,244)"
             ]
            ],
            "type": "heatmapgl"
           }
          ],
          "histogram": [
           {
            "marker": {
             "pattern": {
              "fillmode": "overlay",
              "size": 10,
              "solidity": 0.2
             }
            },
            "type": "histogram"
           }
          ],
          "histogram2d": [
           {
            "colorbar": {
             "outlinewidth": 0,
             "tickcolor": "rgb(237,237,237)",
             "ticklen": 6,
             "ticks": "inside"
            },
            "colorscale": [
             [
              0,
              "rgb(20,44,66)"
             ],
             [
              1,
              "rgb(90,179,244)"
             ]
            ],
            "type": "histogram2d"
           }
          ],
          "histogram2dcontour": [
           {
            "colorbar": {
             "outlinewidth": 0,
             "tickcolor": "rgb(237,237,237)",
             "ticklen": 6,
             "ticks": "inside"
            },
            "colorscale": [
             [
              0,
              "rgb(20,44,66)"
             ],
             [
              1,
              "rgb(90,179,244)"
             ]
            ],
            "type": "histogram2dcontour"
           }
          ],
          "mesh3d": [
           {
            "colorbar": {
             "outlinewidth": 0,
             "tickcolor": "rgb(237,237,237)",
             "ticklen": 6,
             "ticks": "inside"
            },
            "type": "mesh3d"
           }
          ],
          "parcoords": [
           {
            "line": {
             "colorbar": {
              "outlinewidth": 0,
              "tickcolor": "rgb(237,237,237)",
              "ticklen": 6,
              "ticks": "inside"
             }
            },
            "type": "parcoords"
           }
          ],
          "pie": [
           {
            "automargin": true,
            "type": "pie"
           }
          ],
          "scatter": [
           {
            "fillpattern": {
             "fillmode": "overlay",
             "size": 10,
             "solidity": 0.2
            },
            "type": "scatter"
           }
          ],
          "scatter3d": [
           {
            "line": {
             "colorbar": {
              "outlinewidth": 0,
              "tickcolor": "rgb(237,237,237)",
              "ticklen": 6,
              "ticks": "inside"
             }
            },
            "marker": {
             "colorbar": {
              "outlinewidth": 0,
              "tickcolor": "rgb(237,237,237)",
              "ticklen": 6,
              "ticks": "inside"
             }
            },
            "type": "scatter3d"
           }
          ],
          "scattercarpet": [
           {
            "marker": {
             "colorbar": {
              "outlinewidth": 0,
              "tickcolor": "rgb(237,237,237)",
              "ticklen": 6,
              "ticks": "inside"
             }
            },
            "type": "scattercarpet"
           }
          ],
          "scattergeo": [
           {
            "marker": {
             "colorbar": {
              "outlinewidth": 0,
              "tickcolor": "rgb(237,237,237)",
              "ticklen": 6,
              "ticks": "inside"
             }
            },
            "type": "scattergeo"
           }
          ],
          "scattergl": [
           {
            "marker": {
             "colorbar": {
              "outlinewidth": 0,
              "tickcolor": "rgb(237,237,237)",
              "ticklen": 6,
              "ticks": "inside"
             }
            },
            "type": "scattergl"
           }
          ],
          "scattermapbox": [
           {
            "marker": {
             "colorbar": {
              "outlinewidth": 0,
              "tickcolor": "rgb(237,237,237)",
              "ticklen": 6,
              "ticks": "inside"
             }
            },
            "type": "scattermapbox"
           }
          ],
          "scatterpolar": [
           {
            "marker": {
             "colorbar": {
              "outlinewidth": 0,
              "tickcolor": "rgb(237,237,237)",
              "ticklen": 6,
              "ticks": "inside"
             }
            },
            "type": "scatterpolar"
           }
          ],
          "scatterpolargl": [
           {
            "marker": {
             "colorbar": {
              "outlinewidth": 0,
              "tickcolor": "rgb(237,237,237)",
              "ticklen": 6,
              "ticks": "inside"
             }
            },
            "type": "scatterpolargl"
           }
          ],
          "scatterternary": [
           {
            "marker": {
             "colorbar": {
              "outlinewidth": 0,
              "tickcolor": "rgb(237,237,237)",
              "ticklen": 6,
              "ticks": "inside"
             }
            },
            "type": "scatterternary"
           }
          ],
          "surface": [
           {
            "colorbar": {
             "outlinewidth": 0,
             "tickcolor": "rgb(237,237,237)",
             "ticklen": 6,
             "ticks": "inside"
            },
            "colorscale": [
             [
              0,
              "rgb(20,44,66)"
             ],
             [
              1,
              "rgb(90,179,244)"
             ]
            ],
            "type": "surface"
           }
          ],
          "table": [
           {
            "cells": {
             "fill": {
              "color": "rgb(237,237,237)"
             },
             "line": {
              "color": "white"
             }
            },
            "header": {
             "fill": {
              "color": "rgb(217,217,217)"
             },
             "line": {
              "color": "white"
             }
            },
            "type": "table"
           }
          ]
         },
         "layout": {
          "annotationdefaults": {
           "arrowhead": 0,
           "arrowwidth": 1
          },
          "autotypenumbers": "strict",
          "coloraxis": {
           "colorbar": {
            "outlinewidth": 0,
            "tickcolor": "rgb(237,237,237)",
            "ticklen": 6,
            "ticks": "inside"
           }
          },
          "colorscale": {
           "sequential": [
            [
             0,
             "rgb(20,44,66)"
            ],
            [
             1,
             "rgb(90,179,244)"
            ]
           ],
           "sequentialminus": [
            [
             0,
             "rgb(20,44,66)"
            ],
            [
             1,
             "rgb(90,179,244)"
            ]
           ]
          },
          "colorway": [
           "#F8766D",
           "#A3A500",
           "#00BF7D",
           "#00B0F6",
           "#E76BF3"
          ],
          "font": {
           "color": "rgb(51,51,51)"
          },
          "geo": {
           "bgcolor": "white",
           "lakecolor": "white",
           "landcolor": "rgb(237,237,237)",
           "showlakes": true,
           "showland": true,
           "subunitcolor": "white"
          },
          "hoverlabel": {
           "align": "left"
          },
          "hovermode": "closest",
          "paper_bgcolor": "white",
          "plot_bgcolor": "rgb(237,237,237)",
          "polar": {
           "angularaxis": {
            "gridcolor": "white",
            "linecolor": "white",
            "showgrid": true,
            "tickcolor": "rgb(51,51,51)",
            "ticks": "outside"
           },
           "bgcolor": "rgb(237,237,237)",
           "radialaxis": {
            "gridcolor": "white",
            "linecolor": "white",
            "showgrid": true,
            "tickcolor": "rgb(51,51,51)",
            "ticks": "outside"
           }
          },
          "scene": {
           "xaxis": {
            "backgroundcolor": "rgb(237,237,237)",
            "gridcolor": "white",
            "gridwidth": 2,
            "linecolor": "white",
            "showbackground": true,
            "showgrid": true,
            "tickcolor": "rgb(51,51,51)",
            "ticks": "outside",
            "zerolinecolor": "white"
           },
           "yaxis": {
            "backgroundcolor": "rgb(237,237,237)",
            "gridcolor": "white",
            "gridwidth": 2,
            "linecolor": "white",
            "showbackground": true,
            "showgrid": true,
            "tickcolor": "rgb(51,51,51)",
            "ticks": "outside",
            "zerolinecolor": "white"
           },
           "zaxis": {
            "backgroundcolor": "rgb(237,237,237)",
            "gridcolor": "white",
            "gridwidth": 2,
            "linecolor": "white",
            "showbackground": true,
            "showgrid": true,
            "tickcolor": "rgb(51,51,51)",
            "ticks": "outside",
            "zerolinecolor": "white"
           }
          },
          "shapedefaults": {
           "fillcolor": "black",
           "line": {
            "width": 0
           },
           "opacity": 0.3
          },
          "ternary": {
           "aaxis": {
            "gridcolor": "white",
            "linecolor": "white",
            "showgrid": true,
            "tickcolor": "rgb(51,51,51)",
            "ticks": "outside"
           },
           "baxis": {
            "gridcolor": "white",
            "linecolor": "white",
            "showgrid": true,
            "tickcolor": "rgb(51,51,51)",
            "ticks": "outside"
           },
           "bgcolor": "rgb(237,237,237)",
           "caxis": {
            "gridcolor": "white",
            "linecolor": "white",
            "showgrid": true,
            "tickcolor": "rgb(51,51,51)",
            "ticks": "outside"
           }
          },
          "xaxis": {
           "automargin": true,
           "gridcolor": "white",
           "linecolor": "white",
           "showgrid": true,
           "tickcolor": "rgb(51,51,51)",
           "ticks": "outside",
           "title": {
            "standoff": 15
           },
           "zerolinecolor": "white"
          },
          "yaxis": {
           "automargin": true,
           "gridcolor": "white",
           "linecolor": "white",
           "showgrid": true,
           "tickcolor": "rgb(51,51,51)",
           "ticks": "outside",
           "title": {
            "standoff": 15
           },
           "zerolinecolor": "white"
          }
         }
        },
        "title": {
         "font": {
          "size": 21
         },
         "text": "Puntos de Recarga por País"
        },
        "width": 700,
        "xaxis": {
         "range": [
          0,
          130000
         ],
         "tickfont": {
          "size": 16
         },
         "title": {
          "font": {
           "size": 18
          }
         }
        },
        "yaxis": {
         "tickfont": {
          "size": 18
         },
         "title": {
          "font": {
           "size": 18
          }
         }
        }
       }
      }
     },
     "metadata": {},
     "output_type": "display_data"
    }
   ],
   "source": [
    "# Ordenar el DataFrame de menor a mayor en base a la columna 'puntos_recarga'\n",
    "puntos_paises = puntos_paises.sort_values(by=\"puntos_recarga\", ascending=True)\n",
    "\n",
    "# Crear la figura\n",
    "fig = go.Figure()\n",
    "\n",
    "# Umbral para determinar si el texto va dentro o fuera\n",
    "umbral = puntos_paises[\"puntos_recarga\"].max() * 0.6  # 60% del valor máximo como umbral\n",
    "\n",
    "# Lista de los tres países con más puntos de recarga\n",
    "top_paises = [\"Países Bajos\", \"Alemania\", \"Francia\"]\n",
    "\n",
    "# Añadir cada país al gráfico de barras en horizontal\n",
    "for i, row in puntos_paises.iterrows():\n",
    "    valor = row[\"puntos_recarga\"]\n",
    "    text_position = 'outside' if valor > umbral else 'outside'\n",
    "    \n",
    "    fig.add_trace(go.Bar(\n",
    "        y=[f\"<b>{row['pais']}</b>\" if row[\"pais\"] in top_paises else row[\"pais\"]],\n",
    "        x=[valor],\n",
    "        name=row[\"pais\"],\n",
    "        orientation='h',\n",
    "        marker=dict(color=\"#d1ec3f\", cornerradius=30),\n",
    "        text=f\"±{valor:,.0f}\",\n",
    "        textposition=text_position,\n",
    "        textfont=dict(size=20, color='black'),\n",
    "        width=0.9,\n",
    "        opacity=0.8\n",
    "    ))\n",
    "\n",
    "# Configurar el diseño del gráfico\n",
    "fig.update_layout(\n",
    "    title=\"Puntos de Recarga por País\",\n",
    "    title_font_size=21,\n",
    "    yaxis_title_font_size=18,\n",
    "    xaxis_title_font_size=18,\n",
    "    barmode=\"group\",\n",
    "    xaxis=dict(range=[0, 130000], tickfont=dict(size=16)),  # Rango logarítmico ajustado\n",
    "    yaxis=dict(tickfont=dict(size=18)),\n",
    "    margin=dict(l=40, r=40, t=60, b=20),  # Ajuste de márgenes\n",
    "    showlegend=False,\n",
    "    height=700,  # Ajustar la altura para que el gráfico sea más alto\n",
    "    width=700    # Ajustar el ancho para hacerlo más ancho\n",
    ")\n",
    "\n",
    "fig.show()"
   ]
  },
  {
   "cell_type": "markdown",
   "metadata": {},
   "source": [
    "#### Información sobre los **tipos de carga exitentes** en nuestro pais"
   ]
  },
  {
   "cell_type": "code",
   "execution_count": 354,
   "metadata": {},
   "outputs": [],
   "source": [
    "tipos_puntos = pd.read_csv(\"data/tipos_carga_espana.csv\")\n",
    "tipos_puntos_info = pd.read_csv(\"data/tipos_carga_espana_porcentajes.csv\")"
   ]
  },
  {
   "cell_type": "code",
   "execution_count": 355,
   "metadata": {},
   "outputs": [
    {
     "data": {
      "text/html": [
       "<div>\n",
       "<style scoped>\n",
       "    .dataframe tbody tr th:only-of-type {\n",
       "        vertical-align: middle;\n",
       "    }\n",
       "\n",
       "    .dataframe tbody tr th {\n",
       "        vertical-align: top;\n",
       "    }\n",
       "\n",
       "    .dataframe thead th {\n",
       "        text-align: right;\n",
       "    }\n",
       "</style>\n",
       "<table border=\"1\" class=\"dataframe\">\n",
       "  <thead>\n",
       "    <tr style=\"text-align: right;\">\n",
       "      <th></th>\n",
       "      <th>Tipo</th>\n",
       "      <th>Potencia</th>\n",
       "      <th>Caracteristicas</th>\n",
       "      <th>Tiempo_carga_aproximado</th>\n",
       "      <th>Ubicacion_tipica</th>\n",
       "    </tr>\n",
       "  </thead>\n",
       "  <tbody>\n",
       "    <tr>\n",
       "      <th>0</th>\n",
       "      <td>Lenta (Modo 2)</td>\n",
       "      <td>2.3 - 7.4 kW</td>\n",
       "      <td>- Utiliza corriente alterna (AC)\\n- Requiere c...</td>\n",
       "      <td>6-12 horas (batería completa)</td>\n",
       "      <td>Hogares, lugares de trabajo</td>\n",
       "    </tr>\n",
       "    <tr>\n",
       "      <th>1</th>\n",
       "      <td>Semi-rápida (Modo 3)</td>\n",
       "      <td>11 - 22 kW</td>\n",
       "      <td>- Utiliza corriente alterna (AC)\\n- Requiere u...</td>\n",
       "      <td>2-6 horas (batería completa)</td>\n",
       "      <td>Centros comerciales, parkings públicos</td>\n",
       "    </tr>\n",
       "    <tr>\n",
       "      <th>2</th>\n",
       "      <td>Rápida (Modo 4 - DC)</td>\n",
       "      <td>50 kW</td>\n",
       "      <td>- Utiliza corriente continua (DC)\\n- Carga dir...</td>\n",
       "      <td>30-60 minutos (80% de la batería)</td>\n",
       "      <td>Estaciones de servicio, áreas de descanso en c...</td>\n",
       "    </tr>\n",
       "    <tr>\n",
       "      <th>3</th>\n",
       "      <td>Ultra-rápida (Modo 4 - DC)</td>\n",
       "      <td>100 - 350 kW</td>\n",
       "      <td>- Utiliza corriente continua (DC)\\n- Requiere ...</td>\n",
       "      <td>15-30 minutos (80% de la batería)</td>\n",
       "      <td>Estaciones específicas en rutas principales</td>\n",
       "    </tr>\n",
       "  </tbody>\n",
       "</table>\n",
       "</div>"
      ],
      "text/plain": [
       "                         Tipo      Potencia  \\\n",
       "0              Lenta (Modo 2)  2.3 - 7.4 kW   \n",
       "1        Semi-rápida (Modo 3)    11 - 22 kW   \n",
       "2        Rápida (Modo 4 - DC)         50 kW   \n",
       "3  Ultra-rápida (Modo 4 - DC)  100 - 350 kW   \n",
       "\n",
       "                                     Caracteristicas  \\\n",
       "0  - Utiliza corriente alterna (AC)\\n- Requiere c...   \n",
       "1  - Utiliza corriente alterna (AC)\\n- Requiere u...   \n",
       "2  - Utiliza corriente continua (DC)\\n- Carga dir...   \n",
       "3  - Utiliza corriente continua (DC)\\n- Requiere ...   \n",
       "\n",
       "             Tiempo_carga_aproximado  \\\n",
       "0      6-12 horas (batería completa)   \n",
       "1       2-6 horas (batería completa)   \n",
       "2  30-60 minutos (80% de la batería)   \n",
       "3  15-30 minutos (80% de la batería)   \n",
       "\n",
       "                                    Ubicacion_tipica  \n",
       "0                        Hogares, lugares de trabajo  \n",
       "1             Centros comerciales, parkings públicos  \n",
       "2  Estaciones de servicio, áreas de descanso en c...  \n",
       "3        Estaciones específicas en rutas principales  "
      ]
     },
     "execution_count": 355,
     "metadata": {},
     "output_type": "execute_result"
    }
   ],
   "source": [
    "tipos_puntos"
   ]
  },
  {
   "cell_type": "code",
   "execution_count": 356,
   "metadata": {},
   "outputs": [
    {
     "data": {
      "text/html": [
       "<div>\n",
       "<style scoped>\n",
       "    .dataframe tbody tr th:only-of-type {\n",
       "        vertical-align: middle;\n",
       "    }\n",
       "\n",
       "    .dataframe tbody tr th {\n",
       "        vertical-align: top;\n",
       "    }\n",
       "\n",
       "    .dataframe thead th {\n",
       "        text-align: right;\n",
       "    }\n",
       "</style>\n",
       "<table border=\"1\" class=\"dataframe\">\n",
       "  <thead>\n",
       "    <tr style=\"text-align: right;\">\n",
       "      <th></th>\n",
       "      <th>Tipo</th>\n",
       "      <th>Potencia</th>\n",
       "      <th>Puntos</th>\n",
       "    </tr>\n",
       "  </thead>\n",
       "  <tbody>\n",
       "    <tr>\n",
       "      <th>0</th>\n",
       "      <td>Lenta y semi-rápida</td>\n",
       "      <td>Hasta 22 kW</td>\n",
       "      <td>22562</td>\n",
       "    </tr>\n",
       "    <tr>\n",
       "      <th>1</th>\n",
       "      <td>Rápida y ultra-rápida</td>\n",
       "      <td>50 kW y superior</td>\n",
       "      <td>6739</td>\n",
       "    </tr>\n",
       "  </tbody>\n",
       "</table>\n",
       "</div>"
      ],
      "text/plain": [
       "                    Tipo          Potencia  Puntos\n",
       "0    Lenta y semi-rápida       Hasta 22 kW   22562\n",
       "1  Rápida y ultra-rápida  50 kW y superior    6739"
      ]
     },
     "execution_count": 356,
     "metadata": {},
     "output_type": "execute_result"
    }
   ],
   "source": [
    "tipos_puntos_info"
   ]
  },
  {
   "cell_type": "code",
   "execution_count": 464,
   "metadata": {},
   "outputs": [
    {
     "data": {
      "application/vnd.plotly.v1+json": {
       "config": {
        "plotlyServerURL": "https://plot.ly"
       },
       "data": [
        {
         "hole": 0.6,
         "labels": [
          "Lenta y semi-rápida",
          "Rápida y ultra-rápida"
         ],
         "marker": {
          "colors": [
           "rgba(118, 194, 167, 0.7)",
           "#edff4c"
          ]
         },
         "pull": [
          0,
          0.1
         ],
         "textfont": {
          "color": "black",
          "size": 18
         },
         "textinfo": "percent",
         "type": "pie",
         "values": [
          22562,
          6739
         ]
        }
       ],
       "layout": {
        "legend": {
         "font": {
          "size": 22
         },
         "x": 0.64,
         "y": 0.5
        },
        "template": {
         "data": {
          "bar": [
           {
            "error_x": {
             "color": "rgb(51,51,51)"
            },
            "error_y": {
             "color": "rgb(51,51,51)"
            },
            "marker": {
             "line": {
              "color": "rgb(237,237,237)",
              "width": 0.5
             },
             "pattern": {
              "fillmode": "overlay",
              "size": 10,
              "solidity": 0.2
             }
            },
            "type": "bar"
           }
          ],
          "barpolar": [
           {
            "marker": {
             "line": {
              "color": "rgb(237,237,237)",
              "width": 0.5
             },
             "pattern": {
              "fillmode": "overlay",
              "size": 10,
              "solidity": 0.2
             }
            },
            "type": "barpolar"
           }
          ],
          "carpet": [
           {
            "aaxis": {
             "endlinecolor": "rgb(51,51,51)",
             "gridcolor": "white",
             "linecolor": "white",
             "minorgridcolor": "white",
             "startlinecolor": "rgb(51,51,51)"
            },
            "baxis": {
             "endlinecolor": "rgb(51,51,51)",
             "gridcolor": "white",
             "linecolor": "white",
             "minorgridcolor": "white",
             "startlinecolor": "rgb(51,51,51)"
            },
            "type": "carpet"
           }
          ],
          "choropleth": [
           {
            "colorbar": {
             "outlinewidth": 0,
             "tickcolor": "rgb(237,237,237)",
             "ticklen": 6,
             "ticks": "inside"
            },
            "type": "choropleth"
           }
          ],
          "contour": [
           {
            "colorbar": {
             "outlinewidth": 0,
             "tickcolor": "rgb(237,237,237)",
             "ticklen": 6,
             "ticks": "inside"
            },
            "colorscale": [
             [
              0,
              "rgb(20,44,66)"
             ],
             [
              1,
              "rgb(90,179,244)"
             ]
            ],
            "type": "contour"
           }
          ],
          "contourcarpet": [
           {
            "colorbar": {
             "outlinewidth": 0,
             "tickcolor": "rgb(237,237,237)",
             "ticklen": 6,
             "ticks": "inside"
            },
            "type": "contourcarpet"
           }
          ],
          "heatmap": [
           {
            "colorbar": {
             "outlinewidth": 0,
             "tickcolor": "rgb(237,237,237)",
             "ticklen": 6,
             "ticks": "inside"
            },
            "colorscale": [
             [
              0,
              "rgb(20,44,66)"
             ],
             [
              1,
              "rgb(90,179,244)"
             ]
            ],
            "type": "heatmap"
           }
          ],
          "heatmapgl": [
           {
            "colorbar": {
             "outlinewidth": 0,
             "tickcolor": "rgb(237,237,237)",
             "ticklen": 6,
             "ticks": "inside"
            },
            "colorscale": [
             [
              0,
              "rgb(20,44,66)"
             ],
             [
              1,
              "rgb(90,179,244)"
             ]
            ],
            "type": "heatmapgl"
           }
          ],
          "histogram": [
           {
            "marker": {
             "pattern": {
              "fillmode": "overlay",
              "size": 10,
              "solidity": 0.2
             }
            },
            "type": "histogram"
           }
          ],
          "histogram2d": [
           {
            "colorbar": {
             "outlinewidth": 0,
             "tickcolor": "rgb(237,237,237)",
             "ticklen": 6,
             "ticks": "inside"
            },
            "colorscale": [
             [
              0,
              "rgb(20,44,66)"
             ],
             [
              1,
              "rgb(90,179,244)"
             ]
            ],
            "type": "histogram2d"
           }
          ],
          "histogram2dcontour": [
           {
            "colorbar": {
             "outlinewidth": 0,
             "tickcolor": "rgb(237,237,237)",
             "ticklen": 6,
             "ticks": "inside"
            },
            "colorscale": [
             [
              0,
              "rgb(20,44,66)"
             ],
             [
              1,
              "rgb(90,179,244)"
             ]
            ],
            "type": "histogram2dcontour"
           }
          ],
          "mesh3d": [
           {
            "colorbar": {
             "outlinewidth": 0,
             "tickcolor": "rgb(237,237,237)",
             "ticklen": 6,
             "ticks": "inside"
            },
            "type": "mesh3d"
           }
          ],
          "parcoords": [
           {
            "line": {
             "colorbar": {
              "outlinewidth": 0,
              "tickcolor": "rgb(237,237,237)",
              "ticklen": 6,
              "ticks": "inside"
             }
            },
            "type": "parcoords"
           }
          ],
          "pie": [
           {
            "automargin": true,
            "type": "pie"
           }
          ],
          "scatter": [
           {
            "fillpattern": {
             "fillmode": "overlay",
             "size": 10,
             "solidity": 0.2
            },
            "type": "scatter"
           }
          ],
          "scatter3d": [
           {
            "line": {
             "colorbar": {
              "outlinewidth": 0,
              "tickcolor": "rgb(237,237,237)",
              "ticklen": 6,
              "ticks": "inside"
             }
            },
            "marker": {
             "colorbar": {
              "outlinewidth": 0,
              "tickcolor": "rgb(237,237,237)",
              "ticklen": 6,
              "ticks": "inside"
             }
            },
            "type": "scatter3d"
           }
          ],
          "scattercarpet": [
           {
            "marker": {
             "colorbar": {
              "outlinewidth": 0,
              "tickcolor": "rgb(237,237,237)",
              "ticklen": 6,
              "ticks": "inside"
             }
            },
            "type": "scattercarpet"
           }
          ],
          "scattergeo": [
           {
            "marker": {
             "colorbar": {
              "outlinewidth": 0,
              "tickcolor": "rgb(237,237,237)",
              "ticklen": 6,
              "ticks": "inside"
             }
            },
            "type": "scattergeo"
           }
          ],
          "scattergl": [
           {
            "marker": {
             "colorbar": {
              "outlinewidth": 0,
              "tickcolor": "rgb(237,237,237)",
              "ticklen": 6,
              "ticks": "inside"
             }
            },
            "type": "scattergl"
           }
          ],
          "scattermapbox": [
           {
            "marker": {
             "colorbar": {
              "outlinewidth": 0,
              "tickcolor": "rgb(237,237,237)",
              "ticklen": 6,
              "ticks": "inside"
             }
            },
            "type": "scattermapbox"
           }
          ],
          "scatterpolar": [
           {
            "marker": {
             "colorbar": {
              "outlinewidth": 0,
              "tickcolor": "rgb(237,237,237)",
              "ticklen": 6,
              "ticks": "inside"
             }
            },
            "type": "scatterpolar"
           }
          ],
          "scatterpolargl": [
           {
            "marker": {
             "colorbar": {
              "outlinewidth": 0,
              "tickcolor": "rgb(237,237,237)",
              "ticklen": 6,
              "ticks": "inside"
             }
            },
            "type": "scatterpolargl"
           }
          ],
          "scatterternary": [
           {
            "marker": {
             "colorbar": {
              "outlinewidth": 0,
              "tickcolor": "rgb(237,237,237)",
              "ticklen": 6,
              "ticks": "inside"
             }
            },
            "type": "scatterternary"
           }
          ],
          "surface": [
           {
            "colorbar": {
             "outlinewidth": 0,
             "tickcolor": "rgb(237,237,237)",
             "ticklen": 6,
             "ticks": "inside"
            },
            "colorscale": [
             [
              0,
              "rgb(20,44,66)"
             ],
             [
              1,
              "rgb(90,179,244)"
             ]
            ],
            "type": "surface"
           }
          ],
          "table": [
           {
            "cells": {
             "fill": {
              "color": "rgb(237,237,237)"
             },
             "line": {
              "color": "white"
             }
            },
            "header": {
             "fill": {
              "color": "rgb(217,217,217)"
             },
             "line": {
              "color": "white"
             }
            },
            "type": "table"
           }
          ]
         },
         "layout": {
          "annotationdefaults": {
           "arrowhead": 0,
           "arrowwidth": 1
          },
          "autotypenumbers": "strict",
          "coloraxis": {
           "colorbar": {
            "outlinewidth": 0,
            "tickcolor": "rgb(237,237,237)",
            "ticklen": 6,
            "ticks": "inside"
           }
          },
          "colorscale": {
           "sequential": [
            [
             0,
             "rgb(20,44,66)"
            ],
            [
             1,
             "rgb(90,179,244)"
            ]
           ],
           "sequentialminus": [
            [
             0,
             "rgb(20,44,66)"
            ],
            [
             1,
             "rgb(90,179,244)"
            ]
           ]
          },
          "colorway": [
           "#F8766D",
           "#A3A500",
           "#00BF7D",
           "#00B0F6",
           "#E76BF3"
          ],
          "font": {
           "color": "rgb(51,51,51)"
          },
          "geo": {
           "bgcolor": "white",
           "lakecolor": "white",
           "landcolor": "rgb(237,237,237)",
           "showlakes": true,
           "showland": true,
           "subunitcolor": "white"
          },
          "hoverlabel": {
           "align": "left"
          },
          "hovermode": "closest",
          "paper_bgcolor": "white",
          "plot_bgcolor": "rgb(237,237,237)",
          "polar": {
           "angularaxis": {
            "gridcolor": "white",
            "linecolor": "white",
            "showgrid": true,
            "tickcolor": "rgb(51,51,51)",
            "ticks": "outside"
           },
           "bgcolor": "rgb(237,237,237)",
           "radialaxis": {
            "gridcolor": "white",
            "linecolor": "white",
            "showgrid": true,
            "tickcolor": "rgb(51,51,51)",
            "ticks": "outside"
           }
          },
          "scene": {
           "xaxis": {
            "backgroundcolor": "rgb(237,237,237)",
            "gridcolor": "white",
            "gridwidth": 2,
            "linecolor": "white",
            "showbackground": true,
            "showgrid": true,
            "tickcolor": "rgb(51,51,51)",
            "ticks": "outside",
            "zerolinecolor": "white"
           },
           "yaxis": {
            "backgroundcolor": "rgb(237,237,237)",
            "gridcolor": "white",
            "gridwidth": 2,
            "linecolor": "white",
            "showbackground": true,
            "showgrid": true,
            "tickcolor": "rgb(51,51,51)",
            "ticks": "outside",
            "zerolinecolor": "white"
           },
           "zaxis": {
            "backgroundcolor": "rgb(237,237,237)",
            "gridcolor": "white",
            "gridwidth": 2,
            "linecolor": "white",
            "showbackground": true,
            "showgrid": true,
            "tickcolor": "rgb(51,51,51)",
            "ticks": "outside",
            "zerolinecolor": "white"
           }
          },
          "shapedefaults": {
           "fillcolor": "black",
           "line": {
            "width": 0
           },
           "opacity": 0.3
          },
          "ternary": {
           "aaxis": {
            "gridcolor": "white",
            "linecolor": "white",
            "showgrid": true,
            "tickcolor": "rgb(51,51,51)",
            "ticks": "outside"
           },
           "baxis": {
            "gridcolor": "white",
            "linecolor": "white",
            "showgrid": true,
            "tickcolor": "rgb(51,51,51)",
            "ticks": "outside"
           },
           "bgcolor": "rgb(237,237,237)",
           "caxis": {
            "gridcolor": "white",
            "linecolor": "white",
            "showgrid": true,
            "tickcolor": "rgb(51,51,51)",
            "ticks": "outside"
           }
          },
          "xaxis": {
           "automargin": true,
           "gridcolor": "white",
           "linecolor": "white",
           "showgrid": true,
           "tickcolor": "rgb(51,51,51)",
           "ticks": "outside",
           "title": {
            "standoff": 15
           },
           "zerolinecolor": "white"
          },
          "yaxis": {
           "automargin": true,
           "gridcolor": "white",
           "linecolor": "white",
           "showgrid": true,
           "tickcolor": "rgb(51,51,51)",
           "ticks": "outside",
           "title": {
            "standoff": 15
           },
           "zerolinecolor": "white"
          }
         }
        },
        "title": {
         "font": {
          "size": 21
         },
         "text": "Rto. de Puntos de Carga por Tipo en España"
        }
       }
      }
     },
     "metadata": {},
     "output_type": "display_data"
    }
   ],
   "source": [
    "# Colores personalizados basados en la paleta\n",
    "colors = [\"rgba(118, 194, 167, 0.7)\", \"#edff4c\"]\n",
    "\n",
    "# Crear gráfico de pastel\n",
    "fig = go.Figure(data=[go.Pie(\n",
    "    labels=tipos_puntos_info[\"Tipo\"],\n",
    "    values=tipos_puntos_info[\"Puntos\"],\n",
    "    marker=dict(colors=colors),\n",
    "    hole=0.6,  # Ajuste para hacer el agujero en el centro\n",
    "    textinfo='percent',  # Muestra el porcentaje\n",
    "    textfont=dict(size=18, color='black'),  # Tamaño y color del texto de los valores\n",
    "    pull=[0, 0.1],\n",
    ")])\n",
    "\n",
    "# Configuración del diseño\n",
    "fig.update_layout(\n",
    "    title=\"Rto. de Puntos de Carga por Tipo en España\",\n",
    "    title_font_size=21,\n",
    "    legend=dict(\n",
    "        x=0.64,  # Posicionamiento de la leyenda más cerca del gráfico\n",
    "        y=0.5,\n",
    "        font=dict(size=22)  # Tamaño de la fuente de la leyenda\n",
    "    )\n",
    ")\n",
    "\n",
    "# Mostrar el gráfico\n",
    "fig.show()"
   ]
  },
  {
   "cell_type": "markdown",
   "metadata": {},
   "source": [
    "#### Vamos a visualizar algunos datos sobre los **Precios de los Electricos en el 2024**"
   ]
  },
  {
   "cell_type": "code",
   "execution_count": 30,
   "metadata": {},
   "outputs": [
    {
     "data": {
      "text/html": [
       "<div>\n",
       "<style scoped>\n",
       "    .dataframe tbody tr th:only-of-type {\n",
       "        vertical-align: middle;\n",
       "    }\n",
       "\n",
       "    .dataframe tbody tr th {\n",
       "        vertical-align: top;\n",
       "    }\n",
       "\n",
       "    .dataframe thead th {\n",
       "        text-align: right;\n",
       "    }\n",
       "</style>\n",
       "<table border=\"1\" class=\"dataframe\">\n",
       "  <thead>\n",
       "    <tr style=\"text-align: right;\">\n",
       "      <th></th>\n",
       "      <th>Marca</th>\n",
       "      <th>Modelo</th>\n",
       "      <th>Precio_original</th>\n",
       "      <th>Ud_vendidas2024</th>\n",
       "      <th>Precio_MOVESIII(sin/con achatarramiento)</th>\n",
       "    </tr>\n",
       "  </thead>\n",
       "  <tbody>\n",
       "    <tr>\n",
       "      <th>0</th>\n",
       "      <td>BMW</td>\n",
       "      <td>iX1</td>\n",
       "      <td>48900</td>\n",
       "      <td>152</td>\n",
       "      <td>43.400 / 40.900</td>\n",
       "    </tr>\n",
       "    <tr>\n",
       "      <th>1</th>\n",
       "      <td>Tesla</td>\n",
       "      <td>Model Y</td>\n",
       "      <td>44990</td>\n",
       "      <td>1105</td>\n",
       "      <td>39.490 / 36.990</td>\n",
       "    </tr>\n",
       "    <tr>\n",
       "      <th>2</th>\n",
       "      <td>Tesla</td>\n",
       "      <td>Model 3</td>\n",
       "      <td>39990</td>\n",
       "      <td>1389</td>\n",
       "      <td>34.490 / 31.990</td>\n",
       "    </tr>\n",
       "    <tr>\n",
       "      <th>3</th>\n",
       "      <td>Hyundai</td>\n",
       "      <td>Kona eléctrico</td>\n",
       "      <td>40950</td>\n",
       "      <td>116</td>\n",
       "      <td>35.450 / 32.950</td>\n",
       "    </tr>\n",
       "    <tr>\n",
       "      <th>4</th>\n",
       "      <td>Kia</td>\n",
       "      <td>e-Niro</td>\n",
       "      <td>37994</td>\n",
       "      <td>224</td>\n",
       "      <td>32.494 / 29.994</td>\n",
       "    </tr>\n",
       "    <tr>\n",
       "      <th>5</th>\n",
       "      <td>BYD</td>\n",
       "      <td>Atto 3</td>\n",
       "      <td>37990</td>\n",
       "      <td>155</td>\n",
       "      <td>32.490 / 29.990</td>\n",
       "    </tr>\n",
       "    <tr>\n",
       "      <th>6</th>\n",
       "      <td>Volvo</td>\n",
       "      <td>EX30</td>\n",
       "      <td>37500</td>\n",
       "      <td>125</td>\n",
       "      <td>32.000 / 29.500</td>\n",
       "    </tr>\n",
       "    <tr>\n",
       "      <th>7</th>\n",
       "      <td>BYD</td>\n",
       "      <td>Dolphin</td>\n",
       "      <td>35690</td>\n",
       "      <td>126</td>\n",
       "      <td>30.190 / 27.690</td>\n",
       "    </tr>\n",
       "    <tr>\n",
       "      <th>8</th>\n",
       "      <td>Citroën</td>\n",
       "      <td>ë-C4</td>\n",
       "      <td>33640</td>\n",
       "      <td>180</td>\n",
       "      <td>28.140 / 25.640</td>\n",
       "    </tr>\n",
       "    <tr>\n",
       "      <th>9</th>\n",
       "      <td>MG</td>\n",
       "      <td>MG4</td>\n",
       "      <td>26480</td>\n",
       "      <td>625</td>\n",
       "      <td>20.980 / 18.480</td>\n",
       "    </tr>\n",
       "    <tr>\n",
       "      <th>10</th>\n",
       "      <td>Hyundai</td>\n",
       "      <td>Kona eléctrico</td>\n",
       "      <td>25640</td>\n",
       "      <td>116</td>\n",
       "      <td>20.140 / 17.640</td>\n",
       "    </tr>\n",
       "  </tbody>\n",
       "</table>\n",
       "</div>"
      ],
      "text/plain": [
       "      Marca          Modelo  Precio_original  Ud_vendidas2024  \\\n",
       "0       BMW             iX1            48900              152   \n",
       "1     Tesla         Model Y            44990             1105   \n",
       "2     Tesla         Model 3            39990             1389   \n",
       "3   Hyundai  Kona eléctrico            40950              116   \n",
       "4       Kia          e-Niro            37994              224   \n",
       "5       BYD          Atto 3            37990              155   \n",
       "6     Volvo            EX30            37500              125   \n",
       "7       BYD         Dolphin            35690              126   \n",
       "8   Citroën            ë-C4            33640              180   \n",
       "9        MG             MG4            26480              625   \n",
       "10  Hyundai  Kona eléctrico            25640              116   \n",
       "\n",
       "   Precio_MOVESIII(sin/con achatarramiento)  \n",
       "0                           43.400 / 40.900  \n",
       "1                           39.490 / 36.990  \n",
       "2                           34.490 / 31.990  \n",
       "3                           35.450 / 32.950  \n",
       "4                           32.494 / 29.994  \n",
       "5                           32.490 / 29.990  \n",
       "6                           32.000 / 29.500  \n",
       "7                           30.190 / 27.690  \n",
       "8                           28.140 / 25.640  \n",
       "9                           20.980 / 18.480  \n",
       "10                          20.140 / 17.640  "
      ]
     },
     "execution_count": 30,
     "metadata": {},
     "output_type": "execute_result"
    }
   ],
   "source": [
    "precios = pd.read_csv(\"data/precios_electricos_2024_conMOVESIII.csv\")\n",
    "precios"
   ]
  },
  {
   "cell_type": "code",
   "execution_count": 31,
   "metadata": {},
   "outputs": [
    {
     "data": {
      "text/html": [
       "<div>\n",
       "<style scoped>\n",
       "    .dataframe tbody tr th:only-of-type {\n",
       "        vertical-align: middle;\n",
       "    }\n",
       "\n",
       "    .dataframe tbody tr th {\n",
       "        vertical-align: top;\n",
       "    }\n",
       "\n",
       "    .dataframe thead th {\n",
       "        text-align: right;\n",
       "    }\n",
       "</style>\n",
       "<table border=\"1\" class=\"dataframe\">\n",
       "  <thead>\n",
       "    <tr style=\"text-align: right;\">\n",
       "      <th></th>\n",
       "      <th>Marca</th>\n",
       "      <th>Modelo</th>\n",
       "      <th>Precio_original</th>\n",
       "      <th>Ud_vendidas2024</th>\n",
       "      <th>Precio_MOVESIII(sin/con achatarramiento)</th>\n",
       "      <th>Precio_MOVESIII(sin_achatarramiento)</th>\n",
       "      <th>Precio_MOVESIII(con_achatarramiento)</th>\n",
       "    </tr>\n",
       "  </thead>\n",
       "  <tbody>\n",
       "    <tr>\n",
       "      <th>0</th>\n",
       "      <td>BMW</td>\n",
       "      <td>iX1</td>\n",
       "      <td>48900</td>\n",
       "      <td>152</td>\n",
       "      <td>43.400 / 40.900</td>\n",
       "      <td>43400.0</td>\n",
       "      <td>40900.0</td>\n",
       "    </tr>\n",
       "    <tr>\n",
       "      <th>1</th>\n",
       "      <td>Tesla</td>\n",
       "      <td>Model Y</td>\n",
       "      <td>44990</td>\n",
       "      <td>1105</td>\n",
       "      <td>39.490 / 36.990</td>\n",
       "      <td>39490.0</td>\n",
       "      <td>36990.0</td>\n",
       "    </tr>\n",
       "    <tr>\n",
       "      <th>2</th>\n",
       "      <td>Tesla</td>\n",
       "      <td>Model 3</td>\n",
       "      <td>39990</td>\n",
       "      <td>1389</td>\n",
       "      <td>34.490 / 31.990</td>\n",
       "      <td>34490.0</td>\n",
       "      <td>31990.0</td>\n",
       "    </tr>\n",
       "    <tr>\n",
       "      <th>3</th>\n",
       "      <td>Hyundai</td>\n",
       "      <td>Kona eléctrico</td>\n",
       "      <td>40950</td>\n",
       "      <td>116</td>\n",
       "      <td>35.450 / 32.950</td>\n",
       "      <td>35450.0</td>\n",
       "      <td>32950.0</td>\n",
       "    </tr>\n",
       "    <tr>\n",
       "      <th>4</th>\n",
       "      <td>Kia</td>\n",
       "      <td>e-Niro</td>\n",
       "      <td>37994</td>\n",
       "      <td>224</td>\n",
       "      <td>32.494 / 29.994</td>\n",
       "      <td>32494.0</td>\n",
       "      <td>29994.0</td>\n",
       "    </tr>\n",
       "    <tr>\n",
       "      <th>5</th>\n",
       "      <td>BYD</td>\n",
       "      <td>Atto 3</td>\n",
       "      <td>37990</td>\n",
       "      <td>155</td>\n",
       "      <td>32.490 / 29.990</td>\n",
       "      <td>32490.0</td>\n",
       "      <td>29990.0</td>\n",
       "    </tr>\n",
       "    <tr>\n",
       "      <th>6</th>\n",
       "      <td>Volvo</td>\n",
       "      <td>EX30</td>\n",
       "      <td>37500</td>\n",
       "      <td>125</td>\n",
       "      <td>32.000 / 29.500</td>\n",
       "      <td>32000.0</td>\n",
       "      <td>29500.0</td>\n",
       "    </tr>\n",
       "    <tr>\n",
       "      <th>7</th>\n",
       "      <td>BYD</td>\n",
       "      <td>Dolphin</td>\n",
       "      <td>35690</td>\n",
       "      <td>126</td>\n",
       "      <td>30.190 / 27.690</td>\n",
       "      <td>30190.0</td>\n",
       "      <td>27690.0</td>\n",
       "    </tr>\n",
       "    <tr>\n",
       "      <th>8</th>\n",
       "      <td>Citroën</td>\n",
       "      <td>ë-C4</td>\n",
       "      <td>33640</td>\n",
       "      <td>180</td>\n",
       "      <td>28.140 / 25.640</td>\n",
       "      <td>28140.0</td>\n",
       "      <td>25640.0</td>\n",
       "    </tr>\n",
       "    <tr>\n",
       "      <th>9</th>\n",
       "      <td>MG</td>\n",
       "      <td>MG4</td>\n",
       "      <td>26480</td>\n",
       "      <td>625</td>\n",
       "      <td>20.980 / 18.480</td>\n",
       "      <td>20980.0</td>\n",
       "      <td>18480.0</td>\n",
       "    </tr>\n",
       "    <tr>\n",
       "      <th>10</th>\n",
       "      <td>Hyundai</td>\n",
       "      <td>Kona eléctrico</td>\n",
       "      <td>25640</td>\n",
       "      <td>116</td>\n",
       "      <td>20.140 / 17.640</td>\n",
       "      <td>20140.0</td>\n",
       "      <td>17640.0</td>\n",
       "    </tr>\n",
       "  </tbody>\n",
       "</table>\n",
       "</div>"
      ],
      "text/plain": [
       "      Marca          Modelo  Precio_original  Ud_vendidas2024  \\\n",
       "0       BMW             iX1            48900              152   \n",
       "1     Tesla         Model Y            44990             1105   \n",
       "2     Tesla         Model 3            39990             1389   \n",
       "3   Hyundai  Kona eléctrico            40950              116   \n",
       "4       Kia          e-Niro            37994              224   \n",
       "5       BYD          Atto 3            37990              155   \n",
       "6     Volvo            EX30            37500              125   \n",
       "7       BYD         Dolphin            35690              126   \n",
       "8   Citroën            ë-C4            33640              180   \n",
       "9        MG             MG4            26480              625   \n",
       "10  Hyundai  Kona eléctrico            25640              116   \n",
       "\n",
       "   Precio_MOVESIII(sin/con achatarramiento)  \\\n",
       "0                           43.400 / 40.900   \n",
       "1                           39.490 / 36.990   \n",
       "2                           34.490 / 31.990   \n",
       "3                           35.450 / 32.950   \n",
       "4                           32.494 / 29.994   \n",
       "5                           32.490 / 29.990   \n",
       "6                           32.000 / 29.500   \n",
       "7                           30.190 / 27.690   \n",
       "8                           28.140 / 25.640   \n",
       "9                           20.980 / 18.480   \n",
       "10                          20.140 / 17.640   \n",
       "\n",
       "    Precio_MOVESIII(sin_achatarramiento)  Precio_MOVESIII(con_achatarramiento)  \n",
       "0                                43400.0                               40900.0  \n",
       "1                                39490.0                               36990.0  \n",
       "2                                34490.0                               31990.0  \n",
       "3                                35450.0                               32950.0  \n",
       "4                                32494.0                               29994.0  \n",
       "5                                32490.0                               29990.0  \n",
       "6                                32000.0                               29500.0  \n",
       "7                                30190.0                               27690.0  \n",
       "8                                28140.0                               25640.0  \n",
       "9                                20980.0                               18480.0  \n",
       "10                               20140.0                               17640.0  "
      ]
     },
     "execution_count": 31,
     "metadata": {},
     "output_type": "execute_result"
    }
   ],
   "source": [
    "precios[\"Precio_MOVESIII(sin_achatarramiento)\"] = (precios[\"Precio_MOVESIII(sin/con achatarramiento)\"].str.split('/', expand=True)[0].str.replace(\".\", \"\", regex=False).str.replace(\",\", \".\").astype(float))\n",
    "precios[\"Precio_MOVESIII(con_achatarramiento)\"] = (precios[\"Precio_MOVESIII(sin/con achatarramiento)\"].str.split('/', expand=True)[1].str.replace(\".\", \"\", regex=False).str.replace(\",\", \".\").astype(float))\n",
    "precios"
   ]
  },
  {
   "cell_type": "code",
   "execution_count": 32,
   "metadata": {},
   "outputs": [],
   "source": [
    "precios = precios.drop(\"Precio_MOVESIII(sin/con achatarramiento)\", axis=1)"
   ]
  },
  {
   "cell_type": "code",
   "execution_count": 33,
   "metadata": {},
   "outputs": [
    {
     "data": {
      "text/html": [
       "<div>\n",
       "<style scoped>\n",
       "    .dataframe tbody tr th:only-of-type {\n",
       "        vertical-align: middle;\n",
       "    }\n",
       "\n",
       "    .dataframe tbody tr th {\n",
       "        vertical-align: top;\n",
       "    }\n",
       "\n",
       "    .dataframe thead th {\n",
       "        text-align: right;\n",
       "    }\n",
       "</style>\n",
       "<table border=\"1\" class=\"dataframe\">\n",
       "  <thead>\n",
       "    <tr style=\"text-align: right;\">\n",
       "      <th></th>\n",
       "      <th>Marca</th>\n",
       "      <th>Modelo</th>\n",
       "      <th>Precio_original</th>\n",
       "      <th>Ud_vendidas2024</th>\n",
       "      <th>Precio_MOVESIII(sin_achatarramiento)</th>\n",
       "      <th>Precio_MOVESIII(con_achatarramiento)</th>\n",
       "    </tr>\n",
       "  </thead>\n",
       "  <tbody>\n",
       "    <tr>\n",
       "      <th>0</th>\n",
       "      <td>BMW</td>\n",
       "      <td>iX1</td>\n",
       "      <td>48900</td>\n",
       "      <td>152</td>\n",
       "      <td>43400.0</td>\n",
       "      <td>40900.0</td>\n",
       "    </tr>\n",
       "    <tr>\n",
       "      <th>1</th>\n",
       "      <td>Tesla</td>\n",
       "      <td>Model Y</td>\n",
       "      <td>44990</td>\n",
       "      <td>1105</td>\n",
       "      <td>39490.0</td>\n",
       "      <td>36990.0</td>\n",
       "    </tr>\n",
       "    <tr>\n",
       "      <th>2</th>\n",
       "      <td>Tesla</td>\n",
       "      <td>Model 3</td>\n",
       "      <td>39990</td>\n",
       "      <td>1389</td>\n",
       "      <td>34490.0</td>\n",
       "      <td>31990.0</td>\n",
       "    </tr>\n",
       "    <tr>\n",
       "      <th>3</th>\n",
       "      <td>Hyundai</td>\n",
       "      <td>Kona eléctrico</td>\n",
       "      <td>40950</td>\n",
       "      <td>116</td>\n",
       "      <td>35450.0</td>\n",
       "      <td>32950.0</td>\n",
       "    </tr>\n",
       "    <tr>\n",
       "      <th>4</th>\n",
       "      <td>Kia</td>\n",
       "      <td>e-Niro</td>\n",
       "      <td>37994</td>\n",
       "      <td>224</td>\n",
       "      <td>32494.0</td>\n",
       "      <td>29994.0</td>\n",
       "    </tr>\n",
       "    <tr>\n",
       "      <th>5</th>\n",
       "      <td>BYD</td>\n",
       "      <td>Atto 3</td>\n",
       "      <td>37990</td>\n",
       "      <td>155</td>\n",
       "      <td>32490.0</td>\n",
       "      <td>29990.0</td>\n",
       "    </tr>\n",
       "    <tr>\n",
       "      <th>6</th>\n",
       "      <td>Volvo</td>\n",
       "      <td>EX30</td>\n",
       "      <td>37500</td>\n",
       "      <td>125</td>\n",
       "      <td>32000.0</td>\n",
       "      <td>29500.0</td>\n",
       "    </tr>\n",
       "    <tr>\n",
       "      <th>7</th>\n",
       "      <td>BYD</td>\n",
       "      <td>Dolphin</td>\n",
       "      <td>35690</td>\n",
       "      <td>126</td>\n",
       "      <td>30190.0</td>\n",
       "      <td>27690.0</td>\n",
       "    </tr>\n",
       "    <tr>\n",
       "      <th>8</th>\n",
       "      <td>Citroën</td>\n",
       "      <td>ë-C4</td>\n",
       "      <td>33640</td>\n",
       "      <td>180</td>\n",
       "      <td>28140.0</td>\n",
       "      <td>25640.0</td>\n",
       "    </tr>\n",
       "    <tr>\n",
       "      <th>9</th>\n",
       "      <td>MG</td>\n",
       "      <td>MG4</td>\n",
       "      <td>26480</td>\n",
       "      <td>625</td>\n",
       "      <td>20980.0</td>\n",
       "      <td>18480.0</td>\n",
       "    </tr>\n",
       "    <tr>\n",
       "      <th>10</th>\n",
       "      <td>Hyundai</td>\n",
       "      <td>Kona eléctrico</td>\n",
       "      <td>25640</td>\n",
       "      <td>116</td>\n",
       "      <td>20140.0</td>\n",
       "      <td>17640.0</td>\n",
       "    </tr>\n",
       "  </tbody>\n",
       "</table>\n",
       "</div>"
      ],
      "text/plain": [
       "      Marca          Modelo  Precio_original  Ud_vendidas2024  \\\n",
       "0       BMW             iX1            48900              152   \n",
       "1     Tesla         Model Y            44990             1105   \n",
       "2     Tesla         Model 3            39990             1389   \n",
       "3   Hyundai  Kona eléctrico            40950              116   \n",
       "4       Kia          e-Niro            37994              224   \n",
       "5       BYD          Atto 3            37990              155   \n",
       "6     Volvo            EX30            37500              125   \n",
       "7       BYD         Dolphin            35690              126   \n",
       "8   Citroën            ë-C4            33640              180   \n",
       "9        MG             MG4            26480              625   \n",
       "10  Hyundai  Kona eléctrico            25640              116   \n",
       "\n",
       "    Precio_MOVESIII(sin_achatarramiento)  Precio_MOVESIII(con_achatarramiento)  \n",
       "0                                43400.0                               40900.0  \n",
       "1                                39490.0                               36990.0  \n",
       "2                                34490.0                               31990.0  \n",
       "3                                35450.0                               32950.0  \n",
       "4                                32494.0                               29994.0  \n",
       "5                                32490.0                               29990.0  \n",
       "6                                32000.0                               29500.0  \n",
       "7                                30190.0                               27690.0  \n",
       "8                                28140.0                               25640.0  \n",
       "9                                20980.0                               18480.0  \n",
       "10                               20140.0                               17640.0  "
      ]
     },
     "execution_count": 33,
     "metadata": {},
     "output_type": "execute_result"
    }
   ],
   "source": [
    "precios"
   ]
  },
  {
   "cell_type": "code",
   "execution_count": 34,
   "metadata": {},
   "outputs": [
    {
     "data": {
      "text/html": [
       "<div>\n",
       "<style scoped>\n",
       "    .dataframe tbody tr th:only-of-type {\n",
       "        vertical-align: middle;\n",
       "    }\n",
       "\n",
       "    .dataframe tbody tr th {\n",
       "        vertical-align: top;\n",
       "    }\n",
       "\n",
       "    .dataframe thead th {\n",
       "        text-align: right;\n",
       "    }\n",
       "</style>\n",
       "<table border=\"1\" class=\"dataframe\">\n",
       "  <thead>\n",
       "    <tr style=\"text-align: right;\">\n",
       "      <th></th>\n",
       "      <th>Precio_original</th>\n",
       "      <th>Ud_vendidas2024</th>\n",
       "      <th>Precio_MOVESIII(sin_achatarramiento)</th>\n",
       "      <th>Precio_MOVESIII(con_achatarramiento)</th>\n",
       "    </tr>\n",
       "  </thead>\n",
       "  <tbody>\n",
       "    <tr>\n",
       "      <th>count</th>\n",
       "      <td>11.000000</td>\n",
       "      <td>11.000000</td>\n",
       "      <td>11.000000</td>\n",
       "      <td>11.000000</td>\n",
       "    </tr>\n",
       "    <tr>\n",
       "      <th>mean</th>\n",
       "      <td>37251.272727</td>\n",
       "      <td>392.090909</td>\n",
       "      <td>31751.272727</td>\n",
       "      <td>29251.272727</td>\n",
       "    </tr>\n",
       "    <tr>\n",
       "      <th>std</th>\n",
       "      <td>6958.750018</td>\n",
       "      <td>451.442234</td>\n",
       "      <td>6958.750018</td>\n",
       "      <td>6958.750018</td>\n",
       "    </tr>\n",
       "    <tr>\n",
       "      <th>min</th>\n",
       "      <td>25640.000000</td>\n",
       "      <td>116.000000</td>\n",
       "      <td>20140.000000</td>\n",
       "      <td>17640.000000</td>\n",
       "    </tr>\n",
       "    <tr>\n",
       "      <th>25%</th>\n",
       "      <td>34665.000000</td>\n",
       "      <td>125.500000</td>\n",
       "      <td>29165.000000</td>\n",
       "      <td>26665.000000</td>\n",
       "    </tr>\n",
       "    <tr>\n",
       "      <th>50%</th>\n",
       "      <td>37990.000000</td>\n",
       "      <td>155.000000</td>\n",
       "      <td>32490.000000</td>\n",
       "      <td>29990.000000</td>\n",
       "    </tr>\n",
       "    <tr>\n",
       "      <th>75%</th>\n",
       "      <td>40470.000000</td>\n",
       "      <td>424.500000</td>\n",
       "      <td>34970.000000</td>\n",
       "      <td>32470.000000</td>\n",
       "    </tr>\n",
       "    <tr>\n",
       "      <th>max</th>\n",
       "      <td>48900.000000</td>\n",
       "      <td>1389.000000</td>\n",
       "      <td>43400.000000</td>\n",
       "      <td>40900.000000</td>\n",
       "    </tr>\n",
       "  </tbody>\n",
       "</table>\n",
       "</div>"
      ],
      "text/plain": [
       "       Precio_original  Ud_vendidas2024  Precio_MOVESIII(sin_achatarramiento)  \\\n",
       "count        11.000000        11.000000                             11.000000   \n",
       "mean      37251.272727       392.090909                          31751.272727   \n",
       "std        6958.750018       451.442234                           6958.750018   \n",
       "min       25640.000000       116.000000                          20140.000000   \n",
       "25%       34665.000000       125.500000                          29165.000000   \n",
       "50%       37990.000000       155.000000                          32490.000000   \n",
       "75%       40470.000000       424.500000                          34970.000000   \n",
       "max       48900.000000      1389.000000                          43400.000000   \n",
       "\n",
       "       Precio_MOVESIII(con_achatarramiento)  \n",
       "count                             11.000000  \n",
       "mean                           29251.272727  \n",
       "std                             6958.750018  \n",
       "min                            17640.000000  \n",
       "25%                            26665.000000  \n",
       "50%                            29990.000000  \n",
       "75%                            32470.000000  \n",
       "max                            40900.000000  "
      ]
     },
     "execution_count": 34,
     "metadata": {},
     "output_type": "execute_result"
    }
   ],
   "source": [
    "precios.describe()"
   ]
  },
  {
   "cell_type": "code",
   "execution_count": 38,
   "metadata": {},
   "outputs": [],
   "source": [
    "precios = precios.sort_values(by=\"Precio_original\", ascending=False)"
   ]
  },
  {
   "cell_type": "code",
   "execution_count": 41,
   "metadata": {},
   "outputs": [
    {
     "data": {
      "application/vnd.plotly.v1+json": {
       "config": {
        "plotlyServerURL": "https://plot.ly"
       },
       "data": [
        {
         "marker": {
          "color": "#84e544",
          "cornerradius": 20
         },
         "name": "Precio con Achatarramiento",
         "text": [
          "40,900 €",
          "36,990 €",
          "32,950 €",
          "31,990 €",
          "29,994 €",
          "29,990 €",
          "29,500 €",
          "27,690 €",
          "25,640 €",
          "18,480 €",
          "17,640 €"
         ],
         "textfont": {
          "color": "black",
          "size": 20
         },
         "textposition": "auto",
         "type": "bar",
         "x": [
          "BMW",
          "Tesla",
          "Hyundai",
          "Kia",
          "BYD",
          "Volvo",
          "Citroën",
          "MG"
         ],
         "y": [
          40900,
          36990,
          32950,
          31990,
          29994,
          29990,
          29500,
          27690,
          25640,
          18480,
          17640
         ]
        },
        {
         "marker": {
          "color": "#49d19a",
          "cornerradius": 20
         },
         "name": "Precio sin Achatarramiento",
         "text": [
          "43,400 €",
          "39,490 €",
          "35,450 €",
          "34,490 €",
          "32,494 €",
          "32,490 €",
          "32,000 €",
          "30,190 €",
          "28,140 €",
          "20,980 €",
          "20,140 €"
         ],
         "textfont": {
          "color": "black",
          "size": 20
         },
         "textposition": "auto",
         "type": "bar",
         "x": [
          "BMW",
          "Tesla",
          "Hyundai",
          "Kia",
          "BYD",
          "Volvo",
          "Citroën",
          "MG"
         ],
         "y": [
          43400,
          39490,
          35450,
          34490,
          32494,
          32490,
          32000,
          30190,
          28140,
          20980,
          20140
         ]
        },
        {
         "marker": {
          "color": "#1bb29f",
          "cornerradius": 20
         },
         "name": "Precio Original",
         "text": [
          "48,900 €",
          "44,990 €",
          "40,950 €",
          "39,990 €",
          "37,994 €",
          "37,990 €",
          "37,500 €",
          "35,690 €",
          "33,640 €",
          "26,480 €",
          "25,640 €"
         ],
         "textfont": {
          "color": "black",
          "size": 20
         },
         "textposition": "auto",
         "type": "bar",
         "x": [
          "BMW",
          "Tesla",
          "Hyundai",
          "Kia",
          "BYD",
          "Volvo",
          "Citroën",
          "MG"
         ],
         "y": [
          48900,
          44990,
          40950,
          39990,
          37994,
          37990,
          37500,
          35690,
          33640,
          26480,
          25640
         ]
        }
       ],
       "layout": {
        "barmode": "stack",
        "height": 500,
        "legend": {
         "font": {
          "size": 19
         },
         "x": 0.745,
         "y": 1.005
        },
        "margin": {
         "b": 40,
         "l": 40,
         "r": 40,
         "t": 60
        },
        "showlegend": true,
        "template": {
         "data": {
          "bar": [
           {
            "error_x": {
             "color": "rgb(51,51,51)"
            },
            "error_y": {
             "color": "rgb(51,51,51)"
            },
            "marker": {
             "line": {
              "color": "rgb(237,237,237)",
              "width": 0.5
             },
             "pattern": {
              "fillmode": "overlay",
              "size": 10,
              "solidity": 0.2
             }
            },
            "type": "bar"
           }
          ],
          "barpolar": [
           {
            "marker": {
             "line": {
              "color": "rgb(237,237,237)",
              "width": 0.5
             },
             "pattern": {
              "fillmode": "overlay",
              "size": 10,
              "solidity": 0.2
             }
            },
            "type": "barpolar"
           }
          ],
          "carpet": [
           {
            "aaxis": {
             "endlinecolor": "rgb(51,51,51)",
             "gridcolor": "white",
             "linecolor": "white",
             "minorgridcolor": "white",
             "startlinecolor": "rgb(51,51,51)"
            },
            "baxis": {
             "endlinecolor": "rgb(51,51,51)",
             "gridcolor": "white",
             "linecolor": "white",
             "minorgridcolor": "white",
             "startlinecolor": "rgb(51,51,51)"
            },
            "type": "carpet"
           }
          ],
          "choropleth": [
           {
            "colorbar": {
             "outlinewidth": 0,
             "tickcolor": "rgb(237,237,237)",
             "ticklen": 6,
             "ticks": "inside"
            },
            "type": "choropleth"
           }
          ],
          "contour": [
           {
            "colorbar": {
             "outlinewidth": 0,
             "tickcolor": "rgb(237,237,237)",
             "ticklen": 6,
             "ticks": "inside"
            },
            "colorscale": [
             [
              0,
              "rgb(20,44,66)"
             ],
             [
              1,
              "rgb(90,179,244)"
             ]
            ],
            "type": "contour"
           }
          ],
          "contourcarpet": [
           {
            "colorbar": {
             "outlinewidth": 0,
             "tickcolor": "rgb(237,237,237)",
             "ticklen": 6,
             "ticks": "inside"
            },
            "type": "contourcarpet"
           }
          ],
          "heatmap": [
           {
            "colorbar": {
             "outlinewidth": 0,
             "tickcolor": "rgb(237,237,237)",
             "ticklen": 6,
             "ticks": "inside"
            },
            "colorscale": [
             [
              0,
              "rgb(20,44,66)"
             ],
             [
              1,
              "rgb(90,179,244)"
             ]
            ],
            "type": "heatmap"
           }
          ],
          "heatmapgl": [
           {
            "colorbar": {
             "outlinewidth": 0,
             "tickcolor": "rgb(237,237,237)",
             "ticklen": 6,
             "ticks": "inside"
            },
            "colorscale": [
             [
              0,
              "rgb(20,44,66)"
             ],
             [
              1,
              "rgb(90,179,244)"
             ]
            ],
            "type": "heatmapgl"
           }
          ],
          "histogram": [
           {
            "marker": {
             "pattern": {
              "fillmode": "overlay",
              "size": 10,
              "solidity": 0.2
             }
            },
            "type": "histogram"
           }
          ],
          "histogram2d": [
           {
            "colorbar": {
             "outlinewidth": 0,
             "tickcolor": "rgb(237,237,237)",
             "ticklen": 6,
             "ticks": "inside"
            },
            "colorscale": [
             [
              0,
              "rgb(20,44,66)"
             ],
             [
              1,
              "rgb(90,179,244)"
             ]
            ],
            "type": "histogram2d"
           }
          ],
          "histogram2dcontour": [
           {
            "colorbar": {
             "outlinewidth": 0,
             "tickcolor": "rgb(237,237,237)",
             "ticklen": 6,
             "ticks": "inside"
            },
            "colorscale": [
             [
              0,
              "rgb(20,44,66)"
             ],
             [
              1,
              "rgb(90,179,244)"
             ]
            ],
            "type": "histogram2dcontour"
           }
          ],
          "mesh3d": [
           {
            "colorbar": {
             "outlinewidth": 0,
             "tickcolor": "rgb(237,237,237)",
             "ticklen": 6,
             "ticks": "inside"
            },
            "type": "mesh3d"
           }
          ],
          "parcoords": [
           {
            "line": {
             "colorbar": {
              "outlinewidth": 0,
              "tickcolor": "rgb(237,237,237)",
              "ticklen": 6,
              "ticks": "inside"
             }
            },
            "type": "parcoords"
           }
          ],
          "pie": [
           {
            "automargin": true,
            "type": "pie"
           }
          ],
          "scatter": [
           {
            "fillpattern": {
             "fillmode": "overlay",
             "size": 10,
             "solidity": 0.2
            },
            "type": "scatter"
           }
          ],
          "scatter3d": [
           {
            "line": {
             "colorbar": {
              "outlinewidth": 0,
              "tickcolor": "rgb(237,237,237)",
              "ticklen": 6,
              "ticks": "inside"
             }
            },
            "marker": {
             "colorbar": {
              "outlinewidth": 0,
              "tickcolor": "rgb(237,237,237)",
              "ticklen": 6,
              "ticks": "inside"
             }
            },
            "type": "scatter3d"
           }
          ],
          "scattercarpet": [
           {
            "marker": {
             "colorbar": {
              "outlinewidth": 0,
              "tickcolor": "rgb(237,237,237)",
              "ticklen": 6,
              "ticks": "inside"
             }
            },
            "type": "scattercarpet"
           }
          ],
          "scattergeo": [
           {
            "marker": {
             "colorbar": {
              "outlinewidth": 0,
              "tickcolor": "rgb(237,237,237)",
              "ticklen": 6,
              "ticks": "inside"
             }
            },
            "type": "scattergeo"
           }
          ],
          "scattergl": [
           {
            "marker": {
             "colorbar": {
              "outlinewidth": 0,
              "tickcolor": "rgb(237,237,237)",
              "ticklen": 6,
              "ticks": "inside"
             }
            },
            "type": "scattergl"
           }
          ],
          "scattermapbox": [
           {
            "marker": {
             "colorbar": {
              "outlinewidth": 0,
              "tickcolor": "rgb(237,237,237)",
              "ticklen": 6,
              "ticks": "inside"
             }
            },
            "type": "scattermapbox"
           }
          ],
          "scatterpolar": [
           {
            "marker": {
             "colorbar": {
              "outlinewidth": 0,
              "tickcolor": "rgb(237,237,237)",
              "ticklen": 6,
              "ticks": "inside"
             }
            },
            "type": "scatterpolar"
           }
          ],
          "scatterpolargl": [
           {
            "marker": {
             "colorbar": {
              "outlinewidth": 0,
              "tickcolor": "rgb(237,237,237)",
              "ticklen": 6,
              "ticks": "inside"
             }
            },
            "type": "scatterpolargl"
           }
          ],
          "scatterternary": [
           {
            "marker": {
             "colorbar": {
              "outlinewidth": 0,
              "tickcolor": "rgb(237,237,237)",
              "ticklen": 6,
              "ticks": "inside"
             }
            },
            "type": "scatterternary"
           }
          ],
          "surface": [
           {
            "colorbar": {
             "outlinewidth": 0,
             "tickcolor": "rgb(237,237,237)",
             "ticklen": 6,
             "ticks": "inside"
            },
            "colorscale": [
             [
              0,
              "rgb(20,44,66)"
             ],
             [
              1,
              "rgb(90,179,244)"
             ]
            ],
            "type": "surface"
           }
          ],
          "table": [
           {
            "cells": {
             "fill": {
              "color": "rgb(237,237,237)"
             },
             "line": {
              "color": "white"
             }
            },
            "header": {
             "fill": {
              "color": "rgb(217,217,217)"
             },
             "line": {
              "color": "white"
             }
            },
            "type": "table"
           }
          ]
         },
         "layout": {
          "annotationdefaults": {
           "arrowhead": 0,
           "arrowwidth": 1
          },
          "autotypenumbers": "strict",
          "coloraxis": {
           "colorbar": {
            "outlinewidth": 0,
            "tickcolor": "rgb(237,237,237)",
            "ticklen": 6,
            "ticks": "inside"
           }
          },
          "colorscale": {
           "sequential": [
            [
             0,
             "rgb(20,44,66)"
            ],
            [
             1,
             "rgb(90,179,244)"
            ]
           ],
           "sequentialminus": [
            [
             0,
             "rgb(20,44,66)"
            ],
            [
             1,
             "rgb(90,179,244)"
            ]
           ]
          },
          "colorway": [
           "#F8766D",
           "#A3A500",
           "#00BF7D",
           "#00B0F6",
           "#E76BF3"
          ],
          "font": {
           "color": "rgb(51,51,51)"
          },
          "geo": {
           "bgcolor": "white",
           "lakecolor": "white",
           "landcolor": "rgb(237,237,237)",
           "showlakes": true,
           "showland": true,
           "subunitcolor": "white"
          },
          "hoverlabel": {
           "align": "left"
          },
          "hovermode": "closest",
          "paper_bgcolor": "white",
          "plot_bgcolor": "rgb(237,237,237)",
          "polar": {
           "angularaxis": {
            "gridcolor": "white",
            "linecolor": "white",
            "showgrid": true,
            "tickcolor": "rgb(51,51,51)",
            "ticks": "outside"
           },
           "bgcolor": "rgb(237,237,237)",
           "radialaxis": {
            "gridcolor": "white",
            "linecolor": "white",
            "showgrid": true,
            "tickcolor": "rgb(51,51,51)",
            "ticks": "outside"
           }
          },
          "scene": {
           "xaxis": {
            "backgroundcolor": "rgb(237,237,237)",
            "gridcolor": "white",
            "gridwidth": 2,
            "linecolor": "white",
            "showbackground": true,
            "showgrid": true,
            "tickcolor": "rgb(51,51,51)",
            "ticks": "outside",
            "zerolinecolor": "white"
           },
           "yaxis": {
            "backgroundcolor": "rgb(237,237,237)",
            "gridcolor": "white",
            "gridwidth": 2,
            "linecolor": "white",
            "showbackground": true,
            "showgrid": true,
            "tickcolor": "rgb(51,51,51)",
            "ticks": "outside",
            "zerolinecolor": "white"
           },
           "zaxis": {
            "backgroundcolor": "rgb(237,237,237)",
            "gridcolor": "white",
            "gridwidth": 2,
            "linecolor": "white",
            "showbackground": true,
            "showgrid": true,
            "tickcolor": "rgb(51,51,51)",
            "ticks": "outside",
            "zerolinecolor": "white"
           }
          },
          "shapedefaults": {
           "fillcolor": "black",
           "line": {
            "width": 0
           },
           "opacity": 0.3
          },
          "ternary": {
           "aaxis": {
            "gridcolor": "white",
            "linecolor": "white",
            "showgrid": true,
            "tickcolor": "rgb(51,51,51)",
            "ticks": "outside"
           },
           "baxis": {
            "gridcolor": "white",
            "linecolor": "white",
            "showgrid": true,
            "tickcolor": "rgb(51,51,51)",
            "ticks": "outside"
           },
           "bgcolor": "rgb(237,237,237)",
           "caxis": {
            "gridcolor": "white",
            "linecolor": "white",
            "showgrid": true,
            "tickcolor": "rgb(51,51,51)",
            "ticks": "outside"
           }
          },
          "xaxis": {
           "automargin": true,
           "gridcolor": "white",
           "linecolor": "white",
           "showgrid": true,
           "tickcolor": "rgb(51,51,51)",
           "ticks": "outside",
           "title": {
            "standoff": 15
           },
           "zerolinecolor": "white"
          },
          "yaxis": {
           "automargin": true,
           "gridcolor": "white",
           "linecolor": "white",
           "showgrid": true,
           "tickcolor": "rgb(51,51,51)",
           "ticks": "outside",
           "title": {
            "standoff": 15
           },
           "zerolinecolor": "white"
          }
         }
        },
        "title": {
         "font": {
          "size": 21
         },
         "text": "Comparación de Precios por Marca con y sin MOVES III"
        },
        "width": 1300,
        "xaxis": {
         "color": "black",
         "tickfont": {
          "size": 19
         }
        },
        "yaxis": {
         "color": "black",
         "range": [
          0,
          138387
         ],
         "tickfont": {
          "size": 16
         }
        }
       }
      }
     },
     "metadata": {},
     "output_type": "display_data"
    }
   ],
   "source": [
    "# Datos\n",
    "marcas = precios[\"Marca\"].unique()\n",
    "precio_original = precios[\"Precio_original\"]\n",
    "precio_sin_achatarramiento = precios[\"Precio_MOVESIII(sin_achatarramiento)\"]\n",
    "precio_con_achatarramiento = precios[\"Precio_MOVESIII(con_achatarramiento)\"]\n",
    "\n",
    "valor_maximo = max(precio_original.max(), precio_sin_achatarramiento.max(), precio_con_achatarramiento.max())\n",
    "\n",
    "# Crear la figura\n",
    "fig = go.Figure()\n",
    "\n",
    "# Añadir barras para cada categoría de precios con el formato de millares\n",
    "fig.add_trace(go.Bar(\n",
    "    x=marcas,\n",
    "    y=precio_con_achatarramiento,\n",
    "    name=\"Precio con Achatarramiento\",\n",
    "    marker=dict(color=\"#84e544\", cornerradius=20),\n",
    "    text=[f\"{valor:,.0f} €\" for valor in precio_con_achatarramiento],  # Formato de millares\n",
    "    textposition='auto',\n",
    "    textfont=dict(size=20, color='black')\n",
    "))\n",
    "\n",
    "fig.add_trace(go.Bar(\n",
    "    x=marcas,\n",
    "    y=precio_sin_achatarramiento,\n",
    "    name=\"Precio sin Achatarramiento\",\n",
    "    marker=dict(color=\"#49d19a\", cornerradius=20),\n",
    "    text=[f\"{valor:,.0f} €\" for valor in precio_sin_achatarramiento],  # Formato de millares\n",
    "    textposition='auto',\n",
    "    textfont=dict(size=20, color='black')\n",
    "))\n",
    "\n",
    "fig.add_trace(go.Bar(\n",
    "    x=marcas,\n",
    "    y=precio_original,\n",
    "    name=\"Precio Original\",\n",
    "    marker=dict(color=\"#1bb29f\", cornerradius=20),\n",
    "    text=[f\"{valor:,.0f} €\" for valor in precio_original],  # Formato de millares\n",
    "    textposition='auto',\n",
    "    textfont=dict(size=20, color='black')\n",
    "))\n",
    "\n",
    "# Configurar el diseño\n",
    "fig.update_layout(\n",
    "    title=\"Comparación de Precios por Marca con y sin MOVES III\",\n",
    "    title_font_size=21,\n",
    "    xaxis=dict(tickfont=dict(size=19), color='black'),\n",
    "    yaxis=dict(tickfont=dict(size=16), color='black', range=[0, valor_maximo * 2.83]),\n",
    "    barmode='stack',  # Apilar las barras por marca\n",
    "    margin=dict(l=40, r=40, t=60, b=40),\n",
    "    showlegend=True,\n",
    "    height=500,\n",
    "    width=1300,\n",
    "    legend=dict(\n",
    "        x=0.745,  # Posicionamiento de la leyenda más cerca del gráfico\n",
    "        y=1.005,\n",
    "        font=dict(size=19)  # Tamaño de la fuente de la leyenda\n",
    "    )\n",
    ")\n",
    "\n",
    "# Mostrar el gráfico\n",
    "fig.show()\n"
   ]
  },
  {
   "cell_type": "markdown",
   "metadata": {},
   "source": [
    "#### Genial, ahora vamos con las **Autonomías** de algunas de las marcas top en eléctricos"
   ]
  },
  {
   "cell_type": "code",
   "execution_count": 43,
   "metadata": {},
   "outputs": [
    {
     "data": {
      "text/html": [
       "<div>\n",
       "<style scoped>\n",
       "    .dataframe tbody tr th:only-of-type {\n",
       "        vertical-align: middle;\n",
       "    }\n",
       "\n",
       "    .dataframe tbody tr th {\n",
       "        vertical-align: top;\n",
       "    }\n",
       "\n",
       "    .dataframe thead th {\n",
       "        text-align: right;\n",
       "    }\n",
       "</style>\n",
       "<table border=\"1\" class=\"dataframe\">\n",
       "  <thead>\n",
       "    <tr style=\"text-align: right;\">\n",
       "      <th></th>\n",
       "      <th>Marca</th>\n",
       "      <th>Modelo</th>\n",
       "      <th>Autonomia_WLTP(km)</th>\n",
       "      <th>Autonomia_estimada(km)</th>\n",
       "    </tr>\n",
       "  </thead>\n",
       "  <tbody>\n",
       "    <tr>\n",
       "      <th>0</th>\n",
       "      <td>Tesla</td>\n",
       "      <td>Model 3</td>\n",
       "      <td>448-602</td>\n",
       "      <td>400-500</td>\n",
       "    </tr>\n",
       "    <tr>\n",
       "      <th>1</th>\n",
       "      <td>Hyundai</td>\n",
       "      <td>Kona Eléctrico</td>\n",
       "      <td>305-484</td>\n",
       "      <td>250-400</td>\n",
       "    </tr>\n",
       "    <tr>\n",
       "      <th>2</th>\n",
       "      <td>Renault</td>\n",
       "      <td>ZOE</td>\n",
       "      <td>395</td>\n",
       "      <td>300-350</td>\n",
       "    </tr>\n",
       "    <tr>\n",
       "      <th>3</th>\n",
       "      <td>Volkswagen</td>\n",
       "      <td>ID.3</td>\n",
       "      <td>330-550</td>\n",
       "      <td>280-450</td>\n",
       "    </tr>\n",
       "    <tr>\n",
       "      <th>4</th>\n",
       "      <td>Nissan</td>\n",
       "      <td>Leaf</td>\n",
       "      <td>270-385</td>\n",
       "      <td>230-320</td>\n",
       "    </tr>\n",
       "    <tr>\n",
       "      <th>5</th>\n",
       "      <td>Peugeot</td>\n",
       "      <td>e-208</td>\n",
       "      <td>362</td>\n",
       "      <td>280-320</td>\n",
       "    </tr>\n",
       "    <tr>\n",
       "      <th>6</th>\n",
       "      <td>Kia</td>\n",
       "      <td>e-Niro</td>\n",
       "      <td>455</td>\n",
       "      <td>370-400</td>\n",
       "    </tr>\n",
       "  </tbody>\n",
       "</table>\n",
       "</div>"
      ],
      "text/plain": [
       "        Marca           Modelo Autonomia_WLTP(km) Autonomia_estimada(km)\n",
       "0       Tesla          Model 3            448-602                400-500\n",
       "1     Hyundai   Kona Eléctrico            305-484                250-400\n",
       "2     Renault              ZOE                395                300-350\n",
       "3  Volkswagen             ID.3            330-550                280-450\n",
       "4      Nissan             Leaf            270-385                230-320\n",
       "5     Peugeot            e-208                362                280-320\n",
       "6         Kia           e-Niro                455                370-400"
      ]
     },
     "execution_count": 43,
     "metadata": {},
     "output_type": "execute_result"
    }
   ],
   "source": [
    "autonomias = pd.read_csv(\"data/autonomia_modelos_electricos.csv\")\n",
    "autonomias"
   ]
  },
  {
   "cell_type": "code",
   "execution_count": 44,
   "metadata": {},
   "outputs": [
    {
     "data": {
      "text/html": [
       "<div>\n",
       "<style scoped>\n",
       "    .dataframe tbody tr th:only-of-type {\n",
       "        vertical-align: middle;\n",
       "    }\n",
       "\n",
       "    .dataframe tbody tr th {\n",
       "        vertical-align: top;\n",
       "    }\n",
       "\n",
       "    .dataframe thead th {\n",
       "        text-align: right;\n",
       "    }\n",
       "</style>\n",
       "<table border=\"1\" class=\"dataframe\">\n",
       "  <thead>\n",
       "    <tr style=\"text-align: right;\">\n",
       "      <th></th>\n",
       "      <th>Marca</th>\n",
       "      <th>Modelo</th>\n",
       "      <th>autonomia_media_WLPT(km)</th>\n",
       "      <th>autonomia_media_estimada(km)</th>\n",
       "    </tr>\n",
       "  </thead>\n",
       "  <tbody>\n",
       "    <tr>\n",
       "      <th>0</th>\n",
       "      <td>Tesla</td>\n",
       "      <td>Model 3</td>\n",
       "      <td>525.0</td>\n",
       "      <td>450.0</td>\n",
       "    </tr>\n",
       "    <tr>\n",
       "      <th>1</th>\n",
       "      <td>Hyundai</td>\n",
       "      <td>Kona Eléctrico</td>\n",
       "      <td>394.5</td>\n",
       "      <td>325.0</td>\n",
       "    </tr>\n",
       "    <tr>\n",
       "      <th>2</th>\n",
       "      <td>Renault</td>\n",
       "      <td>ZOE</td>\n",
       "      <td>395.0</td>\n",
       "      <td>325.0</td>\n",
       "    </tr>\n",
       "    <tr>\n",
       "      <th>3</th>\n",
       "      <td>Volkswagen</td>\n",
       "      <td>ID.3</td>\n",
       "      <td>440.0</td>\n",
       "      <td>365.0</td>\n",
       "    </tr>\n",
       "    <tr>\n",
       "      <th>4</th>\n",
       "      <td>Nissan</td>\n",
       "      <td>Leaf</td>\n",
       "      <td>327.5</td>\n",
       "      <td>275.0</td>\n",
       "    </tr>\n",
       "    <tr>\n",
       "      <th>5</th>\n",
       "      <td>Peugeot</td>\n",
       "      <td>e-208</td>\n",
       "      <td>362.0</td>\n",
       "      <td>300.0</td>\n",
       "    </tr>\n",
       "    <tr>\n",
       "      <th>6</th>\n",
       "      <td>Kia</td>\n",
       "      <td>e-Niro</td>\n",
       "      <td>455.0</td>\n",
       "      <td>385.0</td>\n",
       "    </tr>\n",
       "  </tbody>\n",
       "</table>\n",
       "</div>"
      ],
      "text/plain": [
       "        Marca           Modelo  autonomia_media_WLPT(km)  \\\n",
       "0       Tesla          Model 3                     525.0   \n",
       "1     Hyundai   Kona Eléctrico                     394.5   \n",
       "2     Renault              ZOE                     395.0   \n",
       "3  Volkswagen             ID.3                     440.0   \n",
       "4      Nissan             Leaf                     327.5   \n",
       "5     Peugeot            e-208                     362.0   \n",
       "6         Kia           e-Niro                     455.0   \n",
       "\n",
       "   autonomia_media_estimada(km)  \n",
       "0                         450.0  \n",
       "1                         325.0  \n",
       "2                         325.0  \n",
       "3                         365.0  \n",
       "4                         275.0  \n",
       "5                         300.0  \n",
       "6                         385.0  "
      ]
     },
     "execution_count": 44,
     "metadata": {},
     "output_type": "execute_result"
    }
   ],
   "source": [
    "autonomia_media_estimada = []\n",
    "autonomia_media_WLPT = []\n",
    "\n",
    "for value in autonomias[\"Autonomia_estimada(km)\"]:\n",
    "    if \"-\" in value:\n",
    "        media = (int(value.split('-')[0]) + int(value.split('-')[1])) / 2\n",
    "        autonomia_media_estimada.append(media)\n",
    "    else:\n",
    "        autonomia_media_estimada.append(media)\n",
    "\n",
    "for value in autonomias[\"Autonomia_WLTP(km)\"]:\n",
    "    if \"-\" in value:\n",
    "        media = (int(value.split('-')[0]) + int(value.split('-')[1])) / 2\n",
    "        autonomia_media_WLPT.append(media)\n",
    "    else:\n",
    "        autonomia_media_WLPT.append(int(value))\n",
    "\n",
    "autonomias[\"autonomia_media_WLPT(km)\"] = autonomia_media_WLPT\n",
    "autonomias[\"autonomia_media_estimada(km)\"] = autonomia_media_estimada\n",
    "autonomias = autonomias.drop([\"Autonomia_estimada(km)\", \"Autonomia_WLTP(km)\"], axis=1)\n",
    "autonomias"
   ]
  },
  {
   "cell_type": "code",
   "execution_count": 49,
   "metadata": {},
   "outputs": [],
   "source": [
    "autonomias = autonomias.sort_values(\"autonomia_media_WLPT(km)\", ascending=False)"
   ]
  },
  {
   "cell_type": "code",
   "execution_count": 66,
   "metadata": {},
   "outputs": [
    {
     "data": {
      "application/vnd.plotly.v1+json": {
       "config": {
        "plotlyServerURL": "https://plot.ly"
       },
       "data": [
        {
         "line": {
          "color": "#28a1dc",
          "dash": "dash",
          "width": 3
         },
         "mode": "lines",
         "name": "Autonomía Media Combustión",
         "type": "scatter",
         "x": [
          "Tesla",
          "Kia",
          "Volkswagen",
          "Renault",
          "Hyundai",
          "Peugeot",
          "Nissan"
         ],
         "y": [
          750,
          750,
          750,
          750,
          750,
          750,
          750
         ]
        },
        {
         "fill": "tozeroy",
         "line": {
          "color": "#24f9c8",
          "width": 2
         },
         "mode": "lines+markers+text",
         "name": "Autonomía Media WLPT",
         "text": [
          "525 Kms",
          "455 Kms",
          "440 Kms",
          "395 Kms",
          "394 Kms",
          "362 Kms",
          "328 Kms"
         ],
         "textfont": {
          "color": "black",
          "size": 21
         },
         "textposition": [
          "top center",
          "top center",
          "top center",
          "top center",
          "top center",
          "top center",
          "top center"
         ],
         "type": "scatter",
         "x": [
          "Tesla",
          "Kia",
          "Volkswagen",
          "Renault",
          "Hyundai",
          "Peugeot",
          "Nissan"
         ],
         "y": [
          525,
          455,
          440,
          395,
          394.5,
          362,
          327.5
         ]
        },
        {
         "fill": "tozeroy",
         "line": {
          "color": "#13a29c",
          "width": 2
         },
         "mode": "lines+markers+text",
         "name": "Autonomía Media Estimada",
         "text": [
          "450 Kms",
          "385 Kms",
          "365 Kms",
          "325 Kms",
          "325 Kms",
          "300 Kms",
          "275 Kms"
         ],
         "textfont": {
          "color": "black",
          "size": 20
         },
         "textposition": [
          "bottom center",
          "bottom center",
          "bottom center",
          "bottom center",
          "bottom center",
          "bottom center",
          "bottom center"
         ],
         "type": "scatter",
         "x": [
          "Tesla",
          "Kia",
          "Volkswagen",
          "Renault",
          "Hyundai",
          "Peugeot",
          "Nissan"
         ],
         "y": [
          450,
          385,
          365,
          325,
          325,
          300,
          275
         ]
        }
       ],
       "layout": {
        "legend": {
         "font": {
          "size": 20
         },
         "x": 0.699,
         "y": 1.005
        },
        "margin": {
         "b": 40,
         "l": 60,
         "r": 60,
         "t": 50
        },
        "showlegend": true,
        "template": {
         "data": {
          "bar": [
           {
            "error_x": {
             "color": "rgb(51,51,51)"
            },
            "error_y": {
             "color": "rgb(51,51,51)"
            },
            "marker": {
             "line": {
              "color": "rgb(237,237,237)",
              "width": 0.5
             },
             "pattern": {
              "fillmode": "overlay",
              "size": 10,
              "solidity": 0.2
             }
            },
            "type": "bar"
           }
          ],
          "barpolar": [
           {
            "marker": {
             "line": {
              "color": "rgb(237,237,237)",
              "width": 0.5
             },
             "pattern": {
              "fillmode": "overlay",
              "size": 10,
              "solidity": 0.2
             }
            },
            "type": "barpolar"
           }
          ],
          "carpet": [
           {
            "aaxis": {
             "endlinecolor": "rgb(51,51,51)",
             "gridcolor": "white",
             "linecolor": "white",
             "minorgridcolor": "white",
             "startlinecolor": "rgb(51,51,51)"
            },
            "baxis": {
             "endlinecolor": "rgb(51,51,51)",
             "gridcolor": "white",
             "linecolor": "white",
             "minorgridcolor": "white",
             "startlinecolor": "rgb(51,51,51)"
            },
            "type": "carpet"
           }
          ],
          "choropleth": [
           {
            "colorbar": {
             "outlinewidth": 0,
             "tickcolor": "rgb(237,237,237)",
             "ticklen": 6,
             "ticks": "inside"
            },
            "type": "choropleth"
           }
          ],
          "contour": [
           {
            "colorbar": {
             "outlinewidth": 0,
             "tickcolor": "rgb(237,237,237)",
             "ticklen": 6,
             "ticks": "inside"
            },
            "colorscale": [
             [
              0,
              "rgb(20,44,66)"
             ],
             [
              1,
              "rgb(90,179,244)"
             ]
            ],
            "type": "contour"
           }
          ],
          "contourcarpet": [
           {
            "colorbar": {
             "outlinewidth": 0,
             "tickcolor": "rgb(237,237,237)",
             "ticklen": 6,
             "ticks": "inside"
            },
            "type": "contourcarpet"
           }
          ],
          "heatmap": [
           {
            "colorbar": {
             "outlinewidth": 0,
             "tickcolor": "rgb(237,237,237)",
             "ticklen": 6,
             "ticks": "inside"
            },
            "colorscale": [
             [
              0,
              "rgb(20,44,66)"
             ],
             [
              1,
              "rgb(90,179,244)"
             ]
            ],
            "type": "heatmap"
           }
          ],
          "heatmapgl": [
           {
            "colorbar": {
             "outlinewidth": 0,
             "tickcolor": "rgb(237,237,237)",
             "ticklen": 6,
             "ticks": "inside"
            },
            "colorscale": [
             [
              0,
              "rgb(20,44,66)"
             ],
             [
              1,
              "rgb(90,179,244)"
             ]
            ],
            "type": "heatmapgl"
           }
          ],
          "histogram": [
           {
            "marker": {
             "pattern": {
              "fillmode": "overlay",
              "size": 10,
              "solidity": 0.2
             }
            },
            "type": "histogram"
           }
          ],
          "histogram2d": [
           {
            "colorbar": {
             "outlinewidth": 0,
             "tickcolor": "rgb(237,237,237)",
             "ticklen": 6,
             "ticks": "inside"
            },
            "colorscale": [
             [
              0,
              "rgb(20,44,66)"
             ],
             [
              1,
              "rgb(90,179,244)"
             ]
            ],
            "type": "histogram2d"
           }
          ],
          "histogram2dcontour": [
           {
            "colorbar": {
             "outlinewidth": 0,
             "tickcolor": "rgb(237,237,237)",
             "ticklen": 6,
             "ticks": "inside"
            },
            "colorscale": [
             [
              0,
              "rgb(20,44,66)"
             ],
             [
              1,
              "rgb(90,179,244)"
             ]
            ],
            "type": "histogram2dcontour"
           }
          ],
          "mesh3d": [
           {
            "colorbar": {
             "outlinewidth": 0,
             "tickcolor": "rgb(237,237,237)",
             "ticklen": 6,
             "ticks": "inside"
            },
            "type": "mesh3d"
           }
          ],
          "parcoords": [
           {
            "line": {
             "colorbar": {
              "outlinewidth": 0,
              "tickcolor": "rgb(237,237,237)",
              "ticklen": 6,
              "ticks": "inside"
             }
            },
            "type": "parcoords"
           }
          ],
          "pie": [
           {
            "automargin": true,
            "type": "pie"
           }
          ],
          "scatter": [
           {
            "fillpattern": {
             "fillmode": "overlay",
             "size": 10,
             "solidity": 0.2
            },
            "type": "scatter"
           }
          ],
          "scatter3d": [
           {
            "line": {
             "colorbar": {
              "outlinewidth": 0,
              "tickcolor": "rgb(237,237,237)",
              "ticklen": 6,
              "ticks": "inside"
             }
            },
            "marker": {
             "colorbar": {
              "outlinewidth": 0,
              "tickcolor": "rgb(237,237,237)",
              "ticklen": 6,
              "ticks": "inside"
             }
            },
            "type": "scatter3d"
           }
          ],
          "scattercarpet": [
           {
            "marker": {
             "colorbar": {
              "outlinewidth": 0,
              "tickcolor": "rgb(237,237,237)",
              "ticklen": 6,
              "ticks": "inside"
             }
            },
            "type": "scattercarpet"
           }
          ],
          "scattergeo": [
           {
            "marker": {
             "colorbar": {
              "outlinewidth": 0,
              "tickcolor": "rgb(237,237,237)",
              "ticklen": 6,
              "ticks": "inside"
             }
            },
            "type": "scattergeo"
           }
          ],
          "scattergl": [
           {
            "marker": {
             "colorbar": {
              "outlinewidth": 0,
              "tickcolor": "rgb(237,237,237)",
              "ticklen": 6,
              "ticks": "inside"
             }
            },
            "type": "scattergl"
           }
          ],
          "scattermapbox": [
           {
            "marker": {
             "colorbar": {
              "outlinewidth": 0,
              "tickcolor": "rgb(237,237,237)",
              "ticklen": 6,
              "ticks": "inside"
             }
            },
            "type": "scattermapbox"
           }
          ],
          "scatterpolar": [
           {
            "marker": {
             "colorbar": {
              "outlinewidth": 0,
              "tickcolor": "rgb(237,237,237)",
              "ticklen": 6,
              "ticks": "inside"
             }
            },
            "type": "scatterpolar"
           }
          ],
          "scatterpolargl": [
           {
            "marker": {
             "colorbar": {
              "outlinewidth": 0,
              "tickcolor": "rgb(237,237,237)",
              "ticklen": 6,
              "ticks": "inside"
             }
            },
            "type": "scatterpolargl"
           }
          ],
          "scatterternary": [
           {
            "marker": {
             "colorbar": {
              "outlinewidth": 0,
              "tickcolor": "rgb(237,237,237)",
              "ticklen": 6,
              "ticks": "inside"
             }
            },
            "type": "scatterternary"
           }
          ],
          "surface": [
           {
            "colorbar": {
             "outlinewidth": 0,
             "tickcolor": "rgb(237,237,237)",
             "ticklen": 6,
             "ticks": "inside"
            },
            "colorscale": [
             [
              0,
              "rgb(20,44,66)"
             ],
             [
              1,
              "rgb(90,179,244)"
             ]
            ],
            "type": "surface"
           }
          ],
          "table": [
           {
            "cells": {
             "fill": {
              "color": "rgb(237,237,237)"
             },
             "line": {
              "color": "white"
             }
            },
            "header": {
             "fill": {
              "color": "rgb(217,217,217)"
             },
             "line": {
              "color": "white"
             }
            },
            "type": "table"
           }
          ]
         },
         "layout": {
          "annotationdefaults": {
           "arrowhead": 0,
           "arrowwidth": 1
          },
          "autotypenumbers": "strict",
          "coloraxis": {
           "colorbar": {
            "outlinewidth": 0,
            "tickcolor": "rgb(237,237,237)",
            "ticklen": 6,
            "ticks": "inside"
           }
          },
          "colorscale": {
           "sequential": [
            [
             0,
             "rgb(20,44,66)"
            ],
            [
             1,
             "rgb(90,179,244)"
            ]
           ],
           "sequentialminus": [
            [
             0,
             "rgb(20,44,66)"
            ],
            [
             1,
             "rgb(90,179,244)"
            ]
           ]
          },
          "colorway": [
           "#F8766D",
           "#A3A500",
           "#00BF7D",
           "#00B0F6",
           "#E76BF3"
          ],
          "font": {
           "color": "rgb(51,51,51)"
          },
          "geo": {
           "bgcolor": "white",
           "lakecolor": "white",
           "landcolor": "rgb(237,237,237)",
           "showlakes": true,
           "showland": true,
           "subunitcolor": "white"
          },
          "hoverlabel": {
           "align": "left"
          },
          "hovermode": "closest",
          "paper_bgcolor": "white",
          "plot_bgcolor": "rgb(237,237,237)",
          "polar": {
           "angularaxis": {
            "gridcolor": "white",
            "linecolor": "white",
            "showgrid": true,
            "tickcolor": "rgb(51,51,51)",
            "ticks": "outside"
           },
           "bgcolor": "rgb(237,237,237)",
           "radialaxis": {
            "gridcolor": "white",
            "linecolor": "white",
            "showgrid": true,
            "tickcolor": "rgb(51,51,51)",
            "ticks": "outside"
           }
          },
          "scene": {
           "xaxis": {
            "backgroundcolor": "rgb(237,237,237)",
            "gridcolor": "white",
            "gridwidth": 2,
            "linecolor": "white",
            "showbackground": true,
            "showgrid": true,
            "tickcolor": "rgb(51,51,51)",
            "ticks": "outside",
            "zerolinecolor": "white"
           },
           "yaxis": {
            "backgroundcolor": "rgb(237,237,237)",
            "gridcolor": "white",
            "gridwidth": 2,
            "linecolor": "white",
            "showbackground": true,
            "showgrid": true,
            "tickcolor": "rgb(51,51,51)",
            "ticks": "outside",
            "zerolinecolor": "white"
           },
           "zaxis": {
            "backgroundcolor": "rgb(237,237,237)",
            "gridcolor": "white",
            "gridwidth": 2,
            "linecolor": "white",
            "showbackground": true,
            "showgrid": true,
            "tickcolor": "rgb(51,51,51)",
            "ticks": "outside",
            "zerolinecolor": "white"
           }
          },
          "shapedefaults": {
           "fillcolor": "black",
           "line": {
            "width": 0
           },
           "opacity": 0.3
          },
          "ternary": {
           "aaxis": {
            "gridcolor": "white",
            "linecolor": "white",
            "showgrid": true,
            "tickcolor": "rgb(51,51,51)",
            "ticks": "outside"
           },
           "baxis": {
            "gridcolor": "white",
            "linecolor": "white",
            "showgrid": true,
            "tickcolor": "rgb(51,51,51)",
            "ticks": "outside"
           },
           "bgcolor": "rgb(237,237,237)",
           "caxis": {
            "gridcolor": "white",
            "linecolor": "white",
            "showgrid": true,
            "tickcolor": "rgb(51,51,51)",
            "ticks": "outside"
           }
          },
          "xaxis": {
           "automargin": true,
           "gridcolor": "white",
           "linecolor": "white",
           "showgrid": true,
           "tickcolor": "rgb(51,51,51)",
           "ticks": "outside",
           "title": {
            "standoff": 15
           },
           "zerolinecolor": "white"
          },
          "yaxis": {
           "automargin": true,
           "gridcolor": "white",
           "linecolor": "white",
           "showgrid": true,
           "tickcolor": "rgb(51,51,51)",
           "ticks": "outside",
           "title": {
            "standoff": 15
           },
           "zerolinecolor": "white"
          }
         }
        },
        "title": {
         "font": {
          "size": 24
         },
         "text": "Comparación de Autonomía Media por Marca"
        },
        "xaxis": {
         "range": [
          -0.3,
          6.3
         ],
         "tickfont": {
          "size": 20
         },
         "title": {
          "font": {
           "size": 18
          }
         }
        },
        "yaxis": {
         "range": [
          0,
          840
         ],
         "tickfont": {
          "size": 15
         },
         "title": {
          "font": {
           "size": 18
          }
         }
        }
       }
      }
     },
     "metadata": {},
     "output_type": "display_data"
    }
   ],
   "source": [
    "# Crear la figura\n",
    "fig = go.Figure()\n",
    "\n",
    "# Definir el umbral para la posición del texto\n",
    "umbral = autonomias[\"autonomia_media_WLPT(km)\"].max()\n",
    "\n",
    "# Añadir línea discontinua para la \"Autonomía media de combustión\"\n",
    "fig.add_trace(go.Scatter(\n",
    "    x=autonomias[\"Marca\"],  # Eje X\n",
    "    y=[750] * len(autonomias[\"Marca\"]),  # Valor constante en 750 para cada punto en el eje X\n",
    "    mode='lines',\n",
    "    name=\"Autonomía Media Combustión\",\n",
    "    line=dict(color='#28a1dc', width=3, dash='dash')  # Línea discontinua en color gris\n",
    "))\n",
    "\n",
    "# Añadir la primera línea (autonomia_media_WLPT)\n",
    "fig.add_trace(go.Scatter(\n",
    "    x=autonomias[\"Marca\"],  # Eje X\n",
    "    y=autonomias[\"autonomia_media_WLPT(km)\"],  # Valores en Y para autonomia_media_WLPT\n",
    "    mode='lines+markers+text',  # Muestra la línea, puntos y texto\n",
    "    name=\"Autonomía Media WLPT\",\n",
    "    line=dict(color='#24f9c8', width=2),\n",
    "    fill='tozeroy',  # Rellenar el área bajo la línea\n",
    "    text=[f\"{valor:,.0f} Kms\" for valor in autonomias[\"autonomia_media_WLPT(km)\"]], # Texto en cada punto\n",
    "    textposition=[\n",
    "        'top center' if val == autonomias[\"autonomia_media_WLPT(km)\"].max() else \n",
    "        ('top center' if val == autonomias[\"autonomia_media_WLPT(km)\"].min() else \n",
    "         'top center' if val > umbral else 'top center')\n",
    "        for val in autonomias[\"autonomia_media_WLPT(km)\"]\n",
    "    ],\n",
    "    textfont=dict(size=21, color='black')\n",
    "))\n",
    "\n",
    "# Añadir la segunda línea (autonomia_media_estimada)\n",
    "fig.add_trace(go.Scatter(\n",
    "    x=autonomias[\"Marca\"],  # Eje X\n",
    "    y=autonomias[\"autonomia_media_estimada(km)\"],  # Valores en Y para autonomia_media_estimada\n",
    "    mode='lines+markers+text',  # Muestra la línea, puntos y texto\n",
    "    name=\"Autonomía Media Estimada\",\n",
    "    line=dict(color='#13a29c', width=2),\n",
    "    fill='tozeroy',  # Rellenar el área bajo la línea\n",
    "    text=[f\"{valor:,.0f} Kms\" for valor in autonomias[\"autonomia_media_estimada(km)\"]],  # Texto en cada punto\n",
    "    textposition=[\n",
    "        'bottom center' if val == autonomias[\"autonomia_media_estimada(km)\"].max() else \n",
    "        ('bottom center' if val == autonomias[\"autonomia_media_estimada(km)\"].min() else \n",
    "         'bottom center' if val > umbral else 'bottom center')\n",
    "        for val in autonomias[\"autonomia_media_estimada(km)\"]\n",
    "    ],\n",
    "    textfont=dict(size=20, color='black')\n",
    "))\n",
    "\n",
    "# Configurar el diseño del gráfico\n",
    "fig.update_layout(\n",
    "    title=\"Comparación de Autonomía Media por Marca\",\n",
    "    title_font_size=24,\n",
    "    # xaxis_title=\"Marca\",\n",
    "    xaxis_title_font_size=18,\n",
    "    # yaxis_title=\"Kilómetros\",\n",
    "    yaxis_title_font_size=18,\n",
    "    xaxis=dict(\n",
    "        tickfont=dict(size=20), \n",
    "        range=[-0.3, len(autonomias[\"Marca\"]) - 0.70]  # Extiende el rango del eje X\n",
    "    ), \n",
    "    yaxis=dict(\n",
    "        tickfont=dict(size=15),\n",
    "        range=[0, autonomias[[\"autonomia_media_WLPT(km)\", \"autonomia_media_estimada(km)\"]].max().max() * 1.6],  \n",
    "    ),\n",
    "    margin=dict(l=60, r=60, t=50, b=40),\n",
    "    showlegend=True,\n",
    "    legend=dict(\n",
    "        x=0.699,  # Posicionamiento de la leyenda más cerca del gráfico\n",
    "        y=1.005,\n",
    "        font=dict(size=20)  # Tamaño de la fuente de la leyenda\n",
    "    )\n",
    ")\n",
    "\n",
    "# Mostrar el gráfico\n",
    "fig.show()\n"
   ]
  }
 ],
 "metadata": {
  "kernelspec": {
   "display_name": "eda1.env",
   "language": "python",
   "name": "python3"
  },
  "language_info": {
   "codemirror_mode": {
    "name": "ipython",
    "version": 3
   },
   "file_extension": ".py",
   "mimetype": "text/x-python",
   "name": "python",
   "nbconvert_exporter": "python",
   "pygments_lexer": "ipython3",
   "version": "3.11.10"
  }
 },
 "nbformat": 4,
 "nbformat_minor": 2
}
